{
 "cells": [
  {
   "cell_type": "markdown",
   "id": "a6ec73ea",
   "metadata": {},
   "source": [
    "# Pandas alapok"
   ]
  },
  {
   "cell_type": "code",
   "id": "1816bb64",
   "metadata": {
    "ExecuteTime": {
     "end_time": "2024-10-15T10:35:41.690160Z",
     "start_time": "2024-10-15T10:35:41.687167Z"
    }
   },
   "source": [
    "import pandas as pd"
   ],
   "outputs": [],
   "execution_count": 36
  },
  {
   "cell_type": "markdown",
   "id": "6521b332",
   "metadata": {},
   "source": [
    "- A Pandas egy táblázatkezelő python alatt.\n",
    "- Táblázatos formában tárolhatunk vele adatokat, ahol az oszlopoknak neve van a sorok pedig indexelve vannak.\n",
    "- A táblázatok típusa a DataFrame."
   ]
  },
  {
   "cell_type": "code",
   "id": "73405ea2",
   "metadata": {
    "ExecuteTime": {
     "end_time": "2024-10-15T10:35:41.752061Z",
     "start_time": "2024-10-15T10:35:41.743758Z"
    }
   },
   "source": [
    "data = {\n",
    "    'Country': ['Hungary','Colombia','Chile','Equador','Nigeria'],\n",
    "    'Rank':[121,40,100,130,11]\n",
    "    }\n",
    "df = pd.DataFrame(data, index=['a', 'b', 'c', 'd', 'e'])\n",
    "df"
   ],
   "outputs": [
    {
     "data": {
      "text/plain": [
       "    Country  Rank\n",
       "a   Hungary   121\n",
       "b  Colombia    40\n",
       "c     Chile   100\n",
       "d   Equador   130\n",
       "e   Nigeria    11"
      ],
      "text/html": [
       "<div>\n",
       "<style scoped>\n",
       "    .dataframe tbody tr th:only-of-type {\n",
       "        vertical-align: middle;\n",
       "    }\n",
       "\n",
       "    .dataframe tbody tr th {\n",
       "        vertical-align: top;\n",
       "    }\n",
       "\n",
       "    .dataframe thead th {\n",
       "        text-align: right;\n",
       "    }\n",
       "</style>\n",
       "<table border=\"1\" class=\"dataframe\">\n",
       "  <thead>\n",
       "    <tr style=\"text-align: right;\">\n",
       "      <th></th>\n",
       "      <th>Country</th>\n",
       "      <th>Rank</th>\n",
       "    </tr>\n",
       "  </thead>\n",
       "  <tbody>\n",
       "    <tr>\n",
       "      <th>a</th>\n",
       "      <td>Hungary</td>\n",
       "      <td>121</td>\n",
       "    </tr>\n",
       "    <tr>\n",
       "      <th>b</th>\n",
       "      <td>Colombia</td>\n",
       "      <td>40</td>\n",
       "    </tr>\n",
       "    <tr>\n",
       "      <th>c</th>\n",
       "      <td>Chile</td>\n",
       "      <td>100</td>\n",
       "    </tr>\n",
       "    <tr>\n",
       "      <th>d</th>\n",
       "      <td>Equador</td>\n",
       "      <td>130</td>\n",
       "    </tr>\n",
       "    <tr>\n",
       "      <th>e</th>\n",
       "      <td>Nigeria</td>\n",
       "      <td>11</td>\n",
       "    </tr>\n",
       "  </tbody>\n",
       "</table>\n",
       "</div>"
      ]
     },
     "execution_count": 37,
     "metadata": {},
     "output_type": "execute_result"
    }
   ],
   "execution_count": 37
  },
  {
   "cell_type": "markdown",
   "id": "d9a73f95",
   "metadata": {},
   "source": [
    "### Adatok lekérdezése\n",
    "\n",
    "- Oszlopokat a nevük segítségével"
   ]
  },
  {
   "cell_type": "code",
   "id": "8d73a84b",
   "metadata": {
    "ExecuteTime": {
     "end_time": "2024-10-15T10:35:41.802550Z",
     "start_time": "2024-10-15T10:35:41.797149Z"
    }
   },
   "source": [
    "df['Country']"
   ],
   "outputs": [
    {
     "data": {
      "text/plain": [
       "a     Hungary\n",
       "b    Colombia\n",
       "c       Chile\n",
       "d     Equador\n",
       "e     Nigeria\n",
       "Name: Country, dtype: object"
      ]
     },
     "execution_count": 38,
     "metadata": {},
     "output_type": "execute_result"
    }
   ],
   "execution_count": 38
  },
  {
   "cell_type": "markdown",
   "id": "270ecdf5",
   "metadata": {},
   "source": [
    "- Sorokat szintén a nevükkel, viszont a loc objektumváltozó alatt"
   ]
  },
  {
   "cell_type": "code",
   "id": "1f481e5a",
   "metadata": {
    "ExecuteTime": {
     "end_time": "2024-10-15T10:35:41.957042Z",
     "start_time": "2024-10-15T10:35:41.951292Z"
    }
   },
   "source": [
    "df.loc[['a']]"
   ],
   "outputs": [
    {
     "data": {
      "text/plain": [
       "   Country  Rank\n",
       "a  Hungary   121"
      ],
      "text/html": [
       "<div>\n",
       "<style scoped>\n",
       "    .dataframe tbody tr th:only-of-type {\n",
       "        vertical-align: middle;\n",
       "    }\n",
       "\n",
       "    .dataframe tbody tr th {\n",
       "        vertical-align: top;\n",
       "    }\n",
       "\n",
       "    .dataframe thead th {\n",
       "        text-align: right;\n",
       "    }\n",
       "</style>\n",
       "<table border=\"1\" class=\"dataframe\">\n",
       "  <thead>\n",
       "    <tr style=\"text-align: right;\">\n",
       "      <th></th>\n",
       "      <th>Country</th>\n",
       "      <th>Rank</th>\n",
       "    </tr>\n",
       "  </thead>\n",
       "  <tbody>\n",
       "    <tr>\n",
       "      <th>a</th>\n",
       "      <td>Hungary</td>\n",
       "      <td>121</td>\n",
       "    </tr>\n",
       "  </tbody>\n",
       "</table>\n",
       "</div>"
      ]
     },
     "execution_count": 39,
     "metadata": {},
     "output_type": "execute_result"
    }
   ],
   "execution_count": 39
  },
  {
   "cell_type": "markdown",
   "id": "2e39cdb7",
   "metadata": {},
   "source": [
    "- Cellát az oszlop és a sor nevével"
   ]
  },
  {
   "cell_type": "code",
   "id": "c5c7730e",
   "metadata": {
    "scrolled": true,
    "ExecuteTime": {
     "end_time": "2024-10-15T10:35:42.292333Z",
     "start_time": "2024-10-15T10:35:42.286608Z"
    }
   },
   "source": [
    "df['Country']['a']"
   ],
   "outputs": [
    {
     "data": {
      "text/plain": [
       "'Hungary'"
      ]
     },
     "execution_count": 40,
     "metadata": {},
     "output_type": "execute_result"
    }
   ],
   "execution_count": 40
  },
  {
   "cell_type": "markdown",
   "id": "b6a79120",
   "metadata": {},
   "source": [
    "- Vagy az iloc objektumváltozó alatt a sorszámával tudunk lekérdezni"
   ]
  },
  {
   "cell_type": "code",
   "id": "b5ab73c3",
   "metadata": {
    "ExecuteTime": {
     "end_time": "2024-10-15T10:35:42.521237Z",
     "start_time": "2024-10-15T10:35:42.515470Z"
    }
   },
   "source": [
    "df.iloc[0][0]"
   ],
   "outputs": [
    {
     "name": "stderr",
     "output_type": "stream",
     "text": [
      "C:\\Users\\rtornai\\AppData\\Local\\Temp\\ipykernel_11284\\3629555008.py:1: FutureWarning: Series.__getitem__ treating keys as positions is deprecated. In a future version, integer keys will always be treated as labels (consistent with DataFrame behavior). To access a value by position, use `ser.iloc[pos]`\n",
      "  df.iloc[0][0]\n"
     ]
    },
    {
     "data": {
      "text/plain": [
       "'Hungary'"
      ]
     },
     "execution_count": 41,
     "metadata": {},
     "output_type": "execute_result"
    }
   ],
   "execution_count": 41
  },
  {
   "cell_type": "markdown",
   "id": "8c0f86f9",
   "metadata": {},
   "source": [
    "### Adatok szűrése"
   ]
  },
  {
   "cell_type": "markdown",
   "id": "62689921",
   "metadata": {},
   "source": [
    "- Az adatokat egy if feltételhez hasonló módon tudjuk szűrni"
   ]
  },
  {
   "cell_type": "code",
   "id": "9eb3ac9c",
   "metadata": {
    "ExecuteTime": {
     "end_time": "2024-10-15T10:35:42.722592Z",
     "start_time": "2024-10-15T10:35:42.715499Z"
    }
   },
   "source": [
    "df[df[\"Rank\"] < 100 ]"
   ],
   "outputs": [
    {
     "data": {
      "text/plain": [
       "    Country  Rank\n",
       "b  Colombia    40\n",
       "e   Nigeria    11"
      ],
      "text/html": [
       "<div>\n",
       "<style scoped>\n",
       "    .dataframe tbody tr th:only-of-type {\n",
       "        vertical-align: middle;\n",
       "    }\n",
       "\n",
       "    .dataframe tbody tr th {\n",
       "        vertical-align: top;\n",
       "    }\n",
       "\n",
       "    .dataframe thead th {\n",
       "        text-align: right;\n",
       "    }\n",
       "</style>\n",
       "<table border=\"1\" class=\"dataframe\">\n",
       "  <thead>\n",
       "    <tr style=\"text-align: right;\">\n",
       "      <th></th>\n",
       "      <th>Country</th>\n",
       "      <th>Rank</th>\n",
       "    </tr>\n",
       "  </thead>\n",
       "  <tbody>\n",
       "    <tr>\n",
       "      <th>b</th>\n",
       "      <td>Colombia</td>\n",
       "      <td>40</td>\n",
       "    </tr>\n",
       "    <tr>\n",
       "      <th>e</th>\n",
       "      <td>Nigeria</td>\n",
       "      <td>11</td>\n",
       "    </tr>\n",
       "  </tbody>\n",
       "</table>\n",
       "</div>"
      ]
     },
     "execution_count": 42,
     "metadata": {},
     "output_type": "execute_result"
    }
   ],
   "execution_count": 42
  },
  {
   "cell_type": "markdown",
   "id": "249cc981",
   "metadata": {},
   "source": [
    "- vagy akár SQL parancs szerűen"
   ]
  },
  {
   "cell_type": "code",
   "id": "1517f6b9",
   "metadata": {
    "ExecuteTime": {
     "end_time": "2024-10-15T10:35:42.809860Z",
     "start_time": "2024-10-15T10:35:42.802820Z"
    }
   },
   "source": [
    "df.query(\"Rank < 100\")"
   ],
   "outputs": [
    {
     "data": {
      "text/plain": [
       "    Country  Rank\n",
       "b  Colombia    40\n",
       "e   Nigeria    11"
      ],
      "text/html": [
       "<div>\n",
       "<style scoped>\n",
       "    .dataframe tbody tr th:only-of-type {\n",
       "        vertical-align: middle;\n",
       "    }\n",
       "\n",
       "    .dataframe tbody tr th {\n",
       "        vertical-align: top;\n",
       "    }\n",
       "\n",
       "    .dataframe thead th {\n",
       "        text-align: right;\n",
       "    }\n",
       "</style>\n",
       "<table border=\"1\" class=\"dataframe\">\n",
       "  <thead>\n",
       "    <tr style=\"text-align: right;\">\n",
       "      <th></th>\n",
       "      <th>Country</th>\n",
       "      <th>Rank</th>\n",
       "    </tr>\n",
       "  </thead>\n",
       "  <tbody>\n",
       "    <tr>\n",
       "      <th>b</th>\n",
       "      <td>Colombia</td>\n",
       "      <td>40</td>\n",
       "    </tr>\n",
       "    <tr>\n",
       "      <th>e</th>\n",
       "      <td>Nigeria</td>\n",
       "      <td>11</td>\n",
       "    </tr>\n",
       "  </tbody>\n",
       "</table>\n",
       "</div>"
      ]
     },
     "execution_count": 43,
     "metadata": {},
     "output_type": "execute_result"
    }
   ],
   "execution_count": 43
  },
  {
   "cell_type": "markdown",
   "id": "db015d31",
   "metadata": {},
   "source": [
    "### Adatok módosítása"
   ]
  },
  {
   "cell_type": "markdown",
   "id": "b03db891",
   "metadata": {},
   "source": [
    "- Cell értékének változtatása .at['sorindex', 'oszlopindex']"
   ]
  },
  {
   "cell_type": "code",
   "id": "5d7c8f22",
   "metadata": {
    "ExecuteTime": {
     "end_time": "2024-10-15T10:35:42.950207Z",
     "start_time": "2024-10-15T10:35:42.944137Z"
    }
   },
   "source": [
    "df.at['a', 'Country'] = \"Magyarország\"\n",
    "df"
   ],
   "outputs": [
    {
     "data": {
      "text/plain": [
       "        Country  Rank\n",
       "a  Magyarország   121\n",
       "b      Colombia    40\n",
       "c         Chile   100\n",
       "d       Equador   130\n",
       "e       Nigeria    11"
      ],
      "text/html": [
       "<div>\n",
       "<style scoped>\n",
       "    .dataframe tbody tr th:only-of-type {\n",
       "        vertical-align: middle;\n",
       "    }\n",
       "\n",
       "    .dataframe tbody tr th {\n",
       "        vertical-align: top;\n",
       "    }\n",
       "\n",
       "    .dataframe thead th {\n",
       "        text-align: right;\n",
       "    }\n",
       "</style>\n",
       "<table border=\"1\" class=\"dataframe\">\n",
       "  <thead>\n",
       "    <tr style=\"text-align: right;\">\n",
       "      <th></th>\n",
       "      <th>Country</th>\n",
       "      <th>Rank</th>\n",
       "    </tr>\n",
       "  </thead>\n",
       "  <tbody>\n",
       "    <tr>\n",
       "      <th>a</th>\n",
       "      <td>Magyarország</td>\n",
       "      <td>121</td>\n",
       "    </tr>\n",
       "    <tr>\n",
       "      <th>b</th>\n",
       "      <td>Colombia</td>\n",
       "      <td>40</td>\n",
       "    </tr>\n",
       "    <tr>\n",
       "      <th>c</th>\n",
       "      <td>Chile</td>\n",
       "      <td>100</td>\n",
       "    </tr>\n",
       "    <tr>\n",
       "      <th>d</th>\n",
       "      <td>Equador</td>\n",
       "      <td>130</td>\n",
       "    </tr>\n",
       "    <tr>\n",
       "      <th>e</th>\n",
       "      <td>Nigeria</td>\n",
       "      <td>11</td>\n",
       "    </tr>\n",
       "  </tbody>\n",
       "</table>\n",
       "</div>"
      ]
     },
     "execution_count": 44,
     "metadata": {},
     "output_type": "execute_result"
    }
   ],
   "execution_count": 44
  },
  {
   "cell_type": "markdown",
   "id": "06c56083",
   "metadata": {},
   "source": [
    "- Sor hozzáadása dictionaryval"
   ]
  },
  {
   "cell_type": "code",
   "id": "4f17d02a",
   "metadata": {
    "ExecuteTime": {
     "end_time": "2024-10-15T10:35:43.096091Z",
     "start_time": "2024-10-15T10:35:43.089254Z"
    }
   },
   "source": [
    "df = df._append({'Country': 'Románia', 'Rank': '122'}, ignore_index=True)\n",
    "df"
   ],
   "outputs": [
    {
     "data": {
      "text/plain": [
       "        Country Rank\n",
       "0  Magyarország  121\n",
       "1      Colombia   40\n",
       "2         Chile  100\n",
       "3       Equador  130\n",
       "4       Nigeria   11\n",
       "5       Románia  122"
      ],
      "text/html": [
       "<div>\n",
       "<style scoped>\n",
       "    .dataframe tbody tr th:only-of-type {\n",
       "        vertical-align: middle;\n",
       "    }\n",
       "\n",
       "    .dataframe tbody tr th {\n",
       "        vertical-align: top;\n",
       "    }\n",
       "\n",
       "    .dataframe thead th {\n",
       "        text-align: right;\n",
       "    }\n",
       "</style>\n",
       "<table border=\"1\" class=\"dataframe\">\n",
       "  <thead>\n",
       "    <tr style=\"text-align: right;\">\n",
       "      <th></th>\n",
       "      <th>Country</th>\n",
       "      <th>Rank</th>\n",
       "    </tr>\n",
       "  </thead>\n",
       "  <tbody>\n",
       "    <tr>\n",
       "      <th>0</th>\n",
       "      <td>Magyarország</td>\n",
       "      <td>121</td>\n",
       "    </tr>\n",
       "    <tr>\n",
       "      <th>1</th>\n",
       "      <td>Colombia</td>\n",
       "      <td>40</td>\n",
       "    </tr>\n",
       "    <tr>\n",
       "      <th>2</th>\n",
       "      <td>Chile</td>\n",
       "      <td>100</td>\n",
       "    </tr>\n",
       "    <tr>\n",
       "      <th>3</th>\n",
       "      <td>Equador</td>\n",
       "      <td>130</td>\n",
       "    </tr>\n",
       "    <tr>\n",
       "      <th>4</th>\n",
       "      <td>Nigeria</td>\n",
       "      <td>11</td>\n",
       "    </tr>\n",
       "    <tr>\n",
       "      <th>5</th>\n",
       "      <td>Románia</td>\n",
       "      <td>122</td>\n",
       "    </tr>\n",
       "  </tbody>\n",
       "</table>\n",
       "</div>"
      ]
     },
     "execution_count": 45,
     "metadata": {},
     "output_type": "execute_result"
    }
   ],
   "execution_count": 45
  },
  {
   "cell_type": "markdown",
   "id": "580c043f",
   "metadata": {},
   "source": [
    "- Sor törlése az index segítségével"
   ]
  },
  {
   "cell_type": "code",
   "id": "54837c54",
   "metadata": {
    "ExecuteTime": {
     "end_time": "2024-10-15T10:35:43.297734Z",
     "start_time": "2024-10-15T10:35:43.290647Z"
    }
   },
   "source": [
    "df = df.drop([1])\n",
    "df"
   ],
   "outputs": [
    {
     "data": {
      "text/plain": [
       "        Country Rank\n",
       "0  Magyarország  121\n",
       "2         Chile  100\n",
       "3       Equador  130\n",
       "4       Nigeria   11\n",
       "5       Románia  122"
      ],
      "text/html": [
       "<div>\n",
       "<style scoped>\n",
       "    .dataframe tbody tr th:only-of-type {\n",
       "        vertical-align: middle;\n",
       "    }\n",
       "\n",
       "    .dataframe tbody tr th {\n",
       "        vertical-align: top;\n",
       "    }\n",
       "\n",
       "    .dataframe thead th {\n",
       "        text-align: right;\n",
       "    }\n",
       "</style>\n",
       "<table border=\"1\" class=\"dataframe\">\n",
       "  <thead>\n",
       "    <tr style=\"text-align: right;\">\n",
       "      <th></th>\n",
       "      <th>Country</th>\n",
       "      <th>Rank</th>\n",
       "    </tr>\n",
       "  </thead>\n",
       "  <tbody>\n",
       "    <tr>\n",
       "      <th>0</th>\n",
       "      <td>Magyarország</td>\n",
       "      <td>121</td>\n",
       "    </tr>\n",
       "    <tr>\n",
       "      <th>2</th>\n",
       "      <td>Chile</td>\n",
       "      <td>100</td>\n",
       "    </tr>\n",
       "    <tr>\n",
       "      <th>3</th>\n",
       "      <td>Equador</td>\n",
       "      <td>130</td>\n",
       "    </tr>\n",
       "    <tr>\n",
       "      <th>4</th>\n",
       "      <td>Nigeria</td>\n",
       "      <td>11</td>\n",
       "    </tr>\n",
       "    <tr>\n",
       "      <th>5</th>\n",
       "      <td>Románia</td>\n",
       "      <td>122</td>\n",
       "    </tr>\n",
       "  </tbody>\n",
       "</table>\n",
       "</div>"
      ]
     },
     "execution_count": 46,
     "metadata": {},
     "output_type": "execute_result"
    }
   ],
   "execution_count": 46
  },
  {
   "cell_type": "markdown",
   "id": "676a2746",
   "metadata": {},
   "source": [
    "# Pandas és a dataclass-ok kapcsolata"
   ]
  },
  {
   "cell_type": "code",
   "id": "5dd17878",
   "metadata": {
    "ExecuteTime": {
     "end_time": "2024-10-15T10:35:43.547928Z",
     "start_time": "2024-10-15T10:35:43.543357Z"
    }
   },
   "source": [
    "from dataclasses import dataclass, field\n",
    "\n",
    "\n",
    "@dataclass\n",
    "class Person:\n",
    "    id: str = field(hash=True)\n",
    "    name: str = field(repr=True, compare=False)\n",
    "    age: int = field(repr=True, compare=False)\n",
    "    male: bool = field(default=True, repr=True, compare=False)"
   ],
   "outputs": [],
   "execution_count": 47
  },
  {
   "cell_type": "code",
   "id": "c488859f",
   "metadata": {
    "ExecuteTime": {
     "end_time": "2024-10-15T10:35:43.631738Z",
     "start_time": "2024-10-15T10:35:43.626304Z"
    }
   },
   "source": [
    "p1 = Person(\"001\", \"Name-001\", 12)\n",
    "p2 = Person(\"002\", \"Name-002\", 14)\n",
    "p3 = Person(\"003\", \"Name-003\", 16)\n",
    "p4_not_in_list = Person(\"004\", \"Name-004\", 18, False)\n",
    "\n",
    "person_list = [p1, p2, p3]\n",
    "person_list"
   ],
   "outputs": [
    {
     "data": {
      "text/plain": [
       "[Person(id='001', name='Name-001', age=12, male=True),\n",
       " Person(id='002', name='Name-002', age=14, male=True),\n",
       " Person(id='003', name='Name-003', age=16, male=True)]"
      ]
     },
     "execution_count": 48,
     "metadata": {},
     "output_type": "execute_result"
    }
   ],
   "execution_count": 48
  },
  {
   "cell_type": "markdown",
   "id": "8f54b648",
   "metadata": {},
   "source": [
    "- DataFrame létrehozása dataclassból"
   ]
  },
  {
   "cell_type": "code",
   "id": "28161b64",
   "metadata": {
    "ExecuteTime": {
     "end_time": "2024-10-15T10:35:43.904410Z",
     "start_time": "2024-10-15T10:35:43.895420Z"
    }
   },
   "source": [
    "df = pd.DataFrame.from_records([p.__dict__ for p in person_list])\n",
    "df"
   ],
   "outputs": [
    {
     "data": {
      "text/plain": [
       "    id      name  age  male\n",
       "0  001  Name-001   12  True\n",
       "1  002  Name-002   14  True\n",
       "2  003  Name-003   16  True"
      ],
      "text/html": [
       "<div>\n",
       "<style scoped>\n",
       "    .dataframe tbody tr th:only-of-type {\n",
       "        vertical-align: middle;\n",
       "    }\n",
       "\n",
       "    .dataframe tbody tr th {\n",
       "        vertical-align: top;\n",
       "    }\n",
       "\n",
       "    .dataframe thead th {\n",
       "        text-align: right;\n",
       "    }\n",
       "</style>\n",
       "<table border=\"1\" class=\"dataframe\">\n",
       "  <thead>\n",
       "    <tr style=\"text-align: right;\">\n",
       "      <th></th>\n",
       "      <th>id</th>\n",
       "      <th>name</th>\n",
       "      <th>age</th>\n",
       "      <th>male</th>\n",
       "    </tr>\n",
       "  </thead>\n",
       "  <tbody>\n",
       "    <tr>\n",
       "      <th>0</th>\n",
       "      <td>001</td>\n",
       "      <td>Name-001</td>\n",
       "      <td>12</td>\n",
       "      <td>True</td>\n",
       "    </tr>\n",
       "    <tr>\n",
       "      <th>1</th>\n",
       "      <td>002</td>\n",
       "      <td>Name-002</td>\n",
       "      <td>14</td>\n",
       "      <td>True</td>\n",
       "    </tr>\n",
       "    <tr>\n",
       "      <th>2</th>\n",
       "      <td>003</td>\n",
       "      <td>Name-003</td>\n",
       "      <td>16</td>\n",
       "      <td>True</td>\n",
       "    </tr>\n",
       "  </tbody>\n",
       "</table>\n",
       "</div>"
      ]
     },
     "execution_count": 49,
     "metadata": {},
     "output_type": "execute_result"
    }
   ],
   "execution_count": 49
  },
  {
   "cell_type": "code",
   "id": "9420e120",
   "metadata": {
    "scrolled": true,
    "ExecuteTime": {
     "end_time": "2024-10-15T10:35:44.054223Z",
     "start_time": "2024-10-15T10:35:44.046580Z"
    }
   },
   "source": [
    "df = df._append(p4_not_in_list.__dict__, ignore_index=True)\n",
    "df"
   ],
   "outputs": [
    {
     "data": {
      "text/plain": [
       "    id      name  age   male\n",
       "0  001  Name-001   12   True\n",
       "1  002  Name-002   14   True\n",
       "2  003  Name-003   16   True\n",
       "3  004  Name-004   18  False"
      ],
      "text/html": [
       "<div>\n",
       "<style scoped>\n",
       "    .dataframe tbody tr th:only-of-type {\n",
       "        vertical-align: middle;\n",
       "    }\n",
       "\n",
       "    .dataframe tbody tr th {\n",
       "        vertical-align: top;\n",
       "    }\n",
       "\n",
       "    .dataframe thead th {\n",
       "        text-align: right;\n",
       "    }\n",
       "</style>\n",
       "<table border=\"1\" class=\"dataframe\">\n",
       "  <thead>\n",
       "    <tr style=\"text-align: right;\">\n",
       "      <th></th>\n",
       "      <th>id</th>\n",
       "      <th>name</th>\n",
       "      <th>age</th>\n",
       "      <th>male</th>\n",
       "    </tr>\n",
       "  </thead>\n",
       "  <tbody>\n",
       "    <tr>\n",
       "      <th>0</th>\n",
       "      <td>001</td>\n",
       "      <td>Name-001</td>\n",
       "      <td>12</td>\n",
       "      <td>True</td>\n",
       "    </tr>\n",
       "    <tr>\n",
       "      <th>1</th>\n",
       "      <td>002</td>\n",
       "      <td>Name-002</td>\n",
       "      <td>14</td>\n",
       "      <td>True</td>\n",
       "    </tr>\n",
       "    <tr>\n",
       "      <th>2</th>\n",
       "      <td>003</td>\n",
       "      <td>Name-003</td>\n",
       "      <td>16</td>\n",
       "      <td>True</td>\n",
       "    </tr>\n",
       "    <tr>\n",
       "      <th>3</th>\n",
       "      <td>004</td>\n",
       "      <td>Name-004</td>\n",
       "      <td>18</td>\n",
       "      <td>False</td>\n",
       "    </tr>\n",
       "  </tbody>\n",
       "</table>\n",
       "</div>"
      ]
     },
     "execution_count": 50,
     "metadata": {},
     "output_type": "execute_result"
    }
   ],
   "execution_count": 50
  },
  {
   "cell_type": "markdown",
   "id": "7b51ffef",
   "metadata": {},
   "source": [
    "- DataFrame dataclassá alakítása"
   ]
  },
  {
   "cell_type": "code",
   "id": "0d91bb9f",
   "metadata": {
    "scrolled": true,
    "ExecuteTime": {
     "end_time": "2024-10-15T10:35:44.124254Z",
     "start_time": "2024-10-15T10:35:44.118949Z"
    }
   },
   "source": [
    "persons = df.apply(lambda row: Person(*row), axis=1).to_list()\n",
    "persons"
   ],
   "outputs": [
    {
     "data": {
      "text/plain": [
       "[Person(id='001', name='Name-001', age=12, male=True),\n",
       " Person(id='002', name='Name-002', age=14, male=True),\n",
       " Person(id='003', name='Name-003', age=16, male=True),\n",
       " Person(id='004', name='Name-004', age=18, male=False)]"
      ]
     },
     "execution_count": 51,
     "metadata": {},
     "output_type": "execute_result"
    }
   ],
   "execution_count": 51
  },
  {
   "cell_type": "markdown",
   "id": "d0f99945",
   "metadata": {},
   "source": [
    "### DataFramek exportálása"
   ]
  },
  {
   "cell_type": "code",
   "id": "825a4dd9",
   "metadata": {
    "ExecuteTime": {
     "end_time": "2024-10-15T10:35:44.389864Z",
     "start_time": "2024-10-15T10:35:44.382935Z"
    }
   },
   "source": [
    "df"
   ],
   "outputs": [
    {
     "data": {
      "text/plain": [
       "    id      name  age   male\n",
       "0  001  Name-001   12   True\n",
       "1  002  Name-002   14   True\n",
       "2  003  Name-003   16   True\n",
       "3  004  Name-004   18  False"
      ],
      "text/html": [
       "<div>\n",
       "<style scoped>\n",
       "    .dataframe tbody tr th:only-of-type {\n",
       "        vertical-align: middle;\n",
       "    }\n",
       "\n",
       "    .dataframe tbody tr th {\n",
       "        vertical-align: top;\n",
       "    }\n",
       "\n",
       "    .dataframe thead th {\n",
       "        text-align: right;\n",
       "    }\n",
       "</style>\n",
       "<table border=\"1\" class=\"dataframe\">\n",
       "  <thead>\n",
       "    <tr style=\"text-align: right;\">\n",
       "      <th></th>\n",
       "      <th>id</th>\n",
       "      <th>name</th>\n",
       "      <th>age</th>\n",
       "      <th>male</th>\n",
       "    </tr>\n",
       "  </thead>\n",
       "  <tbody>\n",
       "    <tr>\n",
       "      <th>0</th>\n",
       "      <td>001</td>\n",
       "      <td>Name-001</td>\n",
       "      <td>12</td>\n",
       "      <td>True</td>\n",
       "    </tr>\n",
       "    <tr>\n",
       "      <th>1</th>\n",
       "      <td>002</td>\n",
       "      <td>Name-002</td>\n",
       "      <td>14</td>\n",
       "      <td>True</td>\n",
       "    </tr>\n",
       "    <tr>\n",
       "      <th>2</th>\n",
       "      <td>003</td>\n",
       "      <td>Name-003</td>\n",
       "      <td>16</td>\n",
       "      <td>True</td>\n",
       "    </tr>\n",
       "    <tr>\n",
       "      <th>3</th>\n",
       "      <td>004</td>\n",
       "      <td>Name-004</td>\n",
       "      <td>18</td>\n",
       "      <td>False</td>\n",
       "    </tr>\n",
       "  </tbody>\n",
       "</table>\n",
       "</div>"
      ]
     },
     "execution_count": 52,
     "metadata": {},
     "output_type": "execute_result"
    }
   ],
   "execution_count": 52
  },
  {
   "cell_type": "markdown",
   "id": "209c4fa0",
   "metadata": {},
   "source": [
    "#### Exportálás CSV formátumba \n",
    "\n",
    "- Az index=False-ra azért van szükség, mert enélkül a pandas alapértelmezetten elmenti a saját index értékeit is a csv fájlba."
   ]
  },
  {
   "cell_type": "code",
   "id": "a5519378",
   "metadata": {
    "ExecuteTime": {
     "end_time": "2024-10-15T10:35:44.524936Z",
     "start_time": "2024-10-15T10:35:44.510160Z"
    }
   },
   "source": [
    "df.to_csv(\"persons.csv\", index=False)"
   ],
   "outputs": [],
   "execution_count": 53
  },
  {
   "cell_type": "markdown",
   "id": "2ad5eda0",
   "metadata": {},
   "source": [
    "#### Exportálás JSON formátumba\n",
    "\n",
    "- Az orient=\"records\"-ra azért van szükség, mert így menti el soronként/recordonként az adatokat"
   ]
  },
  {
   "cell_type": "code",
   "id": "2ea97e36",
   "metadata": {
    "ExecuteTime": {
     "end_time": "2024-10-15T10:35:44.719597Z",
     "start_time": "2024-10-15T10:35:44.715369Z"
    }
   },
   "source": [
    "df.to_json(\"persons.json\", orient=\"records\")"
   ],
   "outputs": [],
   "execution_count": 54
  },
  {
   "cell_type": "markdown",
   "id": "2e6d0c0b",
   "metadata": {},
   "source": [
    "#### Exportálás XLSX formátumba\n",
    "\n",
    "- openpyxl modul szükséges az exportáláshoz"
   ]
  },
  {
   "cell_type": "code",
   "id": "8b07e419",
   "metadata": {
    "ExecuteTime": {
     "end_time": "2024-10-15T10:35:45.056232Z",
     "start_time": "2024-10-15T10:35:44.799265Z"
    }
   },
   "source": [
    "df.to_excel(\"persons.xlsx\", index=True)"
   ],
   "outputs": [],
   "execution_count": 55
  },
  {
   "cell_type": "markdown",
   "id": "0e133cc3",
   "metadata": {},
   "source": [
    "### DataFramek importálása"
   ]
  },
  {
   "cell_type": "code",
   "id": "69e319b3",
   "metadata": {
    "ExecuteTime": {
     "end_time": "2024-10-15T10:35:45.072822Z",
     "start_time": "2024-10-15T10:35:45.064244Z"
    }
   },
   "source": [
    "df = pd.read_csv(\"persons.csv\")\n",
    "df"
   ],
   "outputs": [
    {
     "data": {
      "text/plain": [
       "   id      name  age   male\n",
       "0   1  Name-001   12   True\n",
       "1   2  Name-002   14   True\n",
       "2   3  Name-003   16   True\n",
       "3   4  Name-004   18  False"
      ],
      "text/html": [
       "<div>\n",
       "<style scoped>\n",
       "    .dataframe tbody tr th:only-of-type {\n",
       "        vertical-align: middle;\n",
       "    }\n",
       "\n",
       "    .dataframe tbody tr th {\n",
       "        vertical-align: top;\n",
       "    }\n",
       "\n",
       "    .dataframe thead th {\n",
       "        text-align: right;\n",
       "    }\n",
       "</style>\n",
       "<table border=\"1\" class=\"dataframe\">\n",
       "  <thead>\n",
       "    <tr style=\"text-align: right;\">\n",
       "      <th></th>\n",
       "      <th>id</th>\n",
       "      <th>name</th>\n",
       "      <th>age</th>\n",
       "      <th>male</th>\n",
       "    </tr>\n",
       "  </thead>\n",
       "  <tbody>\n",
       "    <tr>\n",
       "      <th>0</th>\n",
       "      <td>1</td>\n",
       "      <td>Name-001</td>\n",
       "      <td>12</td>\n",
       "      <td>True</td>\n",
       "    </tr>\n",
       "    <tr>\n",
       "      <th>1</th>\n",
       "      <td>2</td>\n",
       "      <td>Name-002</td>\n",
       "      <td>14</td>\n",
       "      <td>True</td>\n",
       "    </tr>\n",
       "    <tr>\n",
       "      <th>2</th>\n",
       "      <td>3</td>\n",
       "      <td>Name-003</td>\n",
       "      <td>16</td>\n",
       "      <td>True</td>\n",
       "    </tr>\n",
       "    <tr>\n",
       "      <th>3</th>\n",
       "      <td>4</td>\n",
       "      <td>Name-004</td>\n",
       "      <td>18</td>\n",
       "      <td>False</td>\n",
       "    </tr>\n",
       "  </tbody>\n",
       "</table>\n",
       "</div>"
      ]
     },
     "execution_count": 56,
     "metadata": {},
     "output_type": "execute_result"
    }
   ],
   "execution_count": 56
  },
  {
   "cell_type": "code",
   "id": "18c97bf4",
   "metadata": {
    "ExecuteTime": {
     "end_time": "2024-10-15T10:35:45.143961Z",
     "start_time": "2024-10-15T10:35:45.139036Z"
    }
   },
   "source": [
    "persons_csv = df.apply(lambda row: Person(*row), axis=1).to_list()\n",
    "persons_csv"
   ],
   "outputs": [
    {
     "data": {
      "text/plain": [
       "[Person(id=1, name='Name-001', age=12, male=True),\n",
       " Person(id=2, name='Name-002', age=14, male=True),\n",
       " Person(id=3, name='Name-003', age=16, male=True),\n",
       " Person(id=4, name='Name-004', age=18, male=False)]"
      ]
     },
     "execution_count": 57,
     "metadata": {},
     "output_type": "execute_result"
    }
   ],
   "execution_count": 57
  },
  {
   "cell_type": "code",
   "id": "0b558563",
   "metadata": {
    "scrolled": true,
    "ExecuteTime": {
     "end_time": "2024-10-15T10:35:45.218314Z",
     "start_time": "2024-10-15T10:35:45.208672Z"
    }
   },
   "source": [
    "df = pd.read_json(\"persons.json\")\n",
    "df"
   ],
   "outputs": [
    {
     "data": {
      "text/plain": [
       "   id      name  age   male\n",
       "0   1  Name-001   12   True\n",
       "1   2  Name-002   14   True\n",
       "2   3  Name-003   16   True\n",
       "3   4  Name-004   18  False"
      ],
      "text/html": [
       "<div>\n",
       "<style scoped>\n",
       "    .dataframe tbody tr th:only-of-type {\n",
       "        vertical-align: middle;\n",
       "    }\n",
       "\n",
       "    .dataframe tbody tr th {\n",
       "        vertical-align: top;\n",
       "    }\n",
       "\n",
       "    .dataframe thead th {\n",
       "        text-align: right;\n",
       "    }\n",
       "</style>\n",
       "<table border=\"1\" class=\"dataframe\">\n",
       "  <thead>\n",
       "    <tr style=\"text-align: right;\">\n",
       "      <th></th>\n",
       "      <th>id</th>\n",
       "      <th>name</th>\n",
       "      <th>age</th>\n",
       "      <th>male</th>\n",
       "    </tr>\n",
       "  </thead>\n",
       "  <tbody>\n",
       "    <tr>\n",
       "      <th>0</th>\n",
       "      <td>1</td>\n",
       "      <td>Name-001</td>\n",
       "      <td>12</td>\n",
       "      <td>True</td>\n",
       "    </tr>\n",
       "    <tr>\n",
       "      <th>1</th>\n",
       "      <td>2</td>\n",
       "      <td>Name-002</td>\n",
       "      <td>14</td>\n",
       "      <td>True</td>\n",
       "    </tr>\n",
       "    <tr>\n",
       "      <th>2</th>\n",
       "      <td>3</td>\n",
       "      <td>Name-003</td>\n",
       "      <td>16</td>\n",
       "      <td>True</td>\n",
       "    </tr>\n",
       "    <tr>\n",
       "      <th>3</th>\n",
       "      <td>4</td>\n",
       "      <td>Name-004</td>\n",
       "      <td>18</td>\n",
       "      <td>False</td>\n",
       "    </tr>\n",
       "  </tbody>\n",
       "</table>\n",
       "</div>"
      ]
     },
     "execution_count": 58,
     "metadata": {},
     "output_type": "execute_result"
    }
   ],
   "execution_count": 58
  },
  {
   "cell_type": "code",
   "id": "290560fe",
   "metadata": {
    "ExecuteTime": {
     "end_time": "2024-10-15T10:35:46.694100Z",
     "start_time": "2024-10-15T10:35:45.404046Z"
    }
   },
   "source": [
    "df = pd.read_excel(\"persons.xlsx\")\n",
    "df"
   ],
   "outputs": [
    {
     "data": {
      "text/plain": [
       "   Unnamed: 0  id      name  age   male\n",
       "0           0   1  Name-001   12   True\n",
       "1           1   2  Name-002   14   True\n",
       "2           2   3  Name-003   16   True\n",
       "3           3   4  Name-004   18  False"
      ],
      "text/html": [
       "<div>\n",
       "<style scoped>\n",
       "    .dataframe tbody tr th:only-of-type {\n",
       "        vertical-align: middle;\n",
       "    }\n",
       "\n",
       "    .dataframe tbody tr th {\n",
       "        vertical-align: top;\n",
       "    }\n",
       "\n",
       "    .dataframe thead th {\n",
       "        text-align: right;\n",
       "    }\n",
       "</style>\n",
       "<table border=\"1\" class=\"dataframe\">\n",
       "  <thead>\n",
       "    <tr style=\"text-align: right;\">\n",
       "      <th></th>\n",
       "      <th>Unnamed: 0</th>\n",
       "      <th>id</th>\n",
       "      <th>name</th>\n",
       "      <th>age</th>\n",
       "      <th>male</th>\n",
       "    </tr>\n",
       "  </thead>\n",
       "  <tbody>\n",
       "    <tr>\n",
       "      <th>0</th>\n",
       "      <td>0</td>\n",
       "      <td>1</td>\n",
       "      <td>Name-001</td>\n",
       "      <td>12</td>\n",
       "      <td>True</td>\n",
       "    </tr>\n",
       "    <tr>\n",
       "      <th>1</th>\n",
       "      <td>1</td>\n",
       "      <td>2</td>\n",
       "      <td>Name-002</td>\n",
       "      <td>14</td>\n",
       "      <td>True</td>\n",
       "    </tr>\n",
       "    <tr>\n",
       "      <th>2</th>\n",
       "      <td>2</td>\n",
       "      <td>3</td>\n",
       "      <td>Name-003</td>\n",
       "      <td>16</td>\n",
       "      <td>True</td>\n",
       "    </tr>\n",
       "    <tr>\n",
       "      <th>3</th>\n",
       "      <td>3</td>\n",
       "      <td>4</td>\n",
       "      <td>Name-004</td>\n",
       "      <td>18</td>\n",
       "      <td>False</td>\n",
       "    </tr>\n",
       "  </tbody>\n",
       "</table>\n",
       "</div>"
      ]
     },
     "execution_count": 59,
     "metadata": {},
     "output_type": "execute_result"
    }
   ],
   "execution_count": 59
  },
  {
   "cell_type": "markdown",
   "id": "e911031d",
   "metadata": {},
   "source": [
    "### Pandas adatbázist is tud kezelni"
   ]
  },
  {
   "cell_type": "code",
   "id": "37598430",
   "metadata": {
    "ExecuteTime": {
     "end_time": "2024-10-15T10:35:46.730735Z",
     "start_time": "2024-10-15T10:35:46.722729Z"
    }
   },
   "source": [
    "import sqlite3\n",
    "import pandas as pd\n",
    "\n",
    "# SQLlite adatbázis készítése a memóriában\n",
    "conn = sqlite3.connect(':memory:')\n",
    "\n",
    "cursor = conn.cursor()\n",
    "\n",
    "cursor.execute('''\n",
    "    CREATE TABLE persons (\n",
    "        id TEXT,\n",
    "        name TEXT,\n",
    "        age INTEGER,\n",
    "        male BOOLEAN\n",
    "    )\n",
    "''')\n",
    "\n",
    "# Teszt adatok betöltése\n",
    "cursor.execute(\"INSERT INTO persons VALUES ('001', 'Alice', 30, 0)\")\n",
    "cursor.execute(\"INSERT INTO persons VALUES ('002', 'Bob', 25, 1)\")\n",
    "cursor.execute(\"INSERT INTO persons VALUES ('003', 'Charlie', 28, 1)\")\n",
    "\n",
    "conn.commit()\n",
    "\n",
    "# SQL parancs futtatása pandas segítségével, amely egy dataframmel tér vissza.\n",
    "df = pd.read_sql('SELECT * FROM persons', conn)\n",
    "\n",
    "df"
   ],
   "outputs": [
    {
     "data": {
      "text/plain": [
       "    id     name  age  male\n",
       "0  001    Alice   30     0\n",
       "1  002      Bob   25     1\n",
       "2  003  Charlie   28     1"
      ],
      "text/html": [
       "<div>\n",
       "<style scoped>\n",
       "    .dataframe tbody tr th:only-of-type {\n",
       "        vertical-align: middle;\n",
       "    }\n",
       "\n",
       "    .dataframe tbody tr th {\n",
       "        vertical-align: top;\n",
       "    }\n",
       "\n",
       "    .dataframe thead th {\n",
       "        text-align: right;\n",
       "    }\n",
       "</style>\n",
       "<table border=\"1\" class=\"dataframe\">\n",
       "  <thead>\n",
       "    <tr style=\"text-align: right;\">\n",
       "      <th></th>\n",
       "      <th>id</th>\n",
       "      <th>name</th>\n",
       "      <th>age</th>\n",
       "      <th>male</th>\n",
       "    </tr>\n",
       "  </thead>\n",
       "  <tbody>\n",
       "    <tr>\n",
       "      <th>0</th>\n",
       "      <td>001</td>\n",
       "      <td>Alice</td>\n",
       "      <td>30</td>\n",
       "      <td>0</td>\n",
       "    </tr>\n",
       "    <tr>\n",
       "      <th>1</th>\n",
       "      <td>002</td>\n",
       "      <td>Bob</td>\n",
       "      <td>25</td>\n",
       "      <td>1</td>\n",
       "    </tr>\n",
       "    <tr>\n",
       "      <th>2</th>\n",
       "      <td>003</td>\n",
       "      <td>Charlie</td>\n",
       "      <td>28</td>\n",
       "      <td>1</td>\n",
       "    </tr>\n",
       "  </tbody>\n",
       "</table>\n",
       "</div>"
      ]
     },
     "execution_count": 60,
     "metadata": {},
     "output_type": "execute_result"
    }
   ],
   "execution_count": 60
  },
  {
   "cell_type": "code",
   "id": "04b3613c",
   "metadata": {
    "ExecuteTime": {
     "end_time": "2024-10-15T10:35:46.938508Z",
     "start_time": "2024-10-15T10:35:46.933590Z"
    }
   },
   "source": [
    "persons = df.apply(lambda row: Person(*row), axis=1).to_list()\n",
    "persons"
   ],
   "outputs": [
    {
     "data": {
      "text/plain": [
       "[Person(id='001', name='Alice', age=30, male=0),\n",
       " Person(id='002', name='Bob', age=25, male=1),\n",
       " Person(id='003', name='Charlie', age=28, male=1)]"
      ]
     },
     "execution_count": 61,
     "metadata": {},
     "output_type": "execute_result"
    }
   ],
   "execution_count": 61
  },
  {
   "cell_type": "markdown",
   "id": "8930d489",
   "metadata": {},
   "source": [
    "### Vizualizáció pandas segítségével"
   ]
  },
  {
   "cell_type": "code",
   "id": "e0e8a35c",
   "metadata": {
    "ExecuteTime": {
     "end_time": "2024-10-15T10:35:47.028292Z",
     "start_time": "2024-10-15T10:35:47.021696Z"
    }
   },
   "source": [
    "df"
   ],
   "outputs": [
    {
     "data": {
      "text/plain": [
       "    id     name  age  male\n",
       "0  001    Alice   30     0\n",
       "1  002      Bob   25     1\n",
       "2  003  Charlie   28     1"
      ],
      "text/html": [
       "<div>\n",
       "<style scoped>\n",
       "    .dataframe tbody tr th:only-of-type {\n",
       "        vertical-align: middle;\n",
       "    }\n",
       "\n",
       "    .dataframe tbody tr th {\n",
       "        vertical-align: top;\n",
       "    }\n",
       "\n",
       "    .dataframe thead th {\n",
       "        text-align: right;\n",
       "    }\n",
       "</style>\n",
       "<table border=\"1\" class=\"dataframe\">\n",
       "  <thead>\n",
       "    <tr style=\"text-align: right;\">\n",
       "      <th></th>\n",
       "      <th>id</th>\n",
       "      <th>name</th>\n",
       "      <th>age</th>\n",
       "      <th>male</th>\n",
       "    </tr>\n",
       "  </thead>\n",
       "  <tbody>\n",
       "    <tr>\n",
       "      <th>0</th>\n",
       "      <td>001</td>\n",
       "      <td>Alice</td>\n",
       "      <td>30</td>\n",
       "      <td>0</td>\n",
       "    </tr>\n",
       "    <tr>\n",
       "      <th>1</th>\n",
       "      <td>002</td>\n",
       "      <td>Bob</td>\n",
       "      <td>25</td>\n",
       "      <td>1</td>\n",
       "    </tr>\n",
       "    <tr>\n",
       "      <th>2</th>\n",
       "      <td>003</td>\n",
       "      <td>Charlie</td>\n",
       "      <td>28</td>\n",
       "      <td>1</td>\n",
       "    </tr>\n",
       "  </tbody>\n",
       "</table>\n",
       "</div>"
      ]
     },
     "execution_count": 62,
     "metadata": {},
     "output_type": "execute_result"
    }
   ],
   "execution_count": 62
  },
  {
   "cell_type": "code",
   "id": "00d6248c",
   "metadata": {
    "jupyter": {
     "is_executing": true
    },
    "ExecuteTime": {
     "start_time": "2024-10-15T10:35:47.221142Z"
    }
   },
   "source": [
    "df.plot.bar()"
   ],
   "outputs": [],
   "execution_count": null
  },
  {
   "cell_type": "code",
   "execution_count": null,
   "id": "561b5041",
   "metadata": {},
   "outputs": [],
   "source": [
    "df.plot.area(alpha=0.4)"
   ]
  }
 ],
 "metadata": {
  "kernelspec": {
   "display_name": "Python 3 (ipykernel)",
   "language": "python",
   "name": "python3"
  },
  "language_info": {
   "codemirror_mode": {
    "name": "ipython",
    "version": 3
   },
   "file_extension": ".py",
   "mimetype": "text/x-python",
   "name": "python",
   "nbconvert_exporter": "python",
   "pygments_lexer": "ipython3",
   "version": "3.8.20"
  }
 },
 "nbformat": 4,
 "nbformat_minor": 5
}
