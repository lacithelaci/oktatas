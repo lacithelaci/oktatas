{
 "cells": [
  {
   "cell_type": "markdown",
   "id": "859b0bac",
   "metadata": {
    "id": "859b0bac"
   },
   "source": [
    "# Structured Data Lab – Neptun Demo (Jupyter Notebook)\n",
    "\n",
    "**Cél:** gyakorlati áttekintés strukturált adatokon (Excel/SQL-szerű táblák) – adattisztítás, hiányzó értékek kezelése, pivot táblák, egyszerű riport és adatvizualizáció.  \n",
    "A példa egy **tanulmányi rendszer** (Neptun) leegyszerűsített modellje: hallgatók, kurzusok, beiratkozások/eredmények.\n",
    "\n",
    "> A notebook saját, kis demo-adatokat használ, amelyek már a csomagban vannak (`/mnt/data/neptun_demo.xlsx`, `/mnt/data/photos/`). Ha szeretnéd, cseréld ki ezeket a saját fájljaidra!"
   ]
  },
  {
   "cell_type": "markdown",
   "id": "1bb2ff52",
   "metadata": {
    "id": "1bb2ff52"
   },
   "source": [
    "## 0) Előkészületek – csomagok és beállítások"
   ]
  },
  {
   "cell_type": "code",
   "execution_count": 46,
   "id": "a454c04e",
   "metadata": {
    "colab": {
     "base_uri": "https://localhost:8080/"
    },
    "executionInfo": {
     "elapsed": 325,
     "status": "ok",
     "timestamp": 1756901526343,
     "user": {
      "displayName": "Bence Erős",
      "userId": "04346986243673917258"
     },
     "user_tz": -120
    },
    "id": "a454c04e",
    "outputId": "4b0e9fb5-bf6f-4ffa-a502-2f723b85d090"
   },
   "outputs": [
    {
     "name": "stdout",
     "output_type": "stream",
     "text": [
      "Data file: /mnt/data/neptun_demo.xlsx\n"
     ]
    }
   ],
   "source": [
    "import os\n",
    "import pandas as pd\n",
    "import numpy as np\n",
    "from PIL import Image\n",
    "import matplotlib.pyplot as plt\n",
    "\n",
    "# A grafikonok a notebookban jelenjenek meg\n",
    "# (No seaborn, no custom styles as requested)\n",
    "%matplotlib inline\n",
    "\n",
    "DATA_XLSX = '/mnt/data/neptun_demo.xlsx'\n",
    "#PHOTOS_DIR = '/mnt/data/photos'\n",
    "\n",
    "print('Data file:', DATA_XLSX)\n",
    "#print('Photos dir:', PHOTOS_DIR)\n"
   ]
  },
  {
   "cell_type": "markdown",
   "id": "08OQpKUUkN0M",
   "metadata": {
    "id": "08OQpKUUkN0M"
   },
   "source": [
    "1. feladat: Könyvtárak ellenőrzése.\n",
    "Ellenőrizd, hogy a verziók telepítve vannak-e."
   ]
  },
  {
   "cell_type": "code",
   "execution_count": 47,
   "id": "qTEcmrtykRQA",
   "metadata": {
    "colab": {
     "base_uri": "https://localhost:8080/"
    },
    "executionInfo": {
     "elapsed": 21,
     "status": "ok",
     "timestamp": 1756902812015,
     "user": {
      "displayName": "Bence Erős",
      "userId": "04346986243673917258"
     },
     "user_tz": -120
    },
    "id": "qTEcmrtykRQA",
    "outputId": "f004a265-e15a-4bda-ca99-1c37a76665c6"
   },
   "outputs": [
    {
     "name": "stdout",
     "output_type": "stream",
     "text": [
      "Pandas version: 2.2.2\n",
      "Numpy version: 1.26.4\n",
      "Matplotlib version: 3.8.4\n",
      "PIL version: 10.3.0\n"
     ]
    }
   ],
   "source": [
    "import pandas as pd\n",
    "import numpy as np\n",
    "import matplotlib\n",
    "import PIL\n",
    "\n",
    "print(\"Pandas version:\", pd.__version__)\n",
    "print(\"Numpy version:\", np.__version__)\n",
    "print(\"Matplotlib version:\", matplotlib.__version__)\n",
    "print(\"PIL version:\", PIL.__version__)"
   ]
  },
  {
   "cell_type": "code",
   "execution_count": 52,
   "id": "69ba3a75-75ec-4893-84b1-893fe9233ee4",
   "metadata": {},
   "outputs": [
    {
     "name": "stdout",
     "output_type": "stream",
     "text": [
      "/cygdrive/c/Users/student/Desktop/adatkezelÅ‘\n"
     ]
    }
   ],
   "source": [
    "!pwd"
   ]
  },
  {
   "cell_type": "markdown",
   "id": "bkuG_batknwW",
   "metadata": {
    "id": "bkuG_batknwW"
   },
   "source": [
    "2. feladat: Állíts be egy rossz fájlnevet! Javítsd ki a helyes útvonalra (/mnt/data/neptun_demo.xlsx), és futtasd újra."
   ]
  },
  {
   "cell_type": "code",
   "execution_count": 48,
   "id": "E-PUoVwkkr8J",
   "metadata": {
    "colab": {
     "base_uri": "https://localhost:8080/"
    },
    "executionInfo": {
     "elapsed": 11,
     "status": "ok",
     "timestamp": 1756902999683,
     "user": {
      "displayName": "Bence Erős",
      "userId": "04346986243673917258"
     },
     "user_tz": -120
    },
    "id": "E-PUoVwkkr8J",
    "outputId": "a1510d35-71dd-44e3-95bc-a88295bd52d7"
   },
   "outputs": [
    {
     "name": "stdout",
     "output_type": "stream",
     "text": [
      "Hiba történt: [Errno 2] No such file or directory: 'mnt/data/neptun_demo.xlsx'\n"
     ]
    }
   ],
   "source": [
    "DATA_XLSX = \"mnt/data/neptun_demo.xlsx\"\n",
    "import pandas as pd\n",
    "\n",
    "try:\n",
    "    df = pd.read_excel(DATA_XLSX)\n",
    "except FileNotFoundError as e:\n",
    "    print(\"Hiba történt:\", e)"
   ]
  },
  {
   "cell_type": "markdown",
   "id": "e1524085",
   "metadata": {
    "id": "e1524085"
   },
   "source": [
    "## 1) Adatok betöltése (Excel – több munkalap)"
   ]
  },
  {
   "cell_type": "markdown",
   "id": "W2iS8--Mlr7h",
   "metadata": {
    "id": "W2iS8--Mlr7h"
   },
   "source": [
    "Fontos!\n",
    "\n",
    "1. Valós adatok mindig több forrásból jönnek.\n",
    "* Ezek külön munkalapokban (vagy külön fájlokban, adatbázis-táblákban) találhatók, és később össze kell őket kapcsolni.\n",
    "2. Adatstruktúra tiszteletben tartása\n",
    "* Az Excel-fájlban az oszlopok → mezők, a sorok → rekordok.\n",
    "\n",
    "* Lényeges, hogy betöltéskor ne sérüljön a szerkezet (pl. ne keverje össze a fejlécet az adatokkal, ne olvassa szövegként a dátumokat).\n",
    "\n",
    "3. Adattípusok helyes felismerése\n",
    "* Pl. a grade numerikus (float), a enrolled_at dátum (datetime), a name szöveg (string).\n",
    "\n",
    "* Ha ezeket **nem jól** ismeri fel a betöltés, akkor a későbbi műveletek (számolás, szűrés, pivot) hibát okoznak. Ezért van a parse_dates paraméter is.\n",
    "\n",
    "4. Alap az ellenőrzéshez. Betöltés után mindig érdemes megnézni a head()-et (első 5 sor) és a dtypes-et (adat-típusok)."
   ]
  },
  {
   "cell_type": "code",
   "execution_count": 51,
   "id": "2de93b29",
   "metadata": {
    "colab": {
     "base_uri": "https://localhost:8080/",
     "height": 574
    },
    "executionInfo": {
     "elapsed": 881,
     "status": "ok",
     "timestamp": 1756901534808,
     "user": {
      "displayName": "Bence Erős",
      "userId": "04346986243673917258"
     },
     "user_tz": -120
    },
    "id": "2de93b29",
    "outputId": "4c8bf1f7-5edb-4a6f-af79-ff273c3ebcf5"
   },
   "outputs": [
    {
     "ename": "FileNotFoundError",
     "evalue": "[Errno 2] No such file or directory: 'mnt/data/neptun_demo.xlsx'",
     "output_type": "error",
     "traceback": [
      "\u001b[1;31m---------------------------------------------------------------------------\u001b[0m",
      "\u001b[1;31mFileNotFoundError\u001b[0m                         Traceback (most recent call last)",
      "Cell \u001b[1;32mIn[51], line 1\u001b[0m\n\u001b[1;32m----> 1\u001b[0m students \u001b[38;5;241m=\u001b[39m pd\u001b[38;5;241m.\u001b[39mread_excel(DATA_XLSX, sheet_name\u001b[38;5;241m=\u001b[39m\u001b[38;5;124m'\u001b[39m\u001b[38;5;124mstudents\u001b[39m\u001b[38;5;124m'\u001b[39m)\n\u001b[0;32m      2\u001b[0m courses \u001b[38;5;241m=\u001b[39m pd\u001b[38;5;241m.\u001b[39mread_excel(DATA_XLSX, sheet_name\u001b[38;5;241m=\u001b[39m\u001b[38;5;124m'\u001b[39m\u001b[38;5;124mcourses\u001b[39m\u001b[38;5;124m'\u001b[39m)\n\u001b[0;32m      3\u001b[0m enrollments \u001b[38;5;241m=\u001b[39m pd\u001b[38;5;241m.\u001b[39mread_excel(DATA_XLSX, sheet_name\u001b[38;5;241m=\u001b[39m\u001b[38;5;124m'\u001b[39m\u001b[38;5;124menrollments\u001b[39m\u001b[38;5;124m'\u001b[39m, parse_dates\u001b[38;5;241m=\u001b[39m[\u001b[38;5;124m'\u001b[39m\u001b[38;5;124menrolled_at\u001b[39m\u001b[38;5;124m'\u001b[39m])\n",
      "File \u001b[1;32m~\\anaconda3\\Lib\\site-packages\\pandas\\io\\excel\\_base.py:495\u001b[0m, in \u001b[0;36mread_excel\u001b[1;34m(io, sheet_name, header, names, index_col, usecols, dtype, engine, converters, true_values, false_values, skiprows, nrows, na_values, keep_default_na, na_filter, verbose, parse_dates, date_parser, date_format, thousands, decimal, comment, skipfooter, storage_options, dtype_backend, engine_kwargs)\u001b[0m\n\u001b[0;32m    493\u001b[0m \u001b[38;5;28;01mif\u001b[39;00m \u001b[38;5;129;01mnot\u001b[39;00m \u001b[38;5;28misinstance\u001b[39m(io, ExcelFile):\n\u001b[0;32m    494\u001b[0m     should_close \u001b[38;5;241m=\u001b[39m \u001b[38;5;28;01mTrue\u001b[39;00m\n\u001b[1;32m--> 495\u001b[0m     io \u001b[38;5;241m=\u001b[39m ExcelFile(\n\u001b[0;32m    496\u001b[0m         io,\n\u001b[0;32m    497\u001b[0m         storage_options\u001b[38;5;241m=\u001b[39mstorage_options,\n\u001b[0;32m    498\u001b[0m         engine\u001b[38;5;241m=\u001b[39mengine,\n\u001b[0;32m    499\u001b[0m         engine_kwargs\u001b[38;5;241m=\u001b[39mengine_kwargs,\n\u001b[0;32m    500\u001b[0m     )\n\u001b[0;32m    501\u001b[0m \u001b[38;5;28;01melif\u001b[39;00m engine \u001b[38;5;129;01mand\u001b[39;00m engine \u001b[38;5;241m!=\u001b[39m io\u001b[38;5;241m.\u001b[39mengine:\n\u001b[0;32m    502\u001b[0m     \u001b[38;5;28;01mraise\u001b[39;00m \u001b[38;5;167;01mValueError\u001b[39;00m(\n\u001b[0;32m    503\u001b[0m         \u001b[38;5;124m\"\u001b[39m\u001b[38;5;124mEngine should not be specified when passing \u001b[39m\u001b[38;5;124m\"\u001b[39m\n\u001b[0;32m    504\u001b[0m         \u001b[38;5;124m\"\u001b[39m\u001b[38;5;124man ExcelFile - ExcelFile already has the engine set\u001b[39m\u001b[38;5;124m\"\u001b[39m\n\u001b[0;32m    505\u001b[0m     )\n",
      "File \u001b[1;32m~\\anaconda3\\Lib\\site-packages\\pandas\\io\\excel\\_base.py:1550\u001b[0m, in \u001b[0;36mExcelFile.__init__\u001b[1;34m(self, path_or_buffer, engine, storage_options, engine_kwargs)\u001b[0m\n\u001b[0;32m   1548\u001b[0m     ext \u001b[38;5;241m=\u001b[39m \u001b[38;5;124m\"\u001b[39m\u001b[38;5;124mxls\u001b[39m\u001b[38;5;124m\"\u001b[39m\n\u001b[0;32m   1549\u001b[0m \u001b[38;5;28;01melse\u001b[39;00m:\n\u001b[1;32m-> 1550\u001b[0m     ext \u001b[38;5;241m=\u001b[39m inspect_excel_format(\n\u001b[0;32m   1551\u001b[0m         content_or_path\u001b[38;5;241m=\u001b[39mpath_or_buffer, storage_options\u001b[38;5;241m=\u001b[39mstorage_options\n\u001b[0;32m   1552\u001b[0m     )\n\u001b[0;32m   1553\u001b[0m     \u001b[38;5;28;01mif\u001b[39;00m ext \u001b[38;5;129;01mis\u001b[39;00m \u001b[38;5;28;01mNone\u001b[39;00m:\n\u001b[0;32m   1554\u001b[0m         \u001b[38;5;28;01mraise\u001b[39;00m \u001b[38;5;167;01mValueError\u001b[39;00m(\n\u001b[0;32m   1555\u001b[0m             \u001b[38;5;124m\"\u001b[39m\u001b[38;5;124mExcel file format cannot be determined, you must specify \u001b[39m\u001b[38;5;124m\"\u001b[39m\n\u001b[0;32m   1556\u001b[0m             \u001b[38;5;124m\"\u001b[39m\u001b[38;5;124man engine manually.\u001b[39m\u001b[38;5;124m\"\u001b[39m\n\u001b[0;32m   1557\u001b[0m         )\n",
      "File \u001b[1;32m~\\anaconda3\\Lib\\site-packages\\pandas\\io\\excel\\_base.py:1402\u001b[0m, in \u001b[0;36minspect_excel_format\u001b[1;34m(content_or_path, storage_options)\u001b[0m\n\u001b[0;32m   1399\u001b[0m \u001b[38;5;28;01mif\u001b[39;00m \u001b[38;5;28misinstance\u001b[39m(content_or_path, \u001b[38;5;28mbytes\u001b[39m):\n\u001b[0;32m   1400\u001b[0m     content_or_path \u001b[38;5;241m=\u001b[39m BytesIO(content_or_path)\n\u001b[1;32m-> 1402\u001b[0m \u001b[38;5;28;01mwith\u001b[39;00m get_handle(\n\u001b[0;32m   1403\u001b[0m     content_or_path, \u001b[38;5;124m\"\u001b[39m\u001b[38;5;124mrb\u001b[39m\u001b[38;5;124m\"\u001b[39m, storage_options\u001b[38;5;241m=\u001b[39mstorage_options, is_text\u001b[38;5;241m=\u001b[39m\u001b[38;5;28;01mFalse\u001b[39;00m\n\u001b[0;32m   1404\u001b[0m ) \u001b[38;5;28;01mas\u001b[39;00m handle:\n\u001b[0;32m   1405\u001b[0m     stream \u001b[38;5;241m=\u001b[39m handle\u001b[38;5;241m.\u001b[39mhandle\n\u001b[0;32m   1406\u001b[0m     stream\u001b[38;5;241m.\u001b[39mseek(\u001b[38;5;241m0\u001b[39m)\n",
      "File \u001b[1;32m~\\anaconda3\\Lib\\site-packages\\pandas\\io\\common.py:882\u001b[0m, in \u001b[0;36mget_handle\u001b[1;34m(path_or_buf, mode, encoding, compression, memory_map, is_text, errors, storage_options)\u001b[0m\n\u001b[0;32m    873\u001b[0m         handle \u001b[38;5;241m=\u001b[39m \u001b[38;5;28mopen\u001b[39m(\n\u001b[0;32m    874\u001b[0m             handle,\n\u001b[0;32m    875\u001b[0m             ioargs\u001b[38;5;241m.\u001b[39mmode,\n\u001b[1;32m   (...)\u001b[0m\n\u001b[0;32m    878\u001b[0m             newline\u001b[38;5;241m=\u001b[39m\u001b[38;5;124m\"\u001b[39m\u001b[38;5;124m\"\u001b[39m,\n\u001b[0;32m    879\u001b[0m         )\n\u001b[0;32m    880\u001b[0m     \u001b[38;5;28;01melse\u001b[39;00m:\n\u001b[0;32m    881\u001b[0m         \u001b[38;5;66;03m# Binary mode\u001b[39;00m\n\u001b[1;32m--> 882\u001b[0m         handle \u001b[38;5;241m=\u001b[39m \u001b[38;5;28mopen\u001b[39m(handle, ioargs\u001b[38;5;241m.\u001b[39mmode)\n\u001b[0;32m    883\u001b[0m     handles\u001b[38;5;241m.\u001b[39mappend(handle)\n\u001b[0;32m    885\u001b[0m \u001b[38;5;66;03m# Convert BytesIO or file objects passed with an encoding\u001b[39;00m\n",
      "\u001b[1;31mFileNotFoundError\u001b[0m: [Errno 2] No such file or directory: 'mnt/data/neptun_demo.xlsx'"
     ]
    }
   ],
   "source": [
    "students = pd.read_excel(DATA_XLSX, sheet_name='students')\n",
    "courses = pd.read_excel(DATA_XLSX, sheet_name='courses')\n",
    "enrollments = pd.read_excel(DATA_XLSX, sheet_name='enrollments', parse_dates=['enrolled_at'])\n",
    "\n",
    "\n",
    "print('Students:')\n",
    "display(students.head())\n",
    "print('Courses:')\n",
    "display(courses.head())\n",
    "print('Enrollments:')\n",
    "display(enrollments.head())"
   ]
  },
  {
   "cell_type": "markdown",
   "id": "569a86e2",
   "metadata": {
    "id": "569a86e2"
   },
   "source": [
    "## 2) Adattisztítás – whitespace, kis-nagybetűk, hiányzó mezők\n",
    "\n",
    "**Feladatok:**\n",
    "1. `name` mező tisztítása (dupla szóközök, trim).  \n",
    "2. `email` üres értékeinek pótlása (pl. *unknown* domainnel).  \n",
    "3. `kiss réka` → név formázása címkézett kezdőbetűkkel.  \n",
    "4. `enrollments` duplikátumainak kiszűrése (azonos `neptun + course_id`)."
   ]
  },
  {
   "cell_type": "code",
   "execution_count": 50,
   "id": "5322a1ad",
   "metadata": {
    "colab": {
     "base_uri": "https://localhost:8080/",
     "height": 475
    },
    "executionInfo": {
     "elapsed": 110,
     "status": "ok",
     "timestamp": 1756901805586,
     "user": {
      "displayName": "Bence Erős",
      "userId": "04346986243673917258"
     },
     "user_tz": -120
    },
    "id": "5322a1ad",
    "outputId": "ce439ad0-d749-405e-deba-09a3996681d8"
   },
   "outputs": [
    {
     "name": "stdout",
     "output_type": "stream",
     "text": [
      "Removed 0 duplicate enrollment rows.\n"
     ]
    },
    {
     "data": {
      "text/html": [
       "<div>\n",
       "<style scoped>\n",
       "    .dataframe tbody tr th:only-of-type {\n",
       "        vertical-align: middle;\n",
       "    }\n",
       "\n",
       "    .dataframe tbody tr th {\n",
       "        vertical-align: top;\n",
       "    }\n",
       "\n",
       "    .dataframe thead th {\n",
       "        text-align: right;\n",
       "    }\n",
       "</style>\n",
       "<table border=\"1\" class=\"dataframe\">\n",
       "  <thead>\n",
       "    <tr style=\"text-align: right;\">\n",
       "      <th></th>\n",
       "      <th>Unnamed: 0</th>\n",
       "      <th>neptun</th>\n",
       "      <th>name</th>\n",
       "      <th>email</th>\n",
       "      <th>program</th>\n",
       "      <th>start_year</th>\n",
       "    </tr>\n",
       "  </thead>\n",
       "  <tbody>\n",
       "    <tr>\n",
       "      <th>0</th>\n",
       "      <td>0</td>\n",
       "      <td>ABC123</td>\n",
       "      <td>Kovács Anna</td>\n",
       "      <td>anna.kovacs@example.com</td>\n",
       "      <td>BSc Business Informatics</td>\n",
       "      <td>2023</td>\n",
       "    </tr>\n",
       "    <tr>\n",
       "      <th>1</th>\n",
       "      <td>1</td>\n",
       "      <td>DEF456</td>\n",
       "      <td>Szabó Béla</td>\n",
       "      <td>def456@unknown.example.com</td>\n",
       "      <td>BSc Business Informatics</td>\n",
       "      <td>2022</td>\n",
       "    </tr>\n",
       "    <tr>\n",
       "      <th>2</th>\n",
       "      <td>2</td>\n",
       "      <td>GHI789</td>\n",
       "      <td>Nagy Csilla</td>\n",
       "      <td>csilla.nagy@example.com</td>\n",
       "      <td>BSc Business Informatics</td>\n",
       "      <td>2023</td>\n",
       "    </tr>\n",
       "    <tr>\n",
       "      <th>3</th>\n",
       "      <td>3</td>\n",
       "      <td>JKL012</td>\n",
       "      <td>Tóth Dániel</td>\n",
       "      <td>daniel.toth@example.com</td>\n",
       "      <td>BSc Business Informatics</td>\n",
       "      <td>2021</td>\n",
       "    </tr>\n",
       "    <tr>\n",
       "      <th>4</th>\n",
       "      <td>4</td>\n",
       "      <td>MNO345</td>\n",
       "      <td>Kiss Réka</td>\n",
       "      <td>reka.kiss@example.com</td>\n",
       "      <td>BSc Business Informatics</td>\n",
       "      <td>2024</td>\n",
       "    </tr>\n",
       "  </tbody>\n",
       "</table>\n",
       "</div>"
      ],
      "text/plain": [
       "   Unnamed: 0  neptun         name                       email  \\\n",
       "0           0  ABC123  Kovács Anna     anna.kovacs@example.com   \n",
       "1           1  DEF456   Szabó Béla  def456@unknown.example.com   \n",
       "2           2  GHI789  Nagy Csilla     csilla.nagy@example.com   \n",
       "3           3  JKL012  Tóth Dániel     daniel.toth@example.com   \n",
       "4           4  MNO345    Kiss Réka       reka.kiss@example.com   \n",
       "\n",
       "                    program  start_year  \n",
       "0  BSc Business Informatics        2023  \n",
       "1  BSc Business Informatics        2022  \n",
       "2  BSc Business Informatics        2023  \n",
       "3  BSc Business Informatics        2021  \n",
       "4  BSc Business Informatics        2024  "
      ]
     },
     "metadata": {},
     "output_type": "display_data"
    },
    {
     "data": {
      "text/html": [
       "<div>\n",
       "<style scoped>\n",
       "    .dataframe tbody tr th:only-of-type {\n",
       "        vertical-align: middle;\n",
       "    }\n",
       "\n",
       "    .dataframe tbody tr th {\n",
       "        vertical-align: top;\n",
       "    }\n",
       "\n",
       "    .dataframe thead th {\n",
       "        text-align: right;\n",
       "    }\n",
       "</style>\n",
       "<table border=\"1\" class=\"dataframe\">\n",
       "  <thead>\n",
       "    <tr style=\"text-align: right;\">\n",
       "      <th></th>\n",
       "      <th>grade</th>\n",
       "      <th>neptun</th>\n",
       "      <th>course_id</th>\n",
       "      <th>enrolled_at</th>\n",
       "      <th>missing_grade</th>\n",
       "      <th>grade_filled</th>\n",
       "    </tr>\n",
       "  </thead>\n",
       "  <tbody>\n",
       "    <tr>\n",
       "      <th>0</th>\n",
       "      <td>1</td>\n",
       "      <td>ABC123</td>\n",
       "      <td>DBAS102</td>\n",
       "      <td>2024-09-01</td>\n",
       "      <td>False</td>\n",
       "      <td>1</td>\n",
       "    </tr>\n",
       "    <tr>\n",
       "      <th>1</th>\n",
       "      <td>5</td>\n",
       "      <td>ABC123</td>\n",
       "      <td>DVIZ101</td>\n",
       "      <td>2024-09-01</td>\n",
       "      <td>False</td>\n",
       "      <td>5</td>\n",
       "    </tr>\n",
       "    <tr>\n",
       "      <th>2</th>\n",
       "      <td>2</td>\n",
       "      <td>DEF456</td>\n",
       "      <td>DVIZ101</td>\n",
       "      <td>2024-09-01</td>\n",
       "      <td>False</td>\n",
       "      <td>2</td>\n",
       "    </tr>\n",
       "    <tr>\n",
       "      <th>3</th>\n",
       "      <td>3</td>\n",
       "      <td>DEF456</td>\n",
       "      <td>STAT103</td>\n",
       "      <td>2024-09-02</td>\n",
       "      <td>False</td>\n",
       "      <td>3</td>\n",
       "    </tr>\n",
       "    <tr>\n",
       "      <th>4</th>\n",
       "      <td>4</td>\n",
       "      <td>GHI789</td>\n",
       "      <td>DVIZ101</td>\n",
       "      <td>2024-09-01</td>\n",
       "      <td>False</td>\n",
       "      <td>4</td>\n",
       "    </tr>\n",
       "  </tbody>\n",
       "</table>\n",
       "</div>"
      ],
      "text/plain": [
       "   grade  neptun course_id enrolled_at  missing_grade  grade_filled\n",
       "0      1  ABC123   DBAS102  2024-09-01          False             1\n",
       "1      5  ABC123   DVIZ101  2024-09-01          False             5\n",
       "2      2  DEF456   DVIZ101  2024-09-01          False             2\n",
       "3      3  DEF456   STAT103  2024-09-02          False             3\n",
       "4      4  GHI789   DVIZ101  2024-09-01          False             4"
      ]
     },
     "metadata": {},
     "output_type": "display_data"
    }
   ],
   "source": [
    "# 1) Trim és belső whitespace normalizálás\n",
    "students['name'] = students['name'].str.strip().str.replace(r'\\s+', ' ', regex=True)\n",
    "\n",
    "# 2) Hiányzó e-mailek pótlása\n",
    "students['email'] = students['email'].replace('', np.nan)\n",
    "students['email'] = students['email'].fillna(students['neptun'].str.lower() + '@unknown.example.com')\n",
    "\n",
    "# 3) Név egységesítése – title case (ékezetekre figyel: Python alap title() egyszerűsít, de demo célra elég)\n",
    "students['name'] = students['name'].str.title()\n",
    "\n",
    "# 4) Duplikált beiratkozások eltávolítása (azonos NEPTUN + kurzus)\n",
    "before = len(enrollments)\n",
    "enrollments = enrollments.sort_values(['neptun','course_id','enrolled_at']).drop_duplicates(subset=['neptun','course_id'], keep='first')\n",
    "after = len(enrollments)\n",
    "\n",
    "print(f'Removed {before - after} duplicate enrollment rows.')\n",
    "\n",
    "display(students)\n",
    "display(enrollments)"
   ]
  },
  {
   "cell_type": "markdown",
   "id": "c4de8452",
   "metadata": {
    "id": "c4de8452"
   },
   "source": [
    "## 3) Hiányzó jegyek kezelése\n",
    "\n",
    "**Feladat ötletek:**\n",
    "- Hiányzó (`NaN`) jegyek ideiglenes pótlása 0-val a statisztikákhoz, de *külön* jelölve, hogy hiányzott.\n",
    "- Alternatíva: median/average, vagy „IP”/„NA” jelzés üzleti szabály szerint."
   ]
  },
  {
   "cell_type": "code",
   "execution_count": 36,
   "id": "cc330d9d",
   "metadata": {
    "colab": {
     "base_uri": "https://localhost:8080/",
     "height": 269
    },
    "executionInfo": {
     "elapsed": 78,
     "status": "ok",
     "timestamp": 1756902070081,
     "user": {
      "displayName": "Bence Erős",
      "userId": "04346986243673917258"
     },
     "user_tz": -120
    },
    "id": "cc330d9d",
    "outputId": "edfb50ef-fa06-471f-ad31-538e19a8d8b7"
   },
   "outputs": [
    {
     "data": {
      "text/html": [
       "<div>\n",
       "<style scoped>\n",
       "    .dataframe tbody tr th:only-of-type {\n",
       "        vertical-align: middle;\n",
       "    }\n",
       "\n",
       "    .dataframe tbody tr th {\n",
       "        vertical-align: top;\n",
       "    }\n",
       "\n",
       "    .dataframe thead th {\n",
       "        text-align: right;\n",
       "    }\n",
       "</style>\n",
       "<table border=\"1\" class=\"dataframe\">\n",
       "  <thead>\n",
       "    <tr style=\"text-align: right;\">\n",
       "      <th></th>\n",
       "      <th>grade</th>\n",
       "      <th>neptun</th>\n",
       "      <th>course_id</th>\n",
       "      <th>enrolled_at</th>\n",
       "      <th>missing_grade</th>\n",
       "      <th>grade_filled</th>\n",
       "    </tr>\n",
       "  </thead>\n",
       "  <tbody>\n",
       "    <tr>\n",
       "      <th>0</th>\n",
       "      <td>1</td>\n",
       "      <td>ABC123</td>\n",
       "      <td>DBAS102</td>\n",
       "      <td>2024-09-01</td>\n",
       "      <td>False</td>\n",
       "      <td>1</td>\n",
       "    </tr>\n",
       "    <tr>\n",
       "      <th>1</th>\n",
       "      <td>5</td>\n",
       "      <td>ABC123</td>\n",
       "      <td>DVIZ101</td>\n",
       "      <td>2024-09-01</td>\n",
       "      <td>False</td>\n",
       "      <td>5</td>\n",
       "    </tr>\n",
       "    <tr>\n",
       "      <th>2</th>\n",
       "      <td>2</td>\n",
       "      <td>DEF456</td>\n",
       "      <td>DVIZ101</td>\n",
       "      <td>2024-09-01</td>\n",
       "      <td>False</td>\n",
       "      <td>2</td>\n",
       "    </tr>\n",
       "    <tr>\n",
       "      <th>3</th>\n",
       "      <td>3</td>\n",
       "      <td>DEF456</td>\n",
       "      <td>STAT103</td>\n",
       "      <td>2024-09-02</td>\n",
       "      <td>False</td>\n",
       "      <td>3</td>\n",
       "    </tr>\n",
       "    <tr>\n",
       "      <th>4</th>\n",
       "      <td>4</td>\n",
       "      <td>GHI789</td>\n",
       "      <td>DVIZ101</td>\n",
       "      <td>2024-09-01</td>\n",
       "      <td>False</td>\n",
       "      <td>4</td>\n",
       "    </tr>\n",
       "  </tbody>\n",
       "</table>\n",
       "</div>"
      ],
      "text/plain": [
       "   grade  neptun course_id enrolled_at  missing_grade  grade_filled\n",
       "0      1  ABC123   DBAS102  2024-09-01          False             1\n",
       "1      5  ABC123   DVIZ101  2024-09-01          False             5\n",
       "2      2  DEF456   DVIZ101  2024-09-01          False             2\n",
       "3      3  DEF456   STAT103  2024-09-02          False             3\n",
       "4      4  GHI789   DVIZ101  2024-09-01          False             4"
      ]
     },
     "metadata": {},
     "output_type": "display_data"
    }
   ],
   "source": [
    "enrollments['missing_grade'] = enrollments['grade'].isna()\n",
    "enrollments['grade_filled'] = enrollments['grade'].fillna(0)\n",
    "\n",
    "display(enrollments)"
   ]
  },
  {
   "cell_type": "markdown",
   "id": "cfd54afb",
   "metadata": {
    "id": "cfd54afb"
   },
   "source": [
    "## 4) Táblák összekapcsolása (JOIN)"
   ]
  },
  {
   "cell_type": "code",
   "execution_count": 37,
   "id": "a1c78ccf",
   "metadata": {
    "colab": {
     "base_uri": "https://localhost:8080/",
     "height": 206
    },
    "executionInfo": {
     "elapsed": 95,
     "status": "ok",
     "timestamp": 1756902114693,
     "user": {
      "displayName": "Bence Erős",
      "userId": "04346986243673917258"
     },
     "user_tz": -120
    },
    "id": "a1c78ccf",
    "outputId": "01e9f2d0-45cc-4cb8-e994-9a4bb4bbe516"
   },
   "outputs": [
    {
     "data": {
      "text/html": [
       "<div>\n",
       "<style scoped>\n",
       "    .dataframe tbody tr th:only-of-type {\n",
       "        vertical-align: middle;\n",
       "    }\n",
       "\n",
       "    .dataframe tbody tr th {\n",
       "        vertical-align: top;\n",
       "    }\n",
       "\n",
       "    .dataframe thead th {\n",
       "        text-align: right;\n",
       "    }\n",
       "</style>\n",
       "<table border=\"1\" class=\"dataframe\">\n",
       "  <thead>\n",
       "    <tr style=\"text-align: right;\">\n",
       "      <th></th>\n",
       "      <th>grade</th>\n",
       "      <th>neptun</th>\n",
       "      <th>course_id</th>\n",
       "      <th>enrolled_at</th>\n",
       "      <th>missing_grade</th>\n",
       "      <th>grade_filled</th>\n",
       "      <th>Unnamed: 0</th>\n",
       "      <th>name</th>\n",
       "      <th>email</th>\n",
       "      <th>program</th>\n",
       "      <th>start_year</th>\n",
       "      <th>course_name</th>\n",
       "      <th>credits</th>\n",
       "    </tr>\n",
       "  </thead>\n",
       "  <tbody>\n",
       "    <tr>\n",
       "      <th>0</th>\n",
       "      <td>1</td>\n",
       "      <td>ABC123</td>\n",
       "      <td>DBAS102</td>\n",
       "      <td>2024-09-01</td>\n",
       "      <td>False</td>\n",
       "      <td>1</td>\n",
       "      <td>0</td>\n",
       "      <td>Kovács Anna</td>\n",
       "      <td>anna.kovacs@example.com</td>\n",
       "      <td>BSc Business Informatics</td>\n",
       "      <td>2023</td>\n",
       "      <td>targy1</td>\n",
       "      <td>4.0</td>\n",
       "    </tr>\n",
       "    <tr>\n",
       "      <th>1</th>\n",
       "      <td>5</td>\n",
       "      <td>ABC123</td>\n",
       "      <td>DVIZ101</td>\n",
       "      <td>2024-09-01</td>\n",
       "      <td>False</td>\n",
       "      <td>5</td>\n",
       "      <td>0</td>\n",
       "      <td>Kovács Anna</td>\n",
       "      <td>anna.kovacs@example.com</td>\n",
       "      <td>BSc Business Informatics</td>\n",
       "      <td>2023</td>\n",
       "      <td>targy2</td>\n",
       "      <td>5.0</td>\n",
       "    </tr>\n",
       "    <tr>\n",
       "      <th>2</th>\n",
       "      <td>5</td>\n",
       "      <td>ABC123</td>\n",
       "      <td>DVIZ101</td>\n",
       "      <td>2024-09-01</td>\n",
       "      <td>False</td>\n",
       "      <td>5</td>\n",
       "      <td>0</td>\n",
       "      <td>Kovács Anna</td>\n",
       "      <td>anna.kovacs@example.com</td>\n",
       "      <td>BSc Business Informatics</td>\n",
       "      <td>2023</td>\n",
       "      <td>targy3</td>\n",
       "      <td>5.0</td>\n",
       "    </tr>\n",
       "    <tr>\n",
       "      <th>3</th>\n",
       "      <td>2</td>\n",
       "      <td>DEF456</td>\n",
       "      <td>DVIZ101</td>\n",
       "      <td>2024-09-01</td>\n",
       "      <td>False</td>\n",
       "      <td>2</td>\n",
       "      <td>1</td>\n",
       "      <td>Szabó Béla</td>\n",
       "      <td>def456@unknown.example.com</td>\n",
       "      <td>BSc Business Informatics</td>\n",
       "      <td>2022</td>\n",
       "      <td>targy2</td>\n",
       "      <td>5.0</td>\n",
       "    </tr>\n",
       "    <tr>\n",
       "      <th>4</th>\n",
       "      <td>2</td>\n",
       "      <td>DEF456</td>\n",
       "      <td>DVIZ101</td>\n",
       "      <td>2024-09-01</td>\n",
       "      <td>False</td>\n",
       "      <td>2</td>\n",
       "      <td>1</td>\n",
       "      <td>Szabó Béla</td>\n",
       "      <td>def456@unknown.example.com</td>\n",
       "      <td>BSc Business Informatics</td>\n",
       "      <td>2022</td>\n",
       "      <td>targy3</td>\n",
       "      <td>5.0</td>\n",
       "    </tr>\n",
       "  </tbody>\n",
       "</table>\n",
       "</div>"
      ],
      "text/plain": [
       "   grade  neptun course_id enrolled_at  missing_grade  grade_filled  \\\n",
       "0      1  ABC123   DBAS102  2024-09-01          False             1   \n",
       "1      5  ABC123   DVIZ101  2024-09-01          False             5   \n",
       "2      5  ABC123   DVIZ101  2024-09-01          False             5   \n",
       "3      2  DEF456   DVIZ101  2024-09-01          False             2   \n",
       "4      2  DEF456   DVIZ101  2024-09-01          False             2   \n",
       "\n",
       "   Unnamed: 0         name                       email  \\\n",
       "0           0  Kovács Anna     anna.kovacs@example.com   \n",
       "1           0  Kovács Anna     anna.kovacs@example.com   \n",
       "2           0  Kovács Anna     anna.kovacs@example.com   \n",
       "3           1   Szabó Béla  def456@unknown.example.com   \n",
       "4           1   Szabó Béla  def456@unknown.example.com   \n",
       "\n",
       "                    program  start_year course_name  credits  \n",
       "0  BSc Business Informatics        2023      targy1      4.0  \n",
       "1  BSc Business Informatics        2023      targy2      5.0  \n",
       "2  BSc Business Informatics        2023      targy3      5.0  \n",
       "3  BSc Business Informatics        2022      targy2      5.0  \n",
       "4  BSc Business Informatics        2022      targy3      5.0  "
      ]
     },
     "metadata": {},
     "output_type": "display_data"
    }
   ],
   "source": [
    "df = enrollments.merge(students, on='neptun', how='left')\\\n",
    "                 .merge(courses, on='course_id', how='left')\n",
    "\n",
    "display(df.head())"
   ]
  },
  {
   "cell_type": "markdown",
   "id": "96969ff6",
   "metadata": {
    "id": "96969ff6"
   },
   "source": [
    "## 5) Pivot táblák\n",
    "\n",
    "**Feladatok:**\n",
    "1. Átlagjegy kurzusonként.  \n",
    "2. Hallgatónként összegzett kreditek (csak sikeres – pl. jegy ≥ 2).  \n",
    "3. Pass rate kurzusonként (jegy ≥ 2 aránya)."
   ]
  },
  {
   "cell_type": "code",
   "execution_count": 38,
   "id": "6fdad2d3",
   "metadata": {
    "colab": {
     "base_uri": "https://localhost:8080/",
     "height": 459
    },
    "executionInfo": {
     "elapsed": 135,
     "status": "ok",
     "timestamp": 1756902132922,
     "user": {
      "displayName": "Bence Erős",
      "userId": "04346986243673917258"
     },
     "user_tz": -120
    },
    "id": "6fdad2d3",
    "outputId": "e64e0fa6-ea83-4412-b315-1acd3689eb0f"
   },
   "outputs": [
    {
     "data": {
      "text/html": [
       "<div>\n",
       "<style scoped>\n",
       "    .dataframe tbody tr th:only-of-type {\n",
       "        vertical-align: middle;\n",
       "    }\n",
       "\n",
       "    .dataframe tbody tr th {\n",
       "        vertical-align: top;\n",
       "    }\n",
       "\n",
       "    .dataframe thead th {\n",
       "        text-align: right;\n",
       "    }\n",
       "</style>\n",
       "<table border=\"1\" class=\"dataframe\">\n",
       "  <thead>\n",
       "    <tr style=\"text-align: right;\">\n",
       "      <th></th>\n",
       "      <th></th>\n",
       "      <th>grade</th>\n",
       "    </tr>\n",
       "    <tr>\n",
       "      <th>course_id</th>\n",
       "      <th>course_name</th>\n",
       "      <th></th>\n",
       "    </tr>\n",
       "  </thead>\n",
       "  <tbody>\n",
       "    <tr>\n",
       "      <th>DBAS102</th>\n",
       "      <th>targy1</th>\n",
       "      <td>1.000000</td>\n",
       "    </tr>\n",
       "    <tr>\n",
       "      <th rowspan=\"2\" valign=\"top\">DVIZ101</th>\n",
       "      <th>targy2</th>\n",
       "      <td>3.666667</td>\n",
       "    </tr>\n",
       "    <tr>\n",
       "      <th>targy3</th>\n",
       "      <td>3.666667</td>\n",
       "    </tr>\n",
       "  </tbody>\n",
       "</table>\n",
       "</div>"
      ],
      "text/plain": [
       "                          grade\n",
       "course_id course_name          \n",
       "DBAS102   targy1       1.000000\n",
       "DVIZ101   targy2       3.666667\n",
       "          targy3       3.666667"
      ]
     },
     "metadata": {},
     "output_type": "display_data"
    },
    {
     "data": {
      "text/html": [
       "<div>\n",
       "<style scoped>\n",
       "    .dataframe tbody tr th:only-of-type {\n",
       "        vertical-align: middle;\n",
       "    }\n",
       "\n",
       "    .dataframe tbody tr th {\n",
       "        vertical-align: top;\n",
       "    }\n",
       "\n",
       "    .dataframe thead th {\n",
       "        text-align: right;\n",
       "    }\n",
       "</style>\n",
       "<table border=\"1\" class=\"dataframe\">\n",
       "  <thead>\n",
       "    <tr style=\"text-align: right;\">\n",
       "      <th></th>\n",
       "      <th>neptun</th>\n",
       "      <th>name</th>\n",
       "      <th>earned_credits</th>\n",
       "    </tr>\n",
       "  </thead>\n",
       "  <tbody>\n",
       "    <tr>\n",
       "      <th>0</th>\n",
       "      <td>ABC123</td>\n",
       "      <td>Kovács Anna</td>\n",
       "      <td>10.0</td>\n",
       "    </tr>\n",
       "    <tr>\n",
       "      <th>1</th>\n",
       "      <td>DEF456</td>\n",
       "      <td>Szabó Béla</td>\n",
       "      <td>10.0</td>\n",
       "    </tr>\n",
       "    <tr>\n",
       "      <th>2</th>\n",
       "      <td>GHI789</td>\n",
       "      <td>Nagy Csilla</td>\n",
       "      <td>10.0</td>\n",
       "    </tr>\n",
       "  </tbody>\n",
       "</table>\n",
       "</div>"
      ],
      "text/plain": [
       "   neptun         name  earned_credits\n",
       "0  ABC123  Kovács Anna            10.0\n",
       "1  DEF456   Szabó Béla            10.0\n",
       "2  GHI789  Nagy Csilla            10.0"
      ]
     },
     "metadata": {},
     "output_type": "display_data"
    },
    {
     "data": {
      "text/html": [
       "<div>\n",
       "<style scoped>\n",
       "    .dataframe tbody tr th:only-of-type {\n",
       "        vertical-align: middle;\n",
       "    }\n",
       "\n",
       "    .dataframe tbody tr th {\n",
       "        vertical-align: top;\n",
       "    }\n",
       "\n",
       "    .dataframe thead th {\n",
       "        text-align: right;\n",
       "    }\n",
       "</style>\n",
       "<table border=\"1\" class=\"dataframe\">\n",
       "  <thead>\n",
       "    <tr style=\"text-align: right;\">\n",
       "      <th></th>\n",
       "      <th>course_id</th>\n",
       "      <th>course_name</th>\n",
       "      <th>attempts</th>\n",
       "      <th>passes</th>\n",
       "      <th>pass_rate</th>\n",
       "    </tr>\n",
       "  </thead>\n",
       "  <tbody>\n",
       "    <tr>\n",
       "      <th>0</th>\n",
       "      <td>DBAS102</td>\n",
       "      <td>targy1</td>\n",
       "      <td>1</td>\n",
       "      <td>0</td>\n",
       "      <td>0.0</td>\n",
       "    </tr>\n",
       "    <tr>\n",
       "      <th>1</th>\n",
       "      <td>DVIZ101</td>\n",
       "      <td>targy2</td>\n",
       "      <td>3</td>\n",
       "      <td>3</td>\n",
       "      <td>1.0</td>\n",
       "    </tr>\n",
       "    <tr>\n",
       "      <th>2</th>\n",
       "      <td>DVIZ101</td>\n",
       "      <td>targy3</td>\n",
       "      <td>3</td>\n",
       "      <td>3</td>\n",
       "      <td>1.0</td>\n",
       "    </tr>\n",
       "  </tbody>\n",
       "</table>\n",
       "</div>"
      ],
      "text/plain": [
       "  course_id course_name  attempts  passes  pass_rate\n",
       "0   DBAS102      targy1         1       0        0.0\n",
       "1   DVIZ101      targy2         3       3        1.0\n",
       "2   DVIZ101      targy3         3       3        1.0"
      ]
     },
     "metadata": {},
     "output_type": "display_data"
    }
   ],
   "source": [
    "# 1) Átlagjegy kurzusonként (a feltöltött 0-k torzíthatnak, ezért az eredeti grade-et használjuk, NaN-ok kihagyva)\n",
    "avg_grade_by_course = df.pivot_table(values='grade', index=['course_id','course_name'], aggfunc='mean')\n",
    "display(avg_grade_by_course)\n",
    "\n",
    "# 2) Sikeres teljesítések kreditszáma hallgatónként\n",
    "df['passed'] = df['grade'] >= 2\n",
    "credits_by_student = df[df['passed']].groupby(['neptun','name'], as_index=False)['credits'].sum().rename(columns={'credits':'earned_credits'})\n",
    "display(credits_by_student)\n",
    "\n",
    "# 3) Pass rate kurzusonként\n",
    "pass_rate = df.groupby(['course_id','course_name']).agg(\n",
    "    attempts=('grade','size'),\n",
    "    passes=('passed','sum')\n",
    ").reset_index()\n",
    "pass_rate['pass_rate'] = pass_rate['passes'] / pass_rate['attempts']\n",
    "display(pass_rate)"
   ]
  },
  {
   "cell_type": "markdown",
   "id": "9270f3de",
   "metadata": {
    "id": "9270f3de"
   },
   "source": [
    "## 6) Adatvizualizáció (matplotlib)"
   ]
  },
  {
   "cell_type": "code",
   "execution_count": 39,
   "id": "45f4ab0c",
   "metadata": {
    "colab": {
     "base_uri": "https://localhost:8080/",
     "height": 487
    },
    "executionInfo": {
     "elapsed": 468,
     "status": "ok",
     "timestamp": 1756902152182,
     "user": {
      "displayName": "Bence Erős",
      "userId": "04346986243673917258"
     },
     "user_tz": -120
    },
    "id": "45f4ab0c",
    "outputId": "af803236-e64e-4c12-d41d-6d6274dbd375"
   },
   "outputs": [
    {
     "data": {
      "image/png": "[encoded data removed]",
      "text/plain": [
       "<Figure size 640x480 with 1 Axes>"
      ]
     },
     "metadata": {},
     "output_type": "display_data"
    }
   ],
   "source": [
    "# Beiratkozások kurzusonként\n",
    "counts = df.groupby('course_name').size().sort_values(ascending=False)\n",
    "\n",
    "plt.figure()\n",
    "counts.plot(kind='bar')\n",
    "plt.title('Beiratkozások kurzusonként')\n",
    "plt.xlabel('Kurzus')\n",
    "plt.ylabel('Létszám')\n",
    "plt.tight_layout()\n",
    "plt.show()"
   ]
  },
  {
   "cell_type": "code",
   "execution_count": 40,
   "id": "2b13b0c2",
   "metadata": {
    "colab": {
     "base_uri": "https://localhost:8080/",
     "height": 487
    },
    "executionInfo": {
     "elapsed": 222,
     "status": "ok",
     "timestamp": 1756902159425,
     "user": {
      "displayName": "Bence Erős",
      "userId": "04346986243673917258"
     },
     "user_tz": -120
    },
    "id": "2b13b0c2",
    "outputId": "cc450a38-b3c9-4223-fb08-561839abe52a"
   },
   "outputs": [
    {
     "data": {
      "image/png": "[encoded data removed]",
      "text/plain": [
       "<Figure size 640x480 with 1 Axes>"
      ]
     },
     "metadata": {},
     "output_type": "display_data"
    }
   ],
   "source": [
    "# Jegyeloszlás (csak meglévő jegyek)\n",
    "grades = df['grade'].dropna()\n",
    "\n",
    "plt.figure()\n",
    "plt.hist(grades, bins=[1,2,3,4,5,6], align='left', rwidth=0.8)\n",
    "plt.title('Jegyeloszlás')\n",
    "plt.xlabel('Jegy')\n",
    "plt.ylabel('Hallgatók száma')\n",
    "plt.tight_layout()\n",
    "plt.show()"
   ]
  },
  {
   "cell_type": "code",
   "execution_count": 41,
   "id": "e4b79236",
   "metadata": {
    "colab": {
     "base_uri": "https://localhost:8080/",
     "height": 487
    },
    "executionInfo": {
     "elapsed": 169,
     "status": "ok",
     "timestamp": 1756902165455,
     "user": {
      "displayName": "Bence Erős",
      "userId": "04346986243673917258"
     },
     "user_tz": -120
    },
    "id": "e4b79236",
    "outputId": "ed64da58-1467-4abb-91d1-29958360a0ee"
   },
   "outputs": [
    {
     "data": {
      "image/png": "[encoded data removed]",
      "text/plain": [
       "<Figure size 640x480 with 1 Axes>"
      ]
     },
     "metadata": {},
     "output_type": "display_data"
    }
   ],
   "source": [
    "# Pass rate kurzusonként\n",
    "plt.figure()\n",
    "plt.bar(pass_rate['course_name'], pass_rate['pass_rate'])\n",
    "plt.title('Sikerességi arány kurzusonként')\n",
    "plt.xlabel('Kurzus')\n",
    "plt.ylabel('Pass rate')\n",
    "plt.ylim(0,1)\n",
    "plt.tight_layout()\n",
    "plt.show()"
   ]
  },
  {
   "cell_type": "markdown",
   "id": "cbd1cda3",
   "metadata": {
    "id": "cbd1cda3"
   },
   "source": [
    "## 7) Riport készítés és exportálás"
   ]
  },
  {
   "cell_type": "code",
   "execution_count": 43,
   "id": "9aa17c6f",
   "metadata": {
    "colab": {
     "base_uri": "https://localhost:8080/",
     "height": 224
    },
    "executionInfo": {
     "elapsed": 48,
     "status": "ok",
     "timestamp": 1756902173169,
     "user": {
      "displayName": "Bence Erős",
      "userId": "04346986243673917258"
     },
     "user_tz": -120
    },
    "id": "9aa17c6f",
    "outputId": "1d3fe87c-d818-4813-963e-8467561a8d59"
   },
   "outputs": [
    {
     "data": {
      "text/html": [
       "<div>\n",
       "<style scoped>\n",
       "    .dataframe tbody tr th:only-of-type {\n",
       "        vertical-align: middle;\n",
       "    }\n",
       "\n",
       "    .dataframe tbody tr th {\n",
       "        vertical-align: top;\n",
       "    }\n",
       "\n",
       "    .dataframe thead th {\n",
       "        text-align: right;\n",
       "    }\n",
       "</style>\n",
       "<table border=\"1\" class=\"dataframe\">\n",
       "  <thead>\n",
       "    <tr style=\"text-align: right;\">\n",
       "      <th></th>\n",
       "      <th>neptun</th>\n",
       "      <th>name</th>\n",
       "      <th>avg_grade</th>\n",
       "      <th>missing_counts</th>\n",
       "      <th>earned_credits</th>\n",
       "      <th>at_risk</th>\n",
       "    </tr>\n",
       "  </thead>\n",
       "  <tbody>\n",
       "    <tr>\n",
       "      <th>1</th>\n",
       "      <td>DEF456</td>\n",
       "      <td>Szabó Béla</td>\n",
       "      <td>2.333333</td>\n",
       "      <td>0</td>\n",
       "      <td>10.0</td>\n",
       "      <td>True</td>\n",
       "    </tr>\n",
       "    <tr>\n",
       "      <th>0</th>\n",
       "      <td>ABC123</td>\n",
       "      <td>Kovács Anna</td>\n",
       "      <td>3.666667</td>\n",
       "      <td>0</td>\n",
       "      <td>10.0</td>\n",
       "      <td>False</td>\n",
       "    </tr>\n",
       "    <tr>\n",
       "      <th>2</th>\n",
       "      <td>GHI789</td>\n",
       "      <td>Nagy Csilla</td>\n",
       "      <td>4.000000</td>\n",
       "      <td>0</td>\n",
       "      <td>10.0</td>\n",
       "      <td>False</td>\n",
       "    </tr>\n",
       "  </tbody>\n",
       "</table>\n",
       "</div>"
      ],
      "text/plain": [
       "   neptun         name  avg_grade  missing_counts  earned_credits  at_risk\n",
       "1  DEF456   Szabó Béla   2.333333               0            10.0     True\n",
       "0  ABC123  Kovács Anna   3.666667               0            10.0    False\n",
       "2  GHI789  Nagy Csilla   4.000000               0            10.0    False"
      ]
     },
     "metadata": {},
     "output_type": "display_data"
    },
    {
     "name": "stdout",
     "output_type": "stream",
     "text": [
      "Report exported to: mnt/data/neptun_report.xlsx\n"
     ]
    }
   ],
   "source": [
    "# Példa riport: kockázatos hallgatók (alacsony átlag vagy hiányzó jegyek)\n",
    "risk = df.copy()\n",
    "risk['grade_zero_if_missing'] = risk['grade'].fillna(0)\n",
    "summary = risk.groupby(['neptun','name'], as_index=False).agg(\n",
    "    avg_grade=('grade_zero_if_missing','mean'),\n",
    "    missing_counts=('missing_grade','sum'),\n",
    "    earned_credits=('credits', lambda s: s[risk.loc[s.index, 'passed']].sum())\n",
    ")\n",
    "\n",
    "# Heurisztika: kockázatos, ha az átlag < 2.5 vagy van hiányzó jegy\n",
    "summary['at_risk'] = (summary['avg_grade'] < 2.5) | (summary['missing_counts'] > 0)\n",
    "\n",
    "display(summary.sort_values(['at_risk','avg_grade'], ascending=[False, True]))\n",
    "\n",
    "# Exportálás Excel-be\n",
    "report_path = 'mnt/data/neptun_report.xlsx'\n",
    "with pd.ExcelWriter(report_path) as writer:\n",
    "    avg_grade_by_course.to_excel(writer, sheet_name='avg_grade_by_course')\n",
    "    credits_by_student.to_excel(writer, sheet_name='credits_by_student', index=False)\n",
    "    pass_rate.to_excel(writer, sheet_name='pass_rate', index=False)\n",
    "    summary.to_excel(writer, sheet_name='student_risk', index=False)\n",
    "\n",
    "print('Report exported to:', report_path)"
   ]
  },
  {
   "cell_type": "markdown",
   "id": "419a931d",
   "metadata": {
    "id": "419a931d"
   },
   "source": [
    "## 8) Képek kezelése – hallgatói fotók összerendelése Neptun-kód alapján"
   ]
  },
  {
   "cell_type": "code",
   "execution_count": 44,
   "id": "7cac9449",
   "metadata": {
    "colab": {
     "base_uri": "https://localhost:8080/",
     "height": 1000
    },
    "executionInfo": {
     "elapsed": 1134,
     "status": "ok",
     "timestamp": 1756902254413,
     "user": {
      "displayName": "Bence Erős",
      "userId": "04346986243673917258"
     },
     "user_tz": -120
    },
    "id": "7cac9449",
    "outputId": "9a01e195-42e6-4dcc-a728-53f538a7fbb0"
   },
   "outputs": [
    {
     "name": "stdout",
     "output_type": "stream",
     "text": [
      "ABC123 → NINCS kép (placeholder szükséges)\n",
      "DEF456 → NINCS kép (placeholder szükséges)\n",
      "GHI789 → NINCS kép (placeholder szükséges)\n",
      "JKL012 → NINCS kép (placeholder szükséges)\n",
      "MNO345 → NINCS kép (placeholder szükséges)\n"
     ]
    }
   ],
   "source": [
    "def load_student_photo(neptun):\n",
    "    path = os.path.join(PHOTOS_DIR, f'{neptun}.png')\n",
    "    if os.path.exists(path):\n",
    "        return Image.open(path)\n",
    "    else:\n",
    "        return None\n",
    "\n",
    "# Válasszunk ki pár hallgatót és jelenítsük meg a képeiket (ha megvan)\n",
    "sample_neptuns = students['neptun'].tolist()\n",
    "\n",
    "for code in sample_neptuns:\n",
    "    img = load_student_photo(code)\n",
    "    if img is None:\n",
    "        print(code, '→ NINCS kép (placeholder szükséges)')\n",
    "    else:\n",
    "        print(code, '→ kép betöltve, méret:', img.size)\n",
    "        display(img)"
   ]
  },
  {
   "cell_type": "markdown",
   "id": "66741d72",
   "metadata": {
    "id": "66741d72"
   },
   "source": [
    "### 8/a) Egyszerű képfeldolgozás: átméretezés és szürkeárnyalatos konverzió"
   ]
  },
  {
   "cell_type": "code",
   "execution_count": 45,
   "id": "5546491d",
   "metadata": {
    "colab": {
     "base_uri": "https://localhost:8080/"
    },
    "executionInfo": {
     "elapsed": 47,
     "status": "ok",
     "timestamp": 1756902277967,
     "user": {
      "displayName": "Bence Erős",
      "userId": "04346986243673917258"
     },
     "user_tz": -120
    },
    "id": "5546491d",
    "outputId": "91fa7941-5cf4-43d6-9c53-82a2d5142cd1"
   },
   "outputs": [
    {
     "name": "stdout",
     "output_type": "stream",
     "text": [
      "Processed images saved to: /mnt/data/photos_processed\n"
     ]
    }
   ],
   "source": [
    "# Átméretezés és szürkeárnyalatos mentés új fájlba\n",
    "out_dir = '/mnt/data/photos_processed'\n",
    "os.makedirs(out_dir, exist_ok=True)\n",
    "\n",
    "for code in sample_neptuns:\n",
    "    img = load_student_photo(code)\n",
    "    if img is None:\n",
    "        continue\n",
    "    img_resized = img.resize((128,128))\n",
    "    img_gray = img_resized.convert('L')\n",
    "    img_gray.save(os.path.join(out_dir, f'{code}_gray.png'))\n",
    "\n",
    "print('Processed images saved to:', out_dir)"
   ]
  },
  {
   "cell_type": "markdown",
   "id": "ad21bd0c",
   "metadata": {
    "id": "ad21bd0c"
   },
   "source": [
    "## 9) Gyakorló feladatok (önálló munka)\n",
    "\n",
    "1. **Adattisztítás:** adj hozzá új hallgatót üres vagy hibás e-mail címmel, majd írj kódot a korrekciójára.  \n",
    "2. **Hiányzó jegyek:** változtasd meg a pótlás logikáját (pl. mediánnal töltsd ki kurzusonként).  \n",
    "3. **Pivot:** készíts pivot táblát, amely a kurzusok *átlagos kreditszámát* és *hallgatói létszámát* mutatja.  \n",
    "4. **Riport:** állíts elő külön Excel-lapot, amely csak a „kockázatos” hallgatókat listázza indoklással.  \n",
    "5. **Képek:** készíts helyettesítő (placeholder) képet azoknak, akiknél nincs fotó, és rendeld hozzájuk.  \n",
    "6. **Vizualizáció:** rajzolj vonaldiagramot, ami a beiratkozások időbeli alakulását mutatja (ha több dátum áll rendelkezésre).\n",
    "\n",
    "**Tipp:** Ha a saját Neptun-adatmintáddal dolgozol, csak cseréld ki a `DATA_XLSX` útvonalat, és igazítsd a kódot a saját oszlopneveidhez.\n"
   ]
  }
 ],
 "metadata": {
  "colab": {
   "provenance": []
  },
  "kernelspec": {
   "display_name": "Python 3 (ipykernel)",
   "language": "python",
   "name": "python3"
  },
  "language_info": {
   "codemirror_mode": {
    "name": "ipython",
    "version": 3
   },
   "file_extension": ".py",
   "mimetype": "text/x-python",
   "name": "python",
   "nbconvert_exporter": "python",
   "pygments_lexer": "ipython3",
   "version": "3.12.3"
  }
 },
 "nbformat": 4,
 "nbformat_minor": 5
}
