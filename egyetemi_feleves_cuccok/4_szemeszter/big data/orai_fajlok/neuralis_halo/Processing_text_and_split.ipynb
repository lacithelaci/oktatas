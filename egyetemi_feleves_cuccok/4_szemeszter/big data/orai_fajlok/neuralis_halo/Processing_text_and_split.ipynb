{
 "cells": [
  {
   "cell_type": "markdown",
   "metadata": {},
   "source": [
    "# Handling Text Data"
   ]
  },
  {
   "cell_type": "code",
   "execution_count": 1,
   "metadata": {},
   "outputs": [],
   "source": [
    "import numpy as np\n",
    "from matplotlib import pyplot as plt\n",
    "import pandas as pd\n",
    "import seaborn as sns\n",
    "from sklearn.cluster import KMeans\n",
    "pd.set_option('display.max_columns', None)"
   ]
  },
  {
   "cell_type": "code",
   "execution_count": 2,
   "metadata": {},
   "outputs": [],
   "source": [
    "df = pd.read_csv('AllTweets.csv')"
   ]
  },
  {
   "cell_type": "code",
   "execution_count": 3,
   "metadata": {},
   "outputs": [
    {
     "data": {
      "text/html": [
       "<div>\n",
       "<style scoped>\n",
       "    .dataframe tbody tr th:only-of-type {\n",
       "        vertical-align: middle;\n",
       "    }\n",
       "\n",
       "    .dataframe tbody tr th {\n",
       "        vertical-align: top;\n",
       "    }\n",
       "\n",
       "    .dataframe thead th {\n",
       "        text-align: right;\n",
       "    }\n",
       "</style>\n",
       "<table border=\"1\" class=\"dataframe\">\n",
       "  <thead>\n",
       "    <tr style=\"text-align: right;\">\n",
       "      <th></th>\n",
       "      <th>date</th>\n",
       "      <th>id</th>\n",
       "      <th>link</th>\n",
       "      <th>retweet</th>\n",
       "      <th>text</th>\n",
       "      <th>author</th>\n",
       "    </tr>\n",
       "  </thead>\n",
       "  <tbody>\n",
       "    <tr>\n",
       "      <th>0</th>\n",
       "      <td>18h18 hours ago</td>\n",
       "      <td>7.870290e+17</td>\n",
       "      <td>/NASA/status/787029214612586496</td>\n",
       "      <td>False</td>\n",
       "      <td>New software on the @Space_Station will make d...</td>\n",
       "      <td>NASA</td>\n",
       "    </tr>\n",
       "    <tr>\n",
       "      <th>1</th>\n",
       "      <td>19h19 hours ago</td>\n",
       "      <td>7.870090e+17</td>\n",
       "      <td>/NASA/status/787008587927281664</td>\n",
       "      <td>False</td>\n",
       "      <td>READY for Launch! @OrbitalATK's #Antares rocke...</td>\n",
       "      <td>NASA</td>\n",
       "    </tr>\n",
       "    <tr>\n",
       "      <th>2</th>\n",
       "      <td>17h17 hours ago</td>\n",
       "      <td>7.870420e+17</td>\n",
       "      <td>/NASA/status/787042156116664320</td>\n",
       "      <td>False</td>\n",
       "      <td>Rocket launch at 8:03pm ET Sunday to deliver c...</td>\n",
       "      <td>NASA</td>\n",
       "    </tr>\n",
       "    <tr>\n",
       "      <th>3</th>\n",
       "      <td>47m47 minutes ago</td>\n",
       "      <td>7.872840e+17</td>\n",
       "      <td>/NASA/status/787284414732472320</td>\n",
       "      <td>False</td>\n",
       "      <td>What happened this week at NASA? @POTUS outlin...</td>\n",
       "      <td>NASA</td>\n",
       "    </tr>\n",
       "    <tr>\n",
       "      <th>4</th>\n",
       "      <td>24h24 hours ago</td>\n",
       "      <td>7.869340e+17</td>\n",
       "      <td>/NASA/status/786934496625102848</td>\n",
       "      <td>False</td>\n",
       "      <td>Energize! Study makes sure astronauts have ene...</td>\n",
       "      <td>NASA</td>\n",
       "    </tr>\n",
       "  </tbody>\n",
       "</table>\n",
       "</div>"
      ],
      "text/plain": [
       "                date            id                             link  retweet  \\\n",
       "0    18h18 hours ago  7.870290e+17  /NASA/status/787029214612586496    False   \n",
       "1    19h19 hours ago  7.870090e+17  /NASA/status/787008587927281664    False   \n",
       "2    17h17 hours ago  7.870420e+17  /NASA/status/787042156116664320    False   \n",
       "3  47m47 minutes ago  7.872840e+17  /NASA/status/787284414732472320    False   \n",
       "4    24h24 hours ago  7.869340e+17  /NASA/status/786934496625102848    False   \n",
       "\n",
       "                                                text author  \n",
       "0  New software on the @Space_Station will make d...   NASA  \n",
       "1  READY for Launch! @OrbitalATK's #Antares rocke...   NASA  \n",
       "2  Rocket launch at 8:03pm ET Sunday to deliver c...   NASA  \n",
       "3  What happened this week at NASA? @POTUS outlin...   NASA  \n",
       "4  Energize! Study makes sure astronauts have ene...   NASA  "
      ]
     },
     "execution_count": 3,
     "metadata": {},
     "output_type": "execute_result"
    }
   ],
   "source": [
    "df.head()"
   ]
  },
  {
   "cell_type": "code",
   "execution_count": 4,
   "metadata": {},
   "outputs": [
    {
     "data": {
      "text/plain": [
       "88625"
      ]
     },
     "execution_count": 4,
     "metadata": {},
     "output_type": "execute_result"
    }
   ],
   "source": [
    "len(df)"
   ]
  },
  {
   "cell_type": "code",
   "execution_count": 5,
   "metadata": {},
   "outputs": [
    {
     "data": {
      "text/plain": [
       "array(['NASA', 'AdamSavage', 'various', 'BarackObama', 'DonaldTrump',\n",
       "       'FiveThirtyEight', 'HillaryClinton', 'KimKardashian',\n",
       "       'deGrasseTyson', 'ScottKelly', 'RichardDawkins'], dtype=object)"
      ]
     },
     "execution_count": 5,
     "metadata": {},
     "output_type": "execute_result"
    }
   ],
   "source": [
    "df['author'].unique()"
   ]
  },
  {
   "cell_type": "code",
   "execution_count": 6,
   "metadata": {},
   "outputs": [
    {
     "data": {
      "text/plain": [
       "'New software on the @Space_Station will make data communications faster and easier for hundreds of scientists: http://go.nasa.gov/2dQrLto\\xa0pic.twitter.com/weIfEomT9x'"
      ]
     },
     "execution_count": 6,
     "metadata": {},
     "output_type": "execute_result"
    }
   ],
   "source": [
    "df.loc[0,'text']"
   ]
  },
  {
   "cell_type": "code",
   "execution_count": 8,
   "metadata": {},
   "outputs": [],
   "source": [
    "t = 'New software on the @Space_Station will make data communications faster and easier for hundreds of scientists:'+\\\n",
    "        'http://go.nasa.gov/2dQrLto\\xa0pic.twitter.com/weIfEomT9x'"
   ]
  },
  {
   "cell_type": "markdown",
   "metadata": {},
   "source": [
    "#### To Lowercase:"
   ]
  },
  {
   "cell_type": "code",
   "execution_count": 9,
   "metadata": {},
   "outputs": [
    {
     "data": {
      "text/plain": [
       "'new software on the @space_station will make data communications faster and easier for hundreds of scientists:http://go.nasa.gov/2dqrlto\\xa0pic.twitter.com/weifeomt9x'"
      ]
     },
     "execution_count": 9,
     "metadata": {},
     "output_type": "execute_result"
    }
   ],
   "source": [
    "t = t.lower()\n",
    "t"
   ]
  },
  {
   "cell_type": "code",
   "execution_count": 10,
   "metadata": {},
   "outputs": [],
   "source": [
    "import nltk"
   ]
  },
  {
   "cell_type": "code",
   "execution_count": 12,
   "metadata": {},
   "outputs": [
    {
     "name": "stderr",
     "output_type": "stream",
     "text": [
      "[nltk_data] Downloading package stopwords to\n",
      "[nltk_data]     C:\\Users\\H\\AppData\\Roaming\\nltk_data...\n",
      "[nltk_data]   Package stopwords is already up-to-date!\n",
      "[nltk_data] Downloading package punkt to\n",
      "[nltk_data]     C:\\Users\\H\\AppData\\Roaming\\nltk_data...\n",
      "[nltk_data]   Package punkt is already up-to-date!\n"
     ]
    },
    {
     "data": {
      "text/plain": [
       "True"
      ]
     },
     "execution_count": 12,
     "metadata": {},
     "output_type": "execute_result"
    }
   ],
   "source": [
    "nltk.download('stopwords')\n",
    "nltk.download('punkt')"
   ]
  },
  {
   "cell_type": "markdown",
   "metadata": {},
   "source": [
    "#### Split text"
   ]
  },
  {
   "cell_type": "code",
   "execution_count": 13,
   "metadata": {},
   "outputs": [
    {
     "data": {
      "text/plain": [
       "['new',\n",
       " 'software',\n",
       " 'on',\n",
       " 'the',\n",
       " '@',\n",
       " 'space_station',\n",
       " 'will',\n",
       " 'make',\n",
       " 'data',\n",
       " 'communications',\n",
       " 'faster',\n",
       " 'and',\n",
       " 'easier',\n",
       " 'for',\n",
       " 'hundreds',\n",
       " 'of',\n",
       " 'scientists',\n",
       " ':',\n",
       " 'http',\n",
       " ':',\n",
       " '//go.nasa.gov/2dqrlto',\n",
       " 'pic.twitter.com/weifeomt9x']"
      ]
     },
     "execution_count": 13,
     "metadata": {},
     "output_type": "execute_result"
    }
   ],
   "source": [
    "tokenized_text = nltk.tokenize.word_tokenize(t)\n",
    "tokenized_text"
   ]
  },
  {
   "cell_type": "markdown",
   "metadata": {},
   "source": [
    "#### Keep only alphabetic words"
   ]
  },
  {
   "cell_type": "code",
   "execution_count": 14,
   "metadata": {},
   "outputs": [
    {
     "data": {
      "text/plain": [
       "['new',\n",
       " 'software',\n",
       " 'on',\n",
       " 'the',\n",
       " 'will',\n",
       " 'make',\n",
       " 'data',\n",
       " 'communications',\n",
       " 'faster',\n",
       " 'and',\n",
       " 'easier',\n",
       " 'for',\n",
       " 'hundreds',\n",
       " 'of',\n",
       " 'scientists',\n",
       " 'http']"
      ]
     },
     "execution_count": 14,
     "metadata": {},
     "output_type": "execute_result"
    }
   ],
   "source": [
    "alphabetic_text = [w for w in tokenized_text if w.isalpha()]\n",
    "alphabetic_text"
   ]
  },
  {
   "cell_type": "markdown",
   "metadata": {},
   "source": [
    "#### Remove stop words:"
   ]
  },
  {
   "cell_type": "code",
   "execution_count": 15,
   "metadata": {
    "scrolled": true
   },
   "outputs": [
    {
     "data": {
      "text/plain": [
       "['i',\n",
       " 'me',\n",
       " 'my',\n",
       " 'myself',\n",
       " 'we',\n",
       " 'our',\n",
       " 'ours',\n",
       " 'ourselves',\n",
       " 'you',\n",
       " \"you're\",\n",
       " \"you've\",\n",
       " \"you'll\",\n",
       " \"you'd\",\n",
       " 'your',\n",
       " 'yours',\n",
       " 'yourself',\n",
       " 'yourselves',\n",
       " 'he',\n",
       " 'him',\n",
       " 'his',\n",
       " 'himself',\n",
       " 'she',\n",
       " \"she's\",\n",
       " 'her',\n",
       " 'hers',\n",
       " 'herself',\n",
       " 'it',\n",
       " \"it's\",\n",
       " 'its',\n",
       " 'itself',\n",
       " 'they',\n",
       " 'them',\n",
       " 'their',\n",
       " 'theirs',\n",
       " 'themselves',\n",
       " 'what',\n",
       " 'which',\n",
       " 'who',\n",
       " 'whom',\n",
       " 'this',\n",
       " 'that',\n",
       " \"that'll\",\n",
       " 'these',\n",
       " 'those',\n",
       " 'am',\n",
       " 'is',\n",
       " 'are',\n",
       " 'was',\n",
       " 'were',\n",
       " 'be',\n",
       " 'been',\n",
       " 'being',\n",
       " 'have',\n",
       " 'has',\n",
       " 'had',\n",
       " 'having',\n",
       " 'do',\n",
       " 'does',\n",
       " 'did',\n",
       " 'doing',\n",
       " 'a',\n",
       " 'an',\n",
       " 'the',\n",
       " 'and',\n",
       " 'but',\n",
       " 'if',\n",
       " 'or',\n",
       " 'because',\n",
       " 'as',\n",
       " 'until',\n",
       " 'while',\n",
       " 'of',\n",
       " 'at',\n",
       " 'by',\n",
       " 'for',\n",
       " 'with',\n",
       " 'about',\n",
       " 'against',\n",
       " 'between',\n",
       " 'into',\n",
       " 'through',\n",
       " 'during',\n",
       " 'before',\n",
       " 'after',\n",
       " 'above',\n",
       " 'below',\n",
       " 'to',\n",
       " 'from',\n",
       " 'up',\n",
       " 'down',\n",
       " 'in',\n",
       " 'out',\n",
       " 'on',\n",
       " 'off',\n",
       " 'over',\n",
       " 'under',\n",
       " 'again',\n",
       " 'further',\n",
       " 'then',\n",
       " 'once',\n",
       " 'here',\n",
       " 'there',\n",
       " 'when',\n",
       " 'where',\n",
       " 'why',\n",
       " 'how',\n",
       " 'all',\n",
       " 'any',\n",
       " 'both',\n",
       " 'each',\n",
       " 'few',\n",
       " 'more',\n",
       " 'most',\n",
       " 'other',\n",
       " 'some',\n",
       " 'such',\n",
       " 'no',\n",
       " 'nor',\n",
       " 'not',\n",
       " 'only',\n",
       " 'own',\n",
       " 'same',\n",
       " 'so',\n",
       " 'than',\n",
       " 'too',\n",
       " 'very',\n",
       " 's',\n",
       " 't',\n",
       " 'can',\n",
       " 'will',\n",
       " 'just',\n",
       " 'don',\n",
       " \"don't\",\n",
       " 'should',\n",
       " \"should've\",\n",
       " 'now',\n",
       " 'd',\n",
       " 'll',\n",
       " 'm',\n",
       " 'o',\n",
       " 're',\n",
       " 've',\n",
       " 'y',\n",
       " 'ain',\n",
       " 'aren',\n",
       " \"aren't\",\n",
       " 'couldn',\n",
       " \"couldn't\",\n",
       " 'didn',\n",
       " \"didn't\",\n",
       " 'doesn',\n",
       " \"doesn't\",\n",
       " 'hadn',\n",
       " \"hadn't\",\n",
       " 'hasn',\n",
       " \"hasn't\",\n",
       " 'haven',\n",
       " \"haven't\",\n",
       " 'isn',\n",
       " \"isn't\",\n",
       " 'ma',\n",
       " 'mightn',\n",
       " \"mightn't\",\n",
       " 'mustn',\n",
       " \"mustn't\",\n",
       " 'needn',\n",
       " \"needn't\",\n",
       " 'shan',\n",
       " \"shan't\",\n",
       " 'shouldn',\n",
       " \"shouldn't\",\n",
       " 'wasn',\n",
       " \"wasn't\",\n",
       " 'weren',\n",
       " \"weren't\",\n",
       " 'won',\n",
       " \"won't\",\n",
       " 'wouldn',\n",
       " \"wouldn't\"]"
      ]
     },
     "execution_count": 15,
     "metadata": {},
     "output_type": "execute_result"
    }
   ],
   "source": [
    "stopwords = nltk.corpus.stopwords.words('english')\n",
    "stopwords"
   ]
  },
  {
   "cell_type": "code",
   "execution_count": 16,
   "metadata": {},
   "outputs": [
    {
     "data": {
      "text/plain": [
       "['new',\n",
       " 'software',\n",
       " 'make',\n",
       " 'data',\n",
       " 'communications',\n",
       " 'faster',\n",
       " 'easier',\n",
       " 'hundreds',\n",
       " 'scientists',\n",
       " 'http']"
      ]
     },
     "execution_count": 16,
     "metadata": {},
     "output_type": "execute_result"
    }
   ],
   "source": [
    "t = [w for w in alphabetic_text if w not in stopwords]\n",
    "t"
   ]
  },
  {
   "cell_type": "markdown",
   "metadata": {},
   "source": [
    "#### Stem words"
   ]
  },
  {
   "cell_type": "code",
   "execution_count": 17,
   "metadata": {},
   "outputs": [
    {
     "data": {
      "text/plain": [
       "['new',\n",
       " 'softwar',\n",
       " 'make',\n",
       " 'data',\n",
       " 'commun',\n",
       " 'faster',\n",
       " 'easier',\n",
       " 'hundr',\n",
       " 'scientist',\n",
       " 'http']"
      ]
     },
     "execution_count": 17,
     "metadata": {},
     "output_type": "execute_result"
    }
   ],
   "source": [
    "stemmer = nltk.stem.porter.PorterStemmer()\n",
    "stemmed = [stemmer.stem(w) for w in t]\n",
    "stemmed"
   ]
  },
  {
   "cell_type": "code",
   "execution_count": 18,
   "metadata": {},
   "outputs": [
    {
     "data": {
      "text/plain": [
       "'new softwar make data commun faster easier hundr scientist http'"
      ]
     },
     "execution_count": 18,
     "metadata": {},
     "output_type": "execute_result"
    }
   ],
   "source": [
    "new_text = ' '.join(stemmed)\n",
    "new_text"
   ]
  },
  {
   "cell_type": "markdown",
   "metadata": {},
   "source": [
    "#### Merge everything in a function"
   ]
  },
  {
   "cell_type": "code",
   "execution_count": 19,
   "metadata": {},
   "outputs": [],
   "source": [
    "def clean_text(t):    \n",
    "    tokenized_text = nltk.tokenize.word_tokenize(t.lower())\n",
    "    alphabetic_text = [w for w in tokenized_text if w.isalpha()]\n",
    "    alphabetic_text\n",
    "    t = [w for w in alphabetic_text if w not in stopwords]\n",
    "    stemmed = [stemmer.stem(w) for w in t]\n",
    "    new_text = ' '.join(stemmed)\n",
    "    return new_text"
   ]
  },
  {
   "cell_type": "code",
   "execution_count": 20,
   "metadata": {},
   "outputs": [
    {
     "data": {
      "text/plain": [
       "'readi launch orbitalatk antar rocket cargo ship set lift et sunday http'"
      ]
     },
     "execution_count": 20,
     "metadata": {},
     "output_type": "execute_result"
    }
   ],
   "source": [
    "clean_text(df.loc[1,'text'])"
   ]
  },
  {
   "cell_type": "markdown",
   "metadata": {},
   "source": [
    "#### Add new column for cleaned text"
   ]
  },
  {
   "cell_type": "code",
   "execution_count": 21,
   "metadata": {},
   "outputs": [
    {
     "data": {
      "text/html": [
       "<div>\n",
       "<style scoped>\n",
       "    .dataframe tbody tr th:only-of-type {\n",
       "        vertical-align: middle;\n",
       "    }\n",
       "\n",
       "    .dataframe tbody tr th {\n",
       "        vertical-align: top;\n",
       "    }\n",
       "\n",
       "    .dataframe thead th {\n",
       "        text-align: right;\n",
       "    }\n",
       "</style>\n",
       "<table border=\"1\" class=\"dataframe\">\n",
       "  <thead>\n",
       "    <tr style=\"text-align: right;\">\n",
       "      <th></th>\n",
       "      <th>date</th>\n",
       "      <th>id</th>\n",
       "      <th>link</th>\n",
       "      <th>retweet</th>\n",
       "      <th>text</th>\n",
       "      <th>author</th>\n",
       "      <th>cleaned_text</th>\n",
       "    </tr>\n",
       "  </thead>\n",
       "  <tbody>\n",
       "    <tr>\n",
       "      <th>0</th>\n",
       "      <td>18h18 hours ago</td>\n",
       "      <td>7.870290e+17</td>\n",
       "      <td>/NASA/status/787029214612586496</td>\n",
       "      <td>False</td>\n",
       "      <td>New software on the @Space_Station will make d...</td>\n",
       "      <td>NASA</td>\n",
       "      <td>new softwar make data commun faster easier hun...</td>\n",
       "    </tr>\n",
       "    <tr>\n",
       "      <th>1</th>\n",
       "      <td>19h19 hours ago</td>\n",
       "      <td>7.870090e+17</td>\n",
       "      <td>/NASA/status/787008587927281664</td>\n",
       "      <td>False</td>\n",
       "      <td>READY for Launch! @OrbitalATK's #Antares rocke...</td>\n",
       "      <td>NASA</td>\n",
       "      <td>readi launch orbitalatk antar rocket cargo shi...</td>\n",
       "    </tr>\n",
       "    <tr>\n",
       "      <th>2</th>\n",
       "      <td>17h17 hours ago</td>\n",
       "      <td>7.870420e+17</td>\n",
       "      <td>/NASA/status/787042156116664320</td>\n",
       "      <td>False</td>\n",
       "      <td>Rocket launch at 8:03pm ET Sunday to deliver c...</td>\n",
       "      <td>NASA</td>\n",
       "      <td>rocket launch et sunday deliv cargo launch vie...</td>\n",
       "    </tr>\n",
       "    <tr>\n",
       "      <th>3</th>\n",
       "      <td>47m47 minutes ago</td>\n",
       "      <td>7.872840e+17</td>\n",
       "      <td>/NASA/status/787284414732472320</td>\n",
       "      <td>False</td>\n",
       "      <td>What happened this week at NASA? @POTUS outlin...</td>\n",
       "      <td>NASA</td>\n",
       "      <td>happen week nasa potu outlin space explor futu...</td>\n",
       "    </tr>\n",
       "    <tr>\n",
       "      <th>4</th>\n",
       "      <td>24h24 hours ago</td>\n",
       "      <td>7.869340e+17</td>\n",
       "      <td>/NASA/status/786934496625102848</td>\n",
       "      <td>False</td>\n",
       "      <td>Energize! Study makes sure astronauts have ene...</td>\n",
       "      <td>NASA</td>\n",
       "      <td>energ studi make sure astronaut energi need wa...</td>\n",
       "    </tr>\n",
       "  </tbody>\n",
       "</table>\n",
       "</div>"
      ],
      "text/plain": [
       "                date            id                             link  retweet  \\\n",
       "0    18h18 hours ago  7.870290e+17  /NASA/status/787029214612586496    False   \n",
       "1    19h19 hours ago  7.870090e+17  /NASA/status/787008587927281664    False   \n",
       "2    17h17 hours ago  7.870420e+17  /NASA/status/787042156116664320    False   \n",
       "3  47m47 minutes ago  7.872840e+17  /NASA/status/787284414732472320    False   \n",
       "4    24h24 hours ago  7.869340e+17  /NASA/status/786934496625102848    False   \n",
       "\n",
       "                                                text author  \\\n",
       "0  New software on the @Space_Station will make d...   NASA   \n",
       "1  READY for Launch! @OrbitalATK's #Antares rocke...   NASA   \n",
       "2  Rocket launch at 8:03pm ET Sunday to deliver c...   NASA   \n",
       "3  What happened this week at NASA? @POTUS outlin...   NASA   \n",
       "4  Energize! Study makes sure astronauts have ene...   NASA   \n",
       "\n",
       "                                        cleaned_text  \n",
       "0  new softwar make data commun faster easier hun...  \n",
       "1  readi launch orbitalatk antar rocket cargo shi...  \n",
       "2  rocket launch et sunday deliv cargo launch vie...  \n",
       "3  happen week nasa potu outlin space explor futu...  \n",
       "4  energ studi make sure astronaut energi need wa...  "
      ]
     },
     "execution_count": 21,
     "metadata": {},
     "output_type": "execute_result"
    }
   ],
   "source": [
    "df['cleaned_text'] = df['text'].map(clean_text)\n",
    "df.head()"
   ]
  },
  {
   "cell_type": "markdown",
   "metadata": {},
   "source": [
    "## Prepare training Data"
   ]
  },
  {
   "cell_type": "markdown",
   "metadata": {},
   "source": [
    "### Vectorize text"
   ]
  },
  {
   "cell_type": "code",
   "execution_count": 22,
   "metadata": {},
   "outputs": [],
   "source": [
    "from sklearn.feature_extraction.text import TfidfVectorizer\n",
    "tfidf = TfidfVectorizer(max_features=100)"
   ]
  },
  {
   "cell_type": "code",
   "execution_count": 23,
   "metadata": {},
   "outputs": [
    {
     "data": {
      "text/plain": [
       "TfidfVectorizer(analyzer='word', binary=False, decode_error='strict',\n",
       "                dtype=<class 'numpy.float64'>, encoding='utf-8',\n",
       "                input='content', lowercase=True, max_df=1.0, max_features=100,\n",
       "                min_df=1, ngram_range=(1, 1), norm='l2', preprocessor=None,\n",
       "                smooth_idf=True, stop_words=None, strip_accents=None,\n",
       "                sublinear_tf=False, token_pattern='(?u)\\\\b\\\\w\\\\w+\\\\b',\n",
       "                tokenizer=None, use_idf=True, vocabulary=None)"
      ]
     },
     "execution_count": 23,
     "metadata": {},
     "output_type": "execute_result"
    }
   ],
   "source": [
    "tfidf.fit(df['cleaned_text'])"
   ]
  },
  {
   "cell_type": "code",
   "execution_count": 24,
   "metadata": {},
   "outputs": [
    {
     "data": {
      "text/plain": [
       "'new softwar make data commun faster easier hundr scientist http'"
      ]
     },
     "execution_count": 24,
     "metadata": {},
     "output_type": "execute_result"
    }
   ],
   "source": [
    "new_text"
   ]
  },
  {
   "cell_type": "code",
   "execution_count": 25,
   "metadata": {},
   "outputs": [
    {
     "data": {
      "text/plain": [
       "array([[15],\n",
       "       [31],\n",
       "       [47],\n",
       "       [56]], dtype=int64)"
      ]
     },
     "execution_count": 25,
     "metadata": {},
     "output_type": "execute_result"
    }
   ],
   "source": [
    "x = tfidf.transform([new_text]).todense().getA()[0]\n",
    "x\n",
    "np.argwhere(x!=0)"
   ]
  },
  {
   "cell_type": "code",
   "execution_count": 26,
   "metadata": {},
   "outputs": [
    {
     "data": {
      "text/plain": [
       "[('data', 0.5709914684287255),\n",
       " ('http', 0.21803050543601585),\n",
       " ('make', 0.5777520658974478),\n",
       " ('new', 0.5409565528137676)]"
      ]
     },
     "execution_count": 26,
     "metadata": {},
     "output_type": "execute_result"
    }
   ],
   "source": [
    "list(zip(np.array(tfidf.get_feature_names())[x!=0],x[x!=0]))"
   ]
  },
  {
   "cell_type": "code",
   "execution_count": 27,
   "metadata": {},
   "outputs": [],
   "source": [
    "x = tfidf.transform(df['cleaned_text'])"
   ]
  },
  {
   "cell_type": "code",
   "execution_count": 28,
   "metadata": {},
   "outputs": [
    {
     "data": {
      "text/plain": [
       "<88625x100 sparse matrix of type '<class 'numpy.float64'>'\n",
       "\twith 234634 stored elements in Compressed Sparse Row format>"
      ]
     },
     "execution_count": 28,
     "metadata": {},
     "output_type": "execute_result"
    }
   ],
   "source": [
    "x"
   ]
  },
  {
   "cell_type": "markdown",
   "metadata": {},
   "source": [
    "### Additional Features, if you want!"
   ]
  },
  {
   "cell_type": "markdown",
   "metadata": {},
   "source": [
    "#### Number of words in each text"
   ]
  },
  {
   "cell_type": "code",
   "execution_count": 29,
   "metadata": {},
   "outputs": [],
   "source": [
    "df['words_count'] = df['text'].map(lambda t: len(t.split(' ')))"
   ]
  },
  {
   "cell_type": "code",
   "execution_count": 30,
   "metadata": {},
   "outputs": [
    {
     "data": {
      "text/html": [
       "<div>\n",
       "<style scoped>\n",
       "    .dataframe tbody tr th:only-of-type {\n",
       "        vertical-align: middle;\n",
       "    }\n",
       "\n",
       "    .dataframe tbody tr th {\n",
       "        vertical-align: top;\n",
       "    }\n",
       "\n",
       "    .dataframe thead th {\n",
       "        text-align: right;\n",
       "    }\n",
       "</style>\n",
       "<table border=\"1\" class=\"dataframe\">\n",
       "  <thead>\n",
       "    <tr style=\"text-align: right;\">\n",
       "      <th></th>\n",
       "      <th>date</th>\n",
       "      <th>id</th>\n",
       "      <th>link</th>\n",
       "      <th>retweet</th>\n",
       "      <th>text</th>\n",
       "      <th>author</th>\n",
       "      <th>cleaned_text</th>\n",
       "      <th>words_count</th>\n",
       "    </tr>\n",
       "  </thead>\n",
       "  <tbody>\n",
       "    <tr>\n",
       "      <th>0</th>\n",
       "      <td>18h18 hours ago</td>\n",
       "      <td>7.870290e+17</td>\n",
       "      <td>/NASA/status/787029214612586496</td>\n",
       "      <td>False</td>\n",
       "      <td>New software on the @Space_Station will make d...</td>\n",
       "      <td>NASA</td>\n",
       "      <td>new softwar make data commun faster easier hun...</td>\n",
       "      <td>17</td>\n",
       "    </tr>\n",
       "    <tr>\n",
       "      <th>1</th>\n",
       "      <td>19h19 hours ago</td>\n",
       "      <td>7.870090e+17</td>\n",
       "      <td>/NASA/status/787008587927281664</td>\n",
       "      <td>False</td>\n",
       "      <td>READY for Launch! @OrbitalATK's #Antares rocke...</td>\n",
       "      <td>NASA</td>\n",
       "      <td>readi launch orbitalatk antar rocket cargo shi...</td>\n",
       "      <td>20</td>\n",
       "    </tr>\n",
       "    <tr>\n",
       "      <th>2</th>\n",
       "      <td>17h17 hours ago</td>\n",
       "      <td>7.870420e+17</td>\n",
       "      <td>/NASA/status/787042156116664320</td>\n",
       "      <td>False</td>\n",
       "      <td>Rocket launch at 8:03pm ET Sunday to deliver c...</td>\n",
       "      <td>NASA</td>\n",
       "      <td>rocket launch et sunday deliv cargo launch vie...</td>\n",
       "      <td>20</td>\n",
       "    </tr>\n",
       "    <tr>\n",
       "      <th>3</th>\n",
       "      <td>47m47 minutes ago</td>\n",
       "      <td>7.872840e+17</td>\n",
       "      <td>/NASA/status/787284414732472320</td>\n",
       "      <td>False</td>\n",
       "      <td>What happened this week at NASA? @POTUS outlin...</td>\n",
       "      <td>NASA</td>\n",
       "      <td>happen week nasa potu outlin space explor futu...</td>\n",
       "      <td>18</td>\n",
       "    </tr>\n",
       "    <tr>\n",
       "      <th>4</th>\n",
       "      <td>24h24 hours ago</td>\n",
       "      <td>7.869340e+17</td>\n",
       "      <td>/NASA/status/786934496625102848</td>\n",
       "      <td>False</td>\n",
       "      <td>Energize! Study makes sure astronauts have ene...</td>\n",
       "      <td>NASA</td>\n",
       "      <td>energ studi make sure astronaut energi need wa...</td>\n",
       "      <td>17</td>\n",
       "    </tr>\n",
       "  </tbody>\n",
       "</table>\n",
       "</div>"
      ],
      "text/plain": [
       "                date            id                             link  retweet  \\\n",
       "0    18h18 hours ago  7.870290e+17  /NASA/status/787029214612586496    False   \n",
       "1    19h19 hours ago  7.870090e+17  /NASA/status/787008587927281664    False   \n",
       "2    17h17 hours ago  7.870420e+17  /NASA/status/787042156116664320    False   \n",
       "3  47m47 minutes ago  7.872840e+17  /NASA/status/787284414732472320    False   \n",
       "4    24h24 hours ago  7.869340e+17  /NASA/status/786934496625102848    False   \n",
       "\n",
       "                                                text author  \\\n",
       "0  New software on the @Space_Station will make d...   NASA   \n",
       "1  READY for Launch! @OrbitalATK's #Antares rocke...   NASA   \n",
       "2  Rocket launch at 8:03pm ET Sunday to deliver c...   NASA   \n",
       "3  What happened this week at NASA? @POTUS outlin...   NASA   \n",
       "4  Energize! Study makes sure astronauts have ene...   NASA   \n",
       "\n",
       "                                        cleaned_text  words_count  \n",
       "0  new softwar make data commun faster easier hun...           17  \n",
       "1  readi launch orbitalatk antar rocket cargo shi...           20  \n",
       "2  rocket launch et sunday deliv cargo launch vie...           20  \n",
       "3  happen week nasa potu outlin space explor futu...           18  \n",
       "4  energ studi make sure astronaut energi need wa...           17  "
      ]
     },
     "execution_count": 30,
     "metadata": {},
     "output_type": "execute_result"
    }
   ],
   "source": [
    "df.head()"
   ]
  },
  {
   "cell_type": "markdown",
   "metadata": {},
   "source": [
    "#### number of punctuation symbols in original text"
   ]
  },
  {
   "cell_type": "code",
   "execution_count": 31,
   "metadata": {},
   "outputs": [],
   "source": [
    "df['punct_count'] = df['text'].map(lambda t: len([x for x in t if x in (';', ':', ',', '.', '!', '?')]))"
   ]
  },
  {
   "cell_type": "code",
   "execution_count": 32,
   "metadata": {},
   "outputs": [
    {
     "data": {
      "text/html": [
       "<div>\n",
       "<style scoped>\n",
       "    .dataframe tbody tr th:only-of-type {\n",
       "        vertical-align: middle;\n",
       "    }\n",
       "\n",
       "    .dataframe tbody tr th {\n",
       "        vertical-align: top;\n",
       "    }\n",
       "\n",
       "    .dataframe thead th {\n",
       "        text-align: right;\n",
       "    }\n",
       "</style>\n",
       "<table border=\"1\" class=\"dataframe\">\n",
       "  <thead>\n",
       "    <tr style=\"text-align: right;\">\n",
       "      <th></th>\n",
       "      <th>date</th>\n",
       "      <th>id</th>\n",
       "      <th>link</th>\n",
       "      <th>retweet</th>\n",
       "      <th>text</th>\n",
       "      <th>author</th>\n",
       "      <th>cleaned_text</th>\n",
       "      <th>words_count</th>\n",
       "      <th>punct_count</th>\n",
       "    </tr>\n",
       "  </thead>\n",
       "  <tbody>\n",
       "    <tr>\n",
       "      <th>0</th>\n",
       "      <td>18h18 hours ago</td>\n",
       "      <td>7.870290e+17</td>\n",
       "      <td>/NASA/status/787029214612586496</td>\n",
       "      <td>False</td>\n",
       "      <td>New software on the @Space_Station will make d...</td>\n",
       "      <td>NASA</td>\n",
       "      <td>new softwar make data commun faster easier hun...</td>\n",
       "      <td>17</td>\n",
       "      <td>6</td>\n",
       "    </tr>\n",
       "    <tr>\n",
       "      <th>1</th>\n",
       "      <td>19h19 hours ago</td>\n",
       "      <td>7.870090e+17</td>\n",
       "      <td>/NASA/status/787008587927281664</td>\n",
       "      <td>False</td>\n",
       "      <td>READY for Launch! @OrbitalATK's #Antares rocke...</td>\n",
       "      <td>NASA</td>\n",
       "      <td>readi launch orbitalatk antar rocket cargo shi...</td>\n",
       "      <td>20</td>\n",
       "      <td>8</td>\n",
       "    </tr>\n",
       "    <tr>\n",
       "      <th>2</th>\n",
       "      <td>17h17 hours ago</td>\n",
       "      <td>7.870420e+17</td>\n",
       "      <td>/NASA/status/787042156116664320</td>\n",
       "      <td>False</td>\n",
       "      <td>Rocket launch at 8:03pm ET Sunday to deliver c...</td>\n",
       "      <td>NASA</td>\n",
       "      <td>rocket launch et sunday deliv cargo launch vie...</td>\n",
       "      <td>20</td>\n",
       "      <td>9</td>\n",
       "    </tr>\n",
       "    <tr>\n",
       "      <th>3</th>\n",
       "      <td>47m47 minutes ago</td>\n",
       "      <td>7.872840e+17</td>\n",
       "      <td>/NASA/status/787284414732472320</td>\n",
       "      <td>False</td>\n",
       "      <td>What happened this week at NASA? @POTUS outlin...</td>\n",
       "      <td>NASA</td>\n",
       "      <td>happen week nasa potu outlin space explor futu...</td>\n",
       "      <td>18</td>\n",
       "      <td>7</td>\n",
       "    </tr>\n",
       "    <tr>\n",
       "      <th>4</th>\n",
       "      <td>24h24 hours ago</td>\n",
       "      <td>7.869340e+17</td>\n",
       "      <td>/NASA/status/786934496625102848</td>\n",
       "      <td>False</td>\n",
       "      <td>Energize! Study makes sure astronauts have ene...</td>\n",
       "      <td>NASA</td>\n",
       "      <td>energ studi make sure astronaut energi need wa...</td>\n",
       "      <td>17</td>\n",
       "      <td>9</td>\n",
       "    </tr>\n",
       "  </tbody>\n",
       "</table>\n",
       "</div>"
      ],
      "text/plain": [
       "                date            id                             link  retweet  \\\n",
       "0    18h18 hours ago  7.870290e+17  /NASA/status/787029214612586496    False   \n",
       "1    19h19 hours ago  7.870090e+17  /NASA/status/787008587927281664    False   \n",
       "2    17h17 hours ago  7.870420e+17  /NASA/status/787042156116664320    False   \n",
       "3  47m47 minutes ago  7.872840e+17  /NASA/status/787284414732472320    False   \n",
       "4    24h24 hours ago  7.869340e+17  /NASA/status/786934496625102848    False   \n",
       "\n",
       "                                                text author  \\\n",
       "0  New software on the @Space_Station will make d...   NASA   \n",
       "1  READY for Launch! @OrbitalATK's #Antares rocke...   NASA   \n",
       "2  Rocket launch at 8:03pm ET Sunday to deliver c...   NASA   \n",
       "3  What happened this week at NASA? @POTUS outlin...   NASA   \n",
       "4  Energize! Study makes sure astronauts have ene...   NASA   \n",
       "\n",
       "                                        cleaned_text  words_count  punct_count  \n",
       "0  new softwar make data commun faster easier hun...           17            6  \n",
       "1  readi launch orbitalatk antar rocket cargo shi...           20            8  \n",
       "2  rocket launch et sunday deliv cargo launch vie...           20            9  \n",
       "3  happen week nasa potu outlin space explor futu...           18            7  \n",
       "4  energ studi make sure astronaut energi need wa...           17            9  "
      ]
     },
     "execution_count": 32,
     "metadata": {},
     "output_type": "execute_result"
    }
   ],
   "source": [
    "df.head()"
   ]
  },
  {
   "cell_type": "code",
   "execution_count": 33,
   "metadata": {},
   "outputs": [],
   "source": [
    "df['stopwords_count'] = df['text'].map(lambda t: len([x for x in t if x in stopwords]))"
   ]
  },
  {
   "cell_type": "code",
   "execution_count": 34,
   "metadata": {
    "scrolled": true
   },
   "outputs": [
    {
     "data": {
      "text/html": [
       "<div>\n",
       "<style scoped>\n",
       "    .dataframe tbody tr th:only-of-type {\n",
       "        vertical-align: middle;\n",
       "    }\n",
       "\n",
       "    .dataframe tbody tr th {\n",
       "        vertical-align: top;\n",
       "    }\n",
       "\n",
       "    .dataframe thead th {\n",
       "        text-align: right;\n",
       "    }\n",
       "</style>\n",
       "<table border=\"1\" class=\"dataframe\">\n",
       "  <thead>\n",
       "    <tr style=\"text-align: right;\">\n",
       "      <th></th>\n",
       "      <th>date</th>\n",
       "      <th>id</th>\n",
       "      <th>link</th>\n",
       "      <th>retweet</th>\n",
       "      <th>text</th>\n",
       "      <th>author</th>\n",
       "      <th>cleaned_text</th>\n",
       "      <th>words_count</th>\n",
       "      <th>punct_count</th>\n",
       "      <th>stopwords_count</th>\n",
       "    </tr>\n",
       "  </thead>\n",
       "  <tbody>\n",
       "    <tr>\n",
       "      <th>0</th>\n",
       "      <td>18h18 hours ago</td>\n",
       "      <td>7.870290e+17</td>\n",
       "      <td>/NASA/status/787029214612586496</td>\n",
       "      <td>False</td>\n",
       "      <td>New software on the @Space_Station will make d...</td>\n",
       "      <td>NASA</td>\n",
       "      <td>new softwar make data commun faster easier hun...</td>\n",
       "      <td>17</td>\n",
       "      <td>6</td>\n",
       "      <td>67</td>\n",
       "    </tr>\n",
       "    <tr>\n",
       "      <th>1</th>\n",
       "      <td>19h19 hours ago</td>\n",
       "      <td>7.870090e+17</td>\n",
       "      <td>/NASA/status/787008587927281664</td>\n",
       "      <td>False</td>\n",
       "      <td>READY for Launch! @OrbitalATK's #Antares rocke...</td>\n",
       "      <td>NASA</td>\n",
       "      <td>readi launch orbitalatk antar rocket cargo shi...</td>\n",
       "      <td>20</td>\n",
       "      <td>8</td>\n",
       "      <td>51</td>\n",
       "    </tr>\n",
       "    <tr>\n",
       "      <th>2</th>\n",
       "      <td>17h17 hours ago</td>\n",
       "      <td>7.870420e+17</td>\n",
       "      <td>/NASA/status/787042156116664320</td>\n",
       "      <td>False</td>\n",
       "      <td>Rocket launch at 8:03pm ET Sunday to deliver c...</td>\n",
       "      <td>NASA</td>\n",
       "      <td>rocket launch et sunday deliv cargo launch vie...</td>\n",
       "      <td>20</td>\n",
       "      <td>9</td>\n",
       "      <td>47</td>\n",
       "    </tr>\n",
       "    <tr>\n",
       "      <th>3</th>\n",
       "      <td>47m47 minutes ago</td>\n",
       "      <td>7.872840e+17</td>\n",
       "      <td>/NASA/status/787284414732472320</td>\n",
       "      <td>False</td>\n",
       "      <td>What happened this week at NASA? @POTUS outlin...</td>\n",
       "      <td>NASA</td>\n",
       "      <td>happen week nasa potu outlin space explor futu...</td>\n",
       "      <td>18</td>\n",
       "      <td>7</td>\n",
       "      <td>44</td>\n",
       "    </tr>\n",
       "    <tr>\n",
       "      <th>4</th>\n",
       "      <td>24h24 hours ago</td>\n",
       "      <td>7.869340e+17</td>\n",
       "      <td>/NASA/status/786934496625102848</td>\n",
       "      <td>False</td>\n",
       "      <td>Energize! Study makes sure astronauts have ene...</td>\n",
       "      <td>NASA</td>\n",
       "      <td>energ studi make sure astronaut energi need wa...</td>\n",
       "      <td>17</td>\n",
       "      <td>9</td>\n",
       "      <td>54</td>\n",
       "    </tr>\n",
       "  </tbody>\n",
       "</table>\n",
       "</div>"
      ],
      "text/plain": [
       "                date            id                             link  retweet  \\\n",
       "0    18h18 hours ago  7.870290e+17  /NASA/status/787029214612586496    False   \n",
       "1    19h19 hours ago  7.870090e+17  /NASA/status/787008587927281664    False   \n",
       "2    17h17 hours ago  7.870420e+17  /NASA/status/787042156116664320    False   \n",
       "3  47m47 minutes ago  7.872840e+17  /NASA/status/787284414732472320    False   \n",
       "4    24h24 hours ago  7.869340e+17  /NASA/status/786934496625102848    False   \n",
       "\n",
       "                                                text author  \\\n",
       "0  New software on the @Space_Station will make d...   NASA   \n",
       "1  READY for Launch! @OrbitalATK's #Antares rocke...   NASA   \n",
       "2  Rocket launch at 8:03pm ET Sunday to deliver c...   NASA   \n",
       "3  What happened this week at NASA? @POTUS outlin...   NASA   \n",
       "4  Energize! Study makes sure astronauts have ene...   NASA   \n",
       "\n",
       "                                        cleaned_text  words_count  \\\n",
       "0  new softwar make data commun faster easier hun...           17   \n",
       "1  readi launch orbitalatk antar rocket cargo shi...           20   \n",
       "2  rocket launch et sunday deliv cargo launch vie...           20   \n",
       "3  happen week nasa potu outlin space explor futu...           18   \n",
       "4  energ studi make sure astronaut energi need wa...           17   \n",
       "\n",
       "   punct_count  stopwords_count  \n",
       "0            6               67  \n",
       "1            8               51  \n",
       "2            9               47  \n",
       "3            7               44  \n",
       "4            9               54  "
      ]
     },
     "execution_count": 34,
     "metadata": {},
     "output_type": "execute_result"
    }
   ],
   "source": [
    "df.head()"
   ]
  },
  {
   "cell_type": "markdown",
   "metadata": {},
   "source": [
    "#### Merge new features with original ones"
   ]
  },
  {
   "cell_type": "code",
   "execution_count": 35,
   "metadata": {},
   "outputs": [
    {
     "data": {
      "text/plain": [
       "<88625x100 sparse matrix of type '<class 'numpy.float64'>'\n",
       "\twith 234634 stored elements in Compressed Sparse Row format>"
      ]
     },
     "execution_count": 35,
     "metadata": {},
     "output_type": "execute_result"
    }
   ],
   "source": [
    "x"
   ]
  },
  {
   "cell_type": "code",
   "execution_count": 36,
   "metadata": {},
   "outputs": [
    {
     "data": {
      "text/plain": [
       "array([[17,  6, 67],\n",
       "       [20,  8, 51],\n",
       "       [20,  9, 47],\n",
       "       ...,\n",
       "       [11,  3, 25],\n",
       "       [19,  1, 39],\n",
       "       [18,  5, 42]], dtype=int64)"
      ]
     },
     "execution_count": 36,
     "metadata": {},
     "output_type": "execute_result"
    }
   ],
   "source": [
    "new_features = df[['words_count','punct_count','stopwords_count']].to_numpy()\n",
    "new_features"
   ]
  },
  {
   "cell_type": "code",
   "execution_count": 37,
   "metadata": {},
   "outputs": [],
   "source": [
    "new_x = np.concatenate((x.toarray(),new_features), axis=1)"
   ]
  },
  {
   "cell_type": "code",
   "execution_count": 158,
   "metadata": {},
   "outputs": [
    {
     "data": {
      "text/plain": [
       "array([[ 0.        ,  0.        ,  0.        , ..., 17.        ,\n",
       "         6.        , 67.        ],\n",
       "       [ 0.        ,  0.        ,  0.        , ..., 20.        ,\n",
       "         8.        , 51.        ],\n",
       "       [ 0.        ,  0.        ,  0.        , ..., 20.        ,\n",
       "         9.        , 47.        ],\n",
       "       ...,\n",
       "       [ 0.        ,  0.72377904,  0.        , ..., 11.        ,\n",
       "         3.        , 25.        ],\n",
       "       [ 0.        ,  0.        ,  0.        , ..., 19.        ,\n",
       "         1.        , 39.        ],\n",
       "       [ 0.        ,  0.        ,  0.        , ..., 18.        ,\n",
       "         5.        , 42.        ]])"
      ]
     },
     "execution_count": 158,
     "metadata": {},
     "output_type": "execute_result"
    }
   ],
   "source": [
    "new_x"
   ]
  },
  {
   "cell_type": "code",
   "execution_count": 38,
   "metadata": {},
   "outputs": [
    {
     "data": {
      "text/plain": [
       "(88625, 103)"
      ]
     },
     "execution_count": 38,
     "metadata": {},
     "output_type": "execute_result"
    }
   ],
   "source": [
    "new_x.shape"
   ]
  },
  {
   "cell_type": "markdown",
   "metadata": {},
   "source": [
    "# Splitting Data"
   ]
  },
  {
   "cell_type": "code",
   "execution_count": 39,
   "metadata": {},
   "outputs": [
    {
     "data": {
      "text/plain": [
       "88625"
      ]
     },
     "execution_count": 39,
     "metadata": {},
     "output_type": "execute_result"
    }
   ],
   "source": [
    "len(df)"
   ]
  },
  {
   "cell_type": "code",
   "execution_count": 40,
   "metadata": {},
   "outputs": [],
   "source": [
    "from sklearn.model_selection import train_test_split\n",
    "train_df, test_df = train_test_split(df, test_size = 0.3)"
   ]
  },
  {
   "cell_type": "code",
   "execution_count": 41,
   "metadata": {},
   "outputs": [
    {
     "data": {
      "text/plain": [
       "(62037, 26588)"
      ]
     },
     "execution_count": 41,
     "metadata": {},
     "output_type": "execute_result"
    }
   ],
   "source": [
    "len(train_df), len(test_df)"
   ]
  },
  {
   "cell_type": "code",
   "execution_count": 42,
   "metadata": {},
   "outputs": [
    {
     "data": {
      "text/plain": [
       "(88625, 103)"
      ]
     },
     "execution_count": 42,
     "metadata": {},
     "output_type": "execute_result"
    }
   ],
   "source": [
    "X = new_x\n",
    "X.shape"
   ]
  },
  {
   "cell_type": "code",
   "execution_count": 43,
   "metadata": {},
   "outputs": [
    {
     "data": {
      "text/plain": [
       "array([[0., 0., 0., ..., 0., 0., 0.],\n",
       "       [0., 0., 0., ..., 0., 0., 0.],\n",
       "       [0., 0., 0., ..., 0., 0., 0.],\n",
       "       ...,\n",
       "       [0., 0., 0., ..., 0., 0., 0.],\n",
       "       [0., 0., 0., ..., 0., 0., 0.],\n",
       "       [0., 0., 0., ..., 0., 0., 0.]])"
      ]
     },
     "execution_count": 43,
     "metadata": {},
     "output_type": "execute_result"
    }
   ],
   "source": [
    "from sklearn.preprocessing import OneHotEncoder\n",
    "encoder = OneHotEncoder()\n",
    "y = encoder.fit_transform(df[['author']]).toarray()\n",
    "y"
   ]
  },
  {
   "cell_type": "code",
   "execution_count": 44,
   "metadata": {},
   "outputs": [],
   "source": [
    "X_train, X_test, y_train, y_test = train_test_split(X,y,train_size=0.8)"
   ]
  },
  {
   "cell_type": "code",
   "execution_count": 45,
   "metadata": {},
   "outputs": [
    {
     "data": {
      "text/plain": [
       "((70900, 103), (17725, 103), (70900, 11), (17725, 11))"
      ]
     },
     "execution_count": 45,
     "metadata": {},
     "output_type": "execute_result"
    }
   ],
   "source": [
    "X_train.shape, X_test.shape, y_train.shape, y_test.shape"
   ]
  }
 ],
 "metadata": {
  "kernelspec": {
   "display_name": "Python 3",
   "language": "python",
   "name": "python3"
  },
  "language_info": {
   "codemirror_mode": {
    "name": "ipython",
    "version": 3
   },
   "file_extension": ".py",
   "mimetype": "text/x-python",
   "name": "python",
   "nbconvert_exporter": "python",
   "pygments_lexer": "ipython3",
   "version": "3.7.6"
  }
 },
 "nbformat": 4,
 "nbformat_minor": 4
}
