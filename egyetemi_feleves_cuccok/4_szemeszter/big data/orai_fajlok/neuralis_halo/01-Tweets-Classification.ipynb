{
 "cells": [
  {
   "cell_type": "markdown",
   "metadata": {},
   "source": [
    "# Tweets Classification"
   ]
  },
  {
   "cell_type": "code",
   "execution_count": 1,
   "metadata": {},
   "outputs": [],
   "source": [
    "import numpy as np\n",
    "from matplotlib import pyplot as plt\n",
    "import pandas as pd\n",
    "import seaborn as sns\n",
    "from sklearn.cluster import KMeans\n",
    "pd.set_option('display.max_columns', None)"
   ]
  },
  {
   "cell_type": "code",
   "execution_count": 2,
   "metadata": {},
   "outputs": [],
   "source": [
    "df = pd.read_csv('AllTweets.csv')"
   ]
  },
  {
   "cell_type": "code",
   "execution_count": 3,
   "metadata": {},
   "outputs": [
    {
     "data": {
      "text/html": [
       "<div>\n",
       "<style scoped>\n",
       "    .dataframe tbody tr th:only-of-type {\n",
       "        vertical-align: middle;\n",
       "    }\n",
       "\n",
       "    .dataframe tbody tr th {\n",
       "        vertical-align: top;\n",
       "    }\n",
       "\n",
       "    .dataframe thead th {\n",
       "        text-align: right;\n",
       "    }\n",
       "</style>\n",
       "<table border=\"1\" class=\"dataframe\">\n",
       "  <thead>\n",
       "    <tr style=\"text-align: right;\">\n",
       "      <th></th>\n",
       "      <th>date</th>\n",
       "      <th>id</th>\n",
       "      <th>link</th>\n",
       "      <th>retweet</th>\n",
       "      <th>text</th>\n",
       "      <th>author</th>\n",
       "    </tr>\n",
       "  </thead>\n",
       "  <tbody>\n",
       "    <tr>\n",
       "      <th>0</th>\n",
       "      <td>18h18 hours ago</td>\n",
       "      <td>7.870290e+17</td>\n",
       "      <td>/NASA/status/787029214612586496</td>\n",
       "      <td>False</td>\n",
       "      <td>New software on the @Space_Station will make d...</td>\n",
       "      <td>NASA</td>\n",
       "    </tr>\n",
       "    <tr>\n",
       "      <th>1</th>\n",
       "      <td>19h19 hours ago</td>\n",
       "      <td>7.870090e+17</td>\n",
       "      <td>/NASA/status/787008587927281664</td>\n",
       "      <td>False</td>\n",
       "      <td>READY for Launch! @OrbitalATK's #Antares rocke...</td>\n",
       "      <td>NASA</td>\n",
       "    </tr>\n",
       "    <tr>\n",
       "      <th>2</th>\n",
       "      <td>17h17 hours ago</td>\n",
       "      <td>7.870420e+17</td>\n",
       "      <td>/NASA/status/787042156116664320</td>\n",
       "      <td>False</td>\n",
       "      <td>Rocket launch at 8:03pm ET Sunday to deliver c...</td>\n",
       "      <td>NASA</td>\n",
       "    </tr>\n",
       "    <tr>\n",
       "      <th>3</th>\n",
       "      <td>47m47 minutes ago</td>\n",
       "      <td>7.872840e+17</td>\n",
       "      <td>/NASA/status/787284414732472320</td>\n",
       "      <td>False</td>\n",
       "      <td>What happened this week at NASA? @POTUS outlin...</td>\n",
       "      <td>NASA</td>\n",
       "    </tr>\n",
       "    <tr>\n",
       "      <th>4</th>\n",
       "      <td>24h24 hours ago</td>\n",
       "      <td>7.869340e+17</td>\n",
       "      <td>/NASA/status/786934496625102848</td>\n",
       "      <td>False</td>\n",
       "      <td>Energize! Study makes sure astronauts have ene...</td>\n",
       "      <td>NASA</td>\n",
       "    </tr>\n",
       "  </tbody>\n",
       "</table>\n",
       "</div>"
      ],
      "text/plain": [
       "                date            id                             link  retweet  \\\n",
       "0    18h18 hours ago  7.870290e+17  /NASA/status/787029214612586496    False   \n",
       "1    19h19 hours ago  7.870090e+17  /NASA/status/787008587927281664    False   \n",
       "2    17h17 hours ago  7.870420e+17  /NASA/status/787042156116664320    False   \n",
       "3  47m47 minutes ago  7.872840e+17  /NASA/status/787284414732472320    False   \n",
       "4    24h24 hours ago  7.869340e+17  /NASA/status/786934496625102848    False   \n",
       "\n",
       "                                                text author  \n",
       "0  New software on the @Space_Station will make d...   NASA  \n",
       "1  READY for Launch! @OrbitalATK's #Antares rocke...   NASA  \n",
       "2  Rocket launch at 8:03pm ET Sunday to deliver c...   NASA  \n",
       "3  What happened this week at NASA? @POTUS outlin...   NASA  \n",
       "4  Energize! Study makes sure astronauts have ene...   NASA  "
      ]
     },
     "execution_count": 3,
     "metadata": {},
     "output_type": "execute_result"
    }
   ],
   "source": [
    "df.head()"
   ]
  },
  {
   "cell_type": "code",
   "execution_count": 4,
   "metadata": {},
   "outputs": [
    {
     "data": {
      "text/plain": [
       "88625"
      ]
     },
     "execution_count": 4,
     "metadata": {},
     "output_type": "execute_result"
    }
   ],
   "source": [
    "len(df)"
   ]
  },
  {
   "cell_type": "markdown",
   "metadata": {},
   "source": [
    "Let's remove the retweets and tweets by \"various\""
   ]
  },
  {
   "cell_type": "code",
   "execution_count": 5,
   "metadata": {},
   "outputs": [],
   "source": [
    "df = df[df['retweet']==False]"
   ]
  },
  {
   "cell_type": "code",
   "execution_count": 6,
   "metadata": {},
   "outputs": [
    {
     "data": {
      "text/plain": [
       "84977"
      ]
     },
     "execution_count": 6,
     "metadata": {},
     "output_type": "execute_result"
    }
   ],
   "source": [
    "len(df)"
   ]
  },
  {
   "cell_type": "code",
   "execution_count": 7,
   "metadata": {},
   "outputs": [
    {
     "data": {
      "text/plain": [
       "array(['NASA', 'AdamSavage', 'various', 'BarackObama', 'DonaldTrump',\n",
       "       'FiveThirtyEight', 'HillaryClinton', 'KimKardashian',\n",
       "       'deGrasseTyson', 'ScottKelly', 'RichardDawkins'], dtype=object)"
      ]
     },
     "execution_count": 7,
     "metadata": {},
     "output_type": "execute_result"
    }
   ],
   "source": [
    "df['author'].unique()"
   ]
  },
  {
   "cell_type": "code",
   "execution_count": 8,
   "metadata": {
    "scrolled": true
   },
   "outputs": [
    {
     "data": {
      "text/plain": [
       "74543"
      ]
     },
     "execution_count": 8,
     "metadata": {},
     "output_type": "execute_result"
    }
   ],
   "source": [
    "df = df[df['author']!='various']\n",
    "len(df)"
   ]
  },
  {
   "cell_type": "markdown",
   "metadata": {},
   "source": [
    "#### Prepreocess Text"
   ]
  },
  {
   "cell_type": "code",
   "execution_count": 9,
   "metadata": {},
   "outputs": [],
   "source": [
    "import nltk"
   ]
  },
  {
   "cell_type": "code",
   "execution_count": 10,
   "metadata": {},
   "outputs": [
    {
     "name": "stderr",
     "output_type": "stream",
     "text": [
      "[nltk_data] Downloading package stopwords to\n",
      "[nltk_data]     C:\\Users\\ghais\\AppData\\Roaming\\nltk_data...\n",
      "[nltk_data]   Package stopwords is already up-to-date!\n",
      "[nltk_data] Downloading package punkt to\n",
      "[nltk_data]     C:\\Users\\ghais\\AppData\\Roaming\\nltk_data...\n",
      "[nltk_data]   Package punkt is already up-to-date!\n"
     ]
    },
    {
     "data": {
      "text/plain": [
       "True"
      ]
     },
     "execution_count": 10,
     "metadata": {},
     "output_type": "execute_result"
    }
   ],
   "source": [
    "nltk.download('stopwords')\n",
    "nltk.download('punkt')"
   ]
  },
  {
   "cell_type": "code",
   "execution_count": 11,
   "metadata": {},
   "outputs": [],
   "source": [
    "stemmer = nltk.stem.porter.PorterStemmer()\n",
    "stopwords = nltk.corpus.stopwords.words('english')\n",
    "def clean_text(t):    \n",
    "    tokenized_text = nltk.tokenize.word_tokenize(t.lower())\n",
    "    alphabetic_text = [w for w in tokenized_text if w.isalpha()]\n",
    "    alphabetic_text\n",
    "    t = [w for w in alphabetic_text if w not in stopwords]\n",
    "    stemmed = [stemmer.stem(w) for w in t]\n",
    "    new_text = ' '.join(stemmed)\n",
    "    return new_text"
   ]
  },
  {
   "cell_type": "markdown",
   "metadata": {},
   "source": [
    "#### Add new column for cleaned text"
   ]
  },
  {
   "cell_type": "code",
   "execution_count": 12,
   "metadata": {},
   "outputs": [
    {
     "data": {
      "text/html": [
       "<div>\n",
       "<style scoped>\n",
       "    .dataframe tbody tr th:only-of-type {\n",
       "        vertical-align: middle;\n",
       "    }\n",
       "\n",
       "    .dataframe tbody tr th {\n",
       "        vertical-align: top;\n",
       "    }\n",
       "\n",
       "    .dataframe thead th {\n",
       "        text-align: right;\n",
       "    }\n",
       "</style>\n",
       "<table border=\"1\" class=\"dataframe\">\n",
       "  <thead>\n",
       "    <tr style=\"text-align: right;\">\n",
       "      <th></th>\n",
       "      <th>date</th>\n",
       "      <th>id</th>\n",
       "      <th>link</th>\n",
       "      <th>retweet</th>\n",
       "      <th>text</th>\n",
       "      <th>author</th>\n",
       "      <th>cleaned_text</th>\n",
       "    </tr>\n",
       "  </thead>\n",
       "  <tbody>\n",
       "    <tr>\n",
       "      <th>0</th>\n",
       "      <td>18h18 hours ago</td>\n",
       "      <td>7.870290e+17</td>\n",
       "      <td>/NASA/status/787029214612586496</td>\n",
       "      <td>False</td>\n",
       "      <td>New software on the @Space_Station will make d...</td>\n",
       "      <td>NASA</td>\n",
       "      <td>new softwar make data commun faster easier hun...</td>\n",
       "    </tr>\n",
       "    <tr>\n",
       "      <th>1</th>\n",
       "      <td>19h19 hours ago</td>\n",
       "      <td>7.870090e+17</td>\n",
       "      <td>/NASA/status/787008587927281664</td>\n",
       "      <td>False</td>\n",
       "      <td>READY for Launch! @OrbitalATK's #Antares rocke...</td>\n",
       "      <td>NASA</td>\n",
       "      <td>readi launch orbitalatk antar rocket cargo shi...</td>\n",
       "    </tr>\n",
       "    <tr>\n",
       "      <th>2</th>\n",
       "      <td>17h17 hours ago</td>\n",
       "      <td>7.870420e+17</td>\n",
       "      <td>/NASA/status/787042156116664320</td>\n",
       "      <td>False</td>\n",
       "      <td>Rocket launch at 8:03pm ET Sunday to deliver c...</td>\n",
       "      <td>NASA</td>\n",
       "      <td>rocket launch et sunday deliv cargo launch vie...</td>\n",
       "    </tr>\n",
       "    <tr>\n",
       "      <th>3</th>\n",
       "      <td>47m47 minutes ago</td>\n",
       "      <td>7.872840e+17</td>\n",
       "      <td>/NASA/status/787284414732472320</td>\n",
       "      <td>False</td>\n",
       "      <td>What happened this week at NASA? @POTUS outlin...</td>\n",
       "      <td>NASA</td>\n",
       "      <td>happen week nasa potu outlin space explor futu...</td>\n",
       "    </tr>\n",
       "    <tr>\n",
       "      <th>4</th>\n",
       "      <td>24h24 hours ago</td>\n",
       "      <td>7.869340e+17</td>\n",
       "      <td>/NASA/status/786934496625102848</td>\n",
       "      <td>False</td>\n",
       "      <td>Energize! Study makes sure astronauts have ene...</td>\n",
       "      <td>NASA</td>\n",
       "      <td>energ studi make sure astronaut energi need wa...</td>\n",
       "    </tr>\n",
       "  </tbody>\n",
       "</table>\n",
       "</div>"
      ],
      "text/plain": [
       "                date            id                             link  retweet  \\\n",
       "0    18h18 hours ago  7.870290e+17  /NASA/status/787029214612586496    False   \n",
       "1    19h19 hours ago  7.870090e+17  /NASA/status/787008587927281664    False   \n",
       "2    17h17 hours ago  7.870420e+17  /NASA/status/787042156116664320    False   \n",
       "3  47m47 minutes ago  7.872840e+17  /NASA/status/787284414732472320    False   \n",
       "4    24h24 hours ago  7.869340e+17  /NASA/status/786934496625102848    False   \n",
       "\n",
       "                                                text author  \\\n",
       "0  New software on the @Space_Station will make d...   NASA   \n",
       "1  READY for Launch! @OrbitalATK's #Antares rocke...   NASA   \n",
       "2  Rocket launch at 8:03pm ET Sunday to deliver c...   NASA   \n",
       "3  What happened this week at NASA? @POTUS outlin...   NASA   \n",
       "4  Energize! Study makes sure astronauts have ene...   NASA   \n",
       "\n",
       "                                        cleaned_text  \n",
       "0  new softwar make data commun faster easier hun...  \n",
       "1  readi launch orbitalatk antar rocket cargo shi...  \n",
       "2  rocket launch et sunday deliv cargo launch vie...  \n",
       "3  happen week nasa potu outlin space explor futu...  \n",
       "4  energ studi make sure astronaut energi need wa...  "
      ]
     },
     "execution_count": 12,
     "metadata": {},
     "output_type": "execute_result"
    }
   ],
   "source": [
    "df['cleaned_text'] = df['text'].map(clean_text)\n",
    "df.head()"
   ]
  },
  {
   "cell_type": "markdown",
   "metadata": {},
   "source": [
    "## Prepare training Data"
   ]
  },
  {
   "cell_type": "markdown",
   "metadata": {},
   "source": [
    "### Vectorize text"
   ]
  },
  {
   "cell_type": "code",
   "execution_count": 13,
   "metadata": {},
   "outputs": [],
   "source": [
    "from sklearn.feature_extraction.text import TfidfVectorizer\n",
    "tfidf = TfidfVectorizer(max_features=2000)"
   ]
  },
  {
   "cell_type": "code",
   "execution_count": 14,
   "metadata": {},
   "outputs": [
    {
     "data": {
      "text/plain": [
       "TfidfVectorizer(analyzer='word', binary=False, decode_error='strict',\n",
       "                dtype=<class 'numpy.float64'>, encoding='utf-8',\n",
       "                input='content', lowercase=True, max_df=1.0, max_features=2000,\n",
       "                min_df=1, ngram_range=(1, 1), norm='l2', preprocessor=None,\n",
       "                smooth_idf=True, stop_words=None, strip_accents=None,\n",
       "                sublinear_tf=False, token_pattern='(?u)\\\\b\\\\w\\\\w+\\\\b',\n",
       "                tokenizer=None, use_idf=True, vocabulary=None)"
      ]
     },
     "execution_count": 14,
     "metadata": {},
     "output_type": "execute_result"
    }
   ],
   "source": [
    "tfidf.fit(df['cleaned_text'])"
   ]
  },
  {
   "cell_type": "code",
   "execution_count": 15,
   "metadata": {},
   "outputs": [],
   "source": [
    "X = tfidf.transform(df['cleaned_text'])"
   ]
  },
  {
   "cell_type": "code",
   "execution_count": 16,
   "metadata": {},
   "outputs": [
    {
     "data": {
      "text/plain": [
       "<74543x2000 sparse matrix of type '<class 'numpy.float64'>'\n",
       "\twith 517958 stored elements in Compressed Sparse Row format>"
      ]
     },
     "execution_count": 16,
     "metadata": {},
     "output_type": "execute_result"
    }
   ],
   "source": [
    "X"
   ]
  },
  {
   "cell_type": "markdown",
   "metadata": {},
   "source": [
    "### Additional Features, if you want!"
   ]
  },
  {
   "cell_type": "markdown",
   "metadata": {},
   "source": [
    "#### Number of words in each text"
   ]
  },
  {
   "cell_type": "code",
   "execution_count": 17,
   "metadata": {},
   "outputs": [],
   "source": [
    "df['words_count'] = df['text'].map(lambda t: len(t.split(' ')))"
   ]
  },
  {
   "cell_type": "code",
   "execution_count": 18,
   "metadata": {},
   "outputs": [
    {
     "data": {
      "text/html": [
       "<div>\n",
       "<style scoped>\n",
       "    .dataframe tbody tr th:only-of-type {\n",
       "        vertical-align: middle;\n",
       "    }\n",
       "\n",
       "    .dataframe tbody tr th {\n",
       "        vertical-align: top;\n",
       "    }\n",
       "\n",
       "    .dataframe thead th {\n",
       "        text-align: right;\n",
       "    }\n",
       "</style>\n",
       "<table border=\"1\" class=\"dataframe\">\n",
       "  <thead>\n",
       "    <tr style=\"text-align: right;\">\n",
       "      <th></th>\n",
       "      <th>date</th>\n",
       "      <th>id</th>\n",
       "      <th>link</th>\n",
       "      <th>retweet</th>\n",
       "      <th>text</th>\n",
       "      <th>author</th>\n",
       "      <th>cleaned_text</th>\n",
       "      <th>words_count</th>\n",
       "    </tr>\n",
       "  </thead>\n",
       "  <tbody>\n",
       "    <tr>\n",
       "      <th>0</th>\n",
       "      <td>18h18 hours ago</td>\n",
       "      <td>7.870290e+17</td>\n",
       "      <td>/NASA/status/787029214612586496</td>\n",
       "      <td>False</td>\n",
       "      <td>New software on the @Space_Station will make d...</td>\n",
       "      <td>NASA</td>\n",
       "      <td>new softwar make data commun faster easier hun...</td>\n",
       "      <td>17</td>\n",
       "    </tr>\n",
       "    <tr>\n",
       "      <th>1</th>\n",
       "      <td>19h19 hours ago</td>\n",
       "      <td>7.870090e+17</td>\n",
       "      <td>/NASA/status/787008587927281664</td>\n",
       "      <td>False</td>\n",
       "      <td>READY for Launch! @OrbitalATK's #Antares rocke...</td>\n",
       "      <td>NASA</td>\n",
       "      <td>readi launch orbitalatk antar rocket cargo shi...</td>\n",
       "      <td>20</td>\n",
       "    </tr>\n",
       "    <tr>\n",
       "      <th>2</th>\n",
       "      <td>17h17 hours ago</td>\n",
       "      <td>7.870420e+17</td>\n",
       "      <td>/NASA/status/787042156116664320</td>\n",
       "      <td>False</td>\n",
       "      <td>Rocket launch at 8:03pm ET Sunday to deliver c...</td>\n",
       "      <td>NASA</td>\n",
       "      <td>rocket launch et sunday deliv cargo launch vie...</td>\n",
       "      <td>20</td>\n",
       "    </tr>\n",
       "    <tr>\n",
       "      <th>3</th>\n",
       "      <td>47m47 minutes ago</td>\n",
       "      <td>7.872840e+17</td>\n",
       "      <td>/NASA/status/787284414732472320</td>\n",
       "      <td>False</td>\n",
       "      <td>What happened this week at NASA? @POTUS outlin...</td>\n",
       "      <td>NASA</td>\n",
       "      <td>happen week nasa potu outlin space explor futu...</td>\n",
       "      <td>18</td>\n",
       "    </tr>\n",
       "    <tr>\n",
       "      <th>4</th>\n",
       "      <td>24h24 hours ago</td>\n",
       "      <td>7.869340e+17</td>\n",
       "      <td>/NASA/status/786934496625102848</td>\n",
       "      <td>False</td>\n",
       "      <td>Energize! Study makes sure astronauts have ene...</td>\n",
       "      <td>NASA</td>\n",
       "      <td>energ studi make sure astronaut energi need wa...</td>\n",
       "      <td>17</td>\n",
       "    </tr>\n",
       "  </tbody>\n",
       "</table>\n",
       "</div>"
      ],
      "text/plain": [
       "                date            id                             link  retweet  \\\n",
       "0    18h18 hours ago  7.870290e+17  /NASA/status/787029214612586496    False   \n",
       "1    19h19 hours ago  7.870090e+17  /NASA/status/787008587927281664    False   \n",
       "2    17h17 hours ago  7.870420e+17  /NASA/status/787042156116664320    False   \n",
       "3  47m47 minutes ago  7.872840e+17  /NASA/status/787284414732472320    False   \n",
       "4    24h24 hours ago  7.869340e+17  /NASA/status/786934496625102848    False   \n",
       "\n",
       "                                                text author  \\\n",
       "0  New software on the @Space_Station will make d...   NASA   \n",
       "1  READY for Launch! @OrbitalATK's #Antares rocke...   NASA   \n",
       "2  Rocket launch at 8:03pm ET Sunday to deliver c...   NASA   \n",
       "3  What happened this week at NASA? @POTUS outlin...   NASA   \n",
       "4  Energize! Study makes sure astronauts have ene...   NASA   \n",
       "\n",
       "                                        cleaned_text  words_count  \n",
       "0  new softwar make data commun faster easier hun...           17  \n",
       "1  readi launch orbitalatk antar rocket cargo shi...           20  \n",
       "2  rocket launch et sunday deliv cargo launch vie...           20  \n",
       "3  happen week nasa potu outlin space explor futu...           18  \n",
       "4  energ studi make sure astronaut energi need wa...           17  "
      ]
     },
     "execution_count": 18,
     "metadata": {},
     "output_type": "execute_result"
    }
   ],
   "source": [
    "df.head()"
   ]
  },
  {
   "cell_type": "markdown",
   "metadata": {},
   "source": [
    "#### number of punctuation symbols in original text"
   ]
  },
  {
   "cell_type": "code",
   "execution_count": 19,
   "metadata": {},
   "outputs": [],
   "source": [
    "df['punct_count'] = df['text'].map(lambda t: len([x for x in t if x in (';', ':', ',', '.', '!', '?')]))"
   ]
  },
  {
   "cell_type": "code",
   "execution_count": 20,
   "metadata": {},
   "outputs": [
    {
     "data": {
      "text/html": [
       "<div>\n",
       "<style scoped>\n",
       "    .dataframe tbody tr th:only-of-type {\n",
       "        vertical-align: middle;\n",
       "    }\n",
       "\n",
       "    .dataframe tbody tr th {\n",
       "        vertical-align: top;\n",
       "    }\n",
       "\n",
       "    .dataframe thead th {\n",
       "        text-align: right;\n",
       "    }\n",
       "</style>\n",
       "<table border=\"1\" class=\"dataframe\">\n",
       "  <thead>\n",
       "    <tr style=\"text-align: right;\">\n",
       "      <th></th>\n",
       "      <th>date</th>\n",
       "      <th>id</th>\n",
       "      <th>link</th>\n",
       "      <th>retweet</th>\n",
       "      <th>text</th>\n",
       "      <th>author</th>\n",
       "      <th>cleaned_text</th>\n",
       "      <th>words_count</th>\n",
       "      <th>punct_count</th>\n",
       "    </tr>\n",
       "  </thead>\n",
       "  <tbody>\n",
       "    <tr>\n",
       "      <th>0</th>\n",
       "      <td>18h18 hours ago</td>\n",
       "      <td>7.870290e+17</td>\n",
       "      <td>/NASA/status/787029214612586496</td>\n",
       "      <td>False</td>\n",
       "      <td>New software on the @Space_Station will make d...</td>\n",
       "      <td>NASA</td>\n",
       "      <td>new softwar make data commun faster easier hun...</td>\n",
       "      <td>17</td>\n",
       "      <td>6</td>\n",
       "    </tr>\n",
       "    <tr>\n",
       "      <th>1</th>\n",
       "      <td>19h19 hours ago</td>\n",
       "      <td>7.870090e+17</td>\n",
       "      <td>/NASA/status/787008587927281664</td>\n",
       "      <td>False</td>\n",
       "      <td>READY for Launch! @OrbitalATK's #Antares rocke...</td>\n",
       "      <td>NASA</td>\n",
       "      <td>readi launch orbitalatk antar rocket cargo shi...</td>\n",
       "      <td>20</td>\n",
       "      <td>8</td>\n",
       "    </tr>\n",
       "    <tr>\n",
       "      <th>2</th>\n",
       "      <td>17h17 hours ago</td>\n",
       "      <td>7.870420e+17</td>\n",
       "      <td>/NASA/status/787042156116664320</td>\n",
       "      <td>False</td>\n",
       "      <td>Rocket launch at 8:03pm ET Sunday to deliver c...</td>\n",
       "      <td>NASA</td>\n",
       "      <td>rocket launch et sunday deliv cargo launch vie...</td>\n",
       "      <td>20</td>\n",
       "      <td>9</td>\n",
       "    </tr>\n",
       "    <tr>\n",
       "      <th>3</th>\n",
       "      <td>47m47 minutes ago</td>\n",
       "      <td>7.872840e+17</td>\n",
       "      <td>/NASA/status/787284414732472320</td>\n",
       "      <td>False</td>\n",
       "      <td>What happened this week at NASA? @POTUS outlin...</td>\n",
       "      <td>NASA</td>\n",
       "      <td>happen week nasa potu outlin space explor futu...</td>\n",
       "      <td>18</td>\n",
       "      <td>7</td>\n",
       "    </tr>\n",
       "    <tr>\n",
       "      <th>4</th>\n",
       "      <td>24h24 hours ago</td>\n",
       "      <td>7.869340e+17</td>\n",
       "      <td>/NASA/status/786934496625102848</td>\n",
       "      <td>False</td>\n",
       "      <td>Energize! Study makes sure astronauts have ene...</td>\n",
       "      <td>NASA</td>\n",
       "      <td>energ studi make sure astronaut energi need wa...</td>\n",
       "      <td>17</td>\n",
       "      <td>9</td>\n",
       "    </tr>\n",
       "  </tbody>\n",
       "</table>\n",
       "</div>"
      ],
      "text/plain": [
       "                date            id                             link  retweet  \\\n",
       "0    18h18 hours ago  7.870290e+17  /NASA/status/787029214612586496    False   \n",
       "1    19h19 hours ago  7.870090e+17  /NASA/status/787008587927281664    False   \n",
       "2    17h17 hours ago  7.870420e+17  /NASA/status/787042156116664320    False   \n",
       "3  47m47 minutes ago  7.872840e+17  /NASA/status/787284414732472320    False   \n",
       "4    24h24 hours ago  7.869340e+17  /NASA/status/786934496625102848    False   \n",
       "\n",
       "                                                text author  \\\n",
       "0  New software on the @Space_Station will make d...   NASA   \n",
       "1  READY for Launch! @OrbitalATK's #Antares rocke...   NASA   \n",
       "2  Rocket launch at 8:03pm ET Sunday to deliver c...   NASA   \n",
       "3  What happened this week at NASA? @POTUS outlin...   NASA   \n",
       "4  Energize! Study makes sure astronauts have ene...   NASA   \n",
       "\n",
       "                                        cleaned_text  words_count  punct_count  \n",
       "0  new softwar make data commun faster easier hun...           17            6  \n",
       "1  readi launch orbitalatk antar rocket cargo shi...           20            8  \n",
       "2  rocket launch et sunday deliv cargo launch vie...           20            9  \n",
       "3  happen week nasa potu outlin space explor futu...           18            7  \n",
       "4  energ studi make sure astronaut energi need wa...           17            9  "
      ]
     },
     "execution_count": 20,
     "metadata": {},
     "output_type": "execute_result"
    }
   ],
   "source": [
    "df.head()"
   ]
  },
  {
   "cell_type": "code",
   "execution_count": 21,
   "metadata": {},
   "outputs": [],
   "source": [
    "df['stopwords_count'] = df['text'].map(lambda t: len([x for x in t if x in stopwords]))"
   ]
  },
  {
   "cell_type": "code",
   "execution_count": 22,
   "metadata": {
    "scrolled": true
   },
   "outputs": [
    {
     "data": {
      "text/html": [
       "<div>\n",
       "<style scoped>\n",
       "    .dataframe tbody tr th:only-of-type {\n",
       "        vertical-align: middle;\n",
       "    }\n",
       "\n",
       "    .dataframe tbody tr th {\n",
       "        vertical-align: top;\n",
       "    }\n",
       "\n",
       "    .dataframe thead th {\n",
       "        text-align: right;\n",
       "    }\n",
       "</style>\n",
       "<table border=\"1\" class=\"dataframe\">\n",
       "  <thead>\n",
       "    <tr style=\"text-align: right;\">\n",
       "      <th></th>\n",
       "      <th>date</th>\n",
       "      <th>id</th>\n",
       "      <th>link</th>\n",
       "      <th>retweet</th>\n",
       "      <th>text</th>\n",
       "      <th>author</th>\n",
       "      <th>cleaned_text</th>\n",
       "      <th>words_count</th>\n",
       "      <th>punct_count</th>\n",
       "      <th>stopwords_count</th>\n",
       "    </tr>\n",
       "  </thead>\n",
       "  <tbody>\n",
       "    <tr>\n",
       "      <th>0</th>\n",
       "      <td>18h18 hours ago</td>\n",
       "      <td>7.870290e+17</td>\n",
       "      <td>/NASA/status/787029214612586496</td>\n",
       "      <td>False</td>\n",
       "      <td>New software on the @Space_Station will make d...</td>\n",
       "      <td>NASA</td>\n",
       "      <td>new softwar make data commun faster easier hun...</td>\n",
       "      <td>17</td>\n",
       "      <td>6</td>\n",
       "      <td>67</td>\n",
       "    </tr>\n",
       "    <tr>\n",
       "      <th>1</th>\n",
       "      <td>19h19 hours ago</td>\n",
       "      <td>7.870090e+17</td>\n",
       "      <td>/NASA/status/787008587927281664</td>\n",
       "      <td>False</td>\n",
       "      <td>READY for Launch! @OrbitalATK's #Antares rocke...</td>\n",
       "      <td>NASA</td>\n",
       "      <td>readi launch orbitalatk antar rocket cargo shi...</td>\n",
       "      <td>20</td>\n",
       "      <td>8</td>\n",
       "      <td>51</td>\n",
       "    </tr>\n",
       "    <tr>\n",
       "      <th>2</th>\n",
       "      <td>17h17 hours ago</td>\n",
       "      <td>7.870420e+17</td>\n",
       "      <td>/NASA/status/787042156116664320</td>\n",
       "      <td>False</td>\n",
       "      <td>Rocket launch at 8:03pm ET Sunday to deliver c...</td>\n",
       "      <td>NASA</td>\n",
       "      <td>rocket launch et sunday deliv cargo launch vie...</td>\n",
       "      <td>20</td>\n",
       "      <td>9</td>\n",
       "      <td>47</td>\n",
       "    </tr>\n",
       "    <tr>\n",
       "      <th>3</th>\n",
       "      <td>47m47 minutes ago</td>\n",
       "      <td>7.872840e+17</td>\n",
       "      <td>/NASA/status/787284414732472320</td>\n",
       "      <td>False</td>\n",
       "      <td>What happened this week at NASA? @POTUS outlin...</td>\n",
       "      <td>NASA</td>\n",
       "      <td>happen week nasa potu outlin space explor futu...</td>\n",
       "      <td>18</td>\n",
       "      <td>7</td>\n",
       "      <td>44</td>\n",
       "    </tr>\n",
       "    <tr>\n",
       "      <th>4</th>\n",
       "      <td>24h24 hours ago</td>\n",
       "      <td>7.869340e+17</td>\n",
       "      <td>/NASA/status/786934496625102848</td>\n",
       "      <td>False</td>\n",
       "      <td>Energize! Study makes sure astronauts have ene...</td>\n",
       "      <td>NASA</td>\n",
       "      <td>energ studi make sure astronaut energi need wa...</td>\n",
       "      <td>17</td>\n",
       "      <td>9</td>\n",
       "      <td>54</td>\n",
       "    </tr>\n",
       "  </tbody>\n",
       "</table>\n",
       "</div>"
      ],
      "text/plain": [
       "                date            id                             link  retweet  \\\n",
       "0    18h18 hours ago  7.870290e+17  /NASA/status/787029214612586496    False   \n",
       "1    19h19 hours ago  7.870090e+17  /NASA/status/787008587927281664    False   \n",
       "2    17h17 hours ago  7.870420e+17  /NASA/status/787042156116664320    False   \n",
       "3  47m47 minutes ago  7.872840e+17  /NASA/status/787284414732472320    False   \n",
       "4    24h24 hours ago  7.869340e+17  /NASA/status/786934496625102848    False   \n",
       "\n",
       "                                                text author  \\\n",
       "0  New software on the @Space_Station will make d...   NASA   \n",
       "1  READY for Launch! @OrbitalATK's #Antares rocke...   NASA   \n",
       "2  Rocket launch at 8:03pm ET Sunday to deliver c...   NASA   \n",
       "3  What happened this week at NASA? @POTUS outlin...   NASA   \n",
       "4  Energize! Study makes sure astronauts have ene...   NASA   \n",
       "\n",
       "                                        cleaned_text  words_count  \\\n",
       "0  new softwar make data commun faster easier hun...           17   \n",
       "1  readi launch orbitalatk antar rocket cargo shi...           20   \n",
       "2  rocket launch et sunday deliv cargo launch vie...           20   \n",
       "3  happen week nasa potu outlin space explor futu...           18   \n",
       "4  energ studi make sure astronaut energi need wa...           17   \n",
       "\n",
       "   punct_count  stopwords_count  \n",
       "0            6               67  \n",
       "1            8               51  \n",
       "2            9               47  \n",
       "3            7               44  \n",
       "4            9               54  "
      ]
     },
     "execution_count": 22,
     "metadata": {},
     "output_type": "execute_result"
    }
   ],
   "source": [
    "df.head()"
   ]
  },
  {
   "cell_type": "markdown",
   "metadata": {},
   "source": [
    "#### Merge new features with original ones"
   ]
  },
  {
   "cell_type": "code",
   "execution_count": 23,
   "metadata": {},
   "outputs": [
    {
     "data": {
      "text/plain": [
       "<74543x2000 sparse matrix of type '<class 'numpy.float64'>'\n",
       "\twith 517958 stored elements in Compressed Sparse Row format>"
      ]
     },
     "execution_count": 23,
     "metadata": {},
     "output_type": "execute_result"
    }
   ],
   "source": [
    "X"
   ]
  },
  {
   "cell_type": "code",
   "execution_count": 24,
   "metadata": {},
   "outputs": [
    {
     "data": {
      "text/plain": [
       "array([[17,  6, 67],\n",
       "       [20,  8, 51],\n",
       "       [20,  9, 47],\n",
       "       ...,\n",
       "       [11,  3, 25],\n",
       "       [19,  1, 39],\n",
       "       [18,  5, 42]], dtype=int64)"
      ]
     },
     "execution_count": 24,
     "metadata": {},
     "output_type": "execute_result"
    }
   ],
   "source": [
    "new_features = df[['words_count','punct_count','stopwords_count']].to_numpy()\n",
    "new_features"
   ]
  },
  {
   "cell_type": "code",
   "execution_count": 25,
   "metadata": {},
   "outputs": [],
   "source": [
    "new_x = np.concatenate((X.toarray(),new_features), axis=1)"
   ]
  },
  {
   "cell_type": "code",
   "execution_count": 26,
   "metadata": {},
   "outputs": [
    {
     "data": {
      "text/plain": [
       "array([[ 0.,  0.,  0., ..., 17.,  6., 67.],\n",
       "       [ 0.,  0.,  0., ..., 20.,  8., 51.],\n",
       "       [ 0.,  0.,  0., ..., 20.,  9., 47.],\n",
       "       ...,\n",
       "       [ 0.,  0.,  0., ..., 11.,  3., 25.],\n",
       "       [ 0.,  0.,  0., ..., 19.,  1., 39.],\n",
       "       [ 0.,  0.,  0., ..., 18.,  5., 42.]])"
      ]
     },
     "execution_count": 26,
     "metadata": {},
     "output_type": "execute_result"
    }
   ],
   "source": [
    "new_x"
   ]
  },
  {
   "cell_type": "code",
   "execution_count": 27,
   "metadata": {},
   "outputs": [
    {
     "data": {
      "text/plain": [
       "(74543, 2003)"
      ]
     },
     "execution_count": 27,
     "metadata": {},
     "output_type": "execute_result"
    }
   ],
   "source": [
    "new_x.shape"
   ]
  },
  {
   "cell_type": "markdown",
   "metadata": {},
   "source": [
    "# Splitting Data"
   ]
  },
  {
   "cell_type": "code",
   "execution_count": 28,
   "metadata": {},
   "outputs": [
    {
     "data": {
      "text/plain": [
       "array([[0., 0., 0., ..., 0., 0., 0.],\n",
       "       [0., 0., 0., ..., 0., 0., 0.],\n",
       "       [0., 0., 0., ..., 0., 0., 0.],\n",
       "       ...,\n",
       "       [0., 0., 0., ..., 1., 0., 0.],\n",
       "       [0., 0., 0., ..., 1., 0., 0.],\n",
       "       [0., 0., 0., ..., 1., 0., 0.]])"
      ]
     },
     "execution_count": 28,
     "metadata": {},
     "output_type": "execute_result"
    }
   ],
   "source": [
    "from sklearn.preprocessing import OneHotEncoder\n",
    "encoder = OneHotEncoder()\n",
    "y = encoder.fit_transform(df[['author']]).toarray()\n",
    "y"
   ]
  },
  {
   "cell_type": "code",
   "execution_count": 29,
   "metadata": {},
   "outputs": [],
   "source": [
    "from sklearn.model_selection import train_test_split\n",
    "X_train, X_test, y_train, y_test = train_test_split(new_x,y,train_size=0.8)"
   ]
  },
  {
   "cell_type": "code",
   "execution_count": 30,
   "metadata": {},
   "outputs": [
    {
     "data": {
      "text/plain": [
       "((59634, 2003), (14909, 2003), (59634, 10), (14909, 10))"
      ]
     },
     "execution_count": 30,
     "metadata": {},
     "output_type": "execute_result"
    }
   ],
   "source": [
    "X_train.shape, X_test.shape, y_train.shape, y_test.shape"
   ]
  },
  {
   "cell_type": "markdown",
   "metadata": {},
   "source": [
    "# Build Neural Network"
   ]
  },
  {
   "cell_type": "code",
   "execution_count": 31,
   "metadata": {},
   "outputs": [],
   "source": [
    "from tensorflow import keras\n",
    "from tensorflow.keras.models import Sequential\n",
    "from tensorflow.keras.layers import Input, Dense"
   ]
  },
  {
   "cell_type": "code",
   "execution_count": 32,
   "metadata": {},
   "outputs": [],
   "source": [
    "model = Sequential()\n",
    "model.add(Input(shape=2003))\n",
    "model.add(Dense(1000))\n",
    "model.add(Dense(100))\n",
    "model.add(Dense(10, activation='softmax'))"
   ]
  },
  {
   "cell_type": "code",
   "execution_count": 33,
   "metadata": {},
   "outputs": [
    {
     "name": "stdout",
     "output_type": "stream",
     "text": [
      "Model: \"sequential\"\n",
      "_________________________________________________________________\n",
      "Layer (type)                 Output Shape              Param #   \n",
      "=================================================================\n",
      "dense (Dense)                (None, 1000)              2004000   \n",
      "_________________________________________________________________\n",
      "dense_1 (Dense)              (None, 100)               100100    \n",
      "_________________________________________________________________\n",
      "dense_2 (Dense)              (None, 10)                1010      \n",
      "=================================================================\n",
      "Total params: 2,105,110\n",
      "Trainable params: 2,105,110\n",
      "Non-trainable params: 0\n",
      "_________________________________________________________________\n"
     ]
    }
   ],
   "source": [
    "model.summary()"
   ]
  },
  {
   "cell_type": "code",
   "execution_count": 34,
   "metadata": {},
   "outputs": [],
   "source": [
    "model.compile(loss='categorical_crossentropy', metrics=['accuracy'])"
   ]
  },
  {
   "cell_type": "code",
   "execution_count": 35,
   "metadata": {
    "scrolled": false
   },
   "outputs": [
    {
     "name": "stdout",
     "output_type": "stream",
     "text": [
      "Train on 59634 samples, validate on 14909 samples\n",
      "Epoch 1/15\n",
      "59634/59634 [==============================] - 9s 150us/sample - loss: 3.9270 - accuracy: 0.2970 - val_loss: 2.7827 - val_accuracy: 0.2677\n",
      "Epoch 2/15\n",
      "59634/59634 [==============================] - 8s 131us/sample - loss: 1.5957 - accuracy: 0.5525 - val_loss: 0.9414 - val_accuracy: 0.7039\n",
      "Epoch 3/15\n",
      "59634/59634 [==============================] - 8s 138us/sample - loss: 1.0241 - accuracy: 0.6763 - val_loss: 0.8966 - val_accuracy: 0.7147\n",
      "Epoch 4/15\n",
      "59634/59634 [==============================] - 10s 171us/sample - loss: 0.8445 - accuracy: 0.7313 - val_loss: 0.8070 - val_accuracy: 0.7457\n",
      "Epoch 5/15\n",
      "59634/59634 [==============================] - 8s 127us/sample - loss: 0.7543 - accuracy: 0.7547 - val_loss: 0.7130 - val_accuracy: 0.7674\n",
      "Epoch 6/15\n",
      "59634/59634 [==============================] - 8s 127us/sample - loss: 0.7027 - accuracy: 0.7711 - val_loss: 0.7617 - val_accuracy: 0.7607\n",
      "Epoch 7/15\n",
      "59634/59634 [==============================] - 8s 137us/sample - loss: 0.6762 - accuracy: 0.7791 - val_loss: 0.7034 - val_accuracy: 0.7677\n",
      "Epoch 8/15\n",
      "59634/59634 [==============================] - 9s 151us/sample - loss: 0.6536 - accuracy: 0.7845 - val_loss: 0.8147 - val_accuracy: 0.7330\n",
      "Epoch 9/15\n",
      "59634/59634 [==============================] - 9s 144us/sample - loss: 0.6426 - accuracy: 0.7881 - val_loss: 0.7296 - val_accuracy: 0.7644\n",
      "Epoch 10/15\n",
      "59634/59634 [==============================] - 9s 149us/sample - loss: 0.6246 - accuracy: 0.7940 - val_loss: 0.7047 - val_accuracy: 0.7699\n",
      "Epoch 11/15\n",
      "59634/59634 [==============================] - 10s 171us/sample - loss: 0.6145 - accuracy: 0.7966 - val_loss: 0.7958 - val_accuracy: 0.7360\n",
      "Epoch 12/15\n",
      "59634/59634 [==============================] - 9s 153us/sample - loss: 0.6056 - accuracy: 0.7999 - val_loss: 0.7955 - val_accuracy: 0.7412\n",
      "Epoch 13/15\n",
      "59634/59634 [==============================] - 9s 154us/sample - loss: 0.6002 - accuracy: 0.8023 - val_loss: 0.7300 - val_accuracy: 0.7719\n",
      "Epoch 14/15\n",
      "59634/59634 [==============================] - 11s 180us/sample - loss: 0.5887 - accuracy: 0.8053 - val_loss: 0.7239 - val_accuracy: 0.7776\n",
      "Epoch 15/15\n",
      "59634/59634 [==============================] - 9s 146us/sample - loss: 0.5845 - accuracy: 0.8066 - val_loss: 0.7758 - val_accuracy: 0.7608\n"
     ]
    },
    {
     "data": {
      "text/plain": [
       "<tensorflow.python.keras.callbacks.History at 0x1ff554138c8>"
      ]
     },
     "execution_count": 35,
     "metadata": {},
     "output_type": "execute_result"
    }
   ],
   "source": [
    "model.fit(X_train, y_train, epochs=15, validation_data=(X_test, y_test),batch_size=1000)"
   ]
  },
  {
   "cell_type": "code",
   "execution_count": 36,
   "metadata": {},
   "outputs": [],
   "source": [
    "def predict_text():\n",
    "    text = input(\"Enter tweet: \")\n",
    "    text_features = tfidf.transform([clean_text(text)])\n",
    "    words_count = len(text.split(' '))\n",
    "    punct_count = len([x for x in text if x in (';', ':', ',', '.', '!', '?')])\n",
    "    stopwords_count = len([x for x in text if x in stopwords])\n",
    "    new_features=np.concatenate((text_features.toarray(),[[words_count, punct_count, stopwords_count]]), axis=1)\n",
    "    prediction = model.predict(new_features)\n",
    "    predicted_index = np.argmax(prediction)\n",
    "    return encoder.categories_[0][predicted_index]"
   ]
  },
  {
   "cell_type": "code",
   "execution_count": 37,
   "metadata": {},
   "outputs": [
    {
     "name": "stdout",
     "output_type": "stream",
     "text": [
      "Enter tweet: The Invisible Enemy will soon be in full retreat!\n"
     ]
    },
    {
     "data": {
      "text/plain": [
       "'DonaldTrump'"
      ]
     },
     "execution_count": 37,
     "metadata": {},
     "output_type": "execute_result"
    }
   ],
   "source": [
    "predict_text()"
   ]
  }
 ],
 "metadata": {
  "kernelspec": {
   "display_name": "Python 3",
   "language": "python",
   "name": "python3"
  },
  "language_info": {
   "codemirror_mode": {
    "name": "ipython",
    "version": 3
   },
   "file_extension": ".py",
   "mimetype": "text/x-python",
   "name": "python",
   "nbconvert_exporter": "python",
   "pygments_lexer": "ipython3",
   "version": "3.7.6"
  }
 },
 "nbformat": 4,
 "nbformat_minor": 4
}
