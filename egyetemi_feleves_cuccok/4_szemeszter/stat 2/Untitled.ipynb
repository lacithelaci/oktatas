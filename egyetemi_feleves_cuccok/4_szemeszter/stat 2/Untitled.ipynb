{
 "cells": [
  {
   "cell_type": "code",
   "execution_count": 3,
   "id": "df47f00c-e144-4507-a2a7-9ccdf069dc49",
   "metadata": {},
   "outputs": [
    {
     "name": "stdout",
     "output_type": "stream",
     "text": [
      "Meredekség (m): 31.07142857142857\n",
      "Tengelymetszet (b): 288.92857142857144\n"
     ]
    }
   ],
   "source": [
    "import numpy as np\n",
    "from sklearn.linear_model import LinearRegression\n",
    "\n",
    "# Példa adatok\n",
    "x = np.array([1, 2, 3, 4, 5, 6,7, 8]).reshape(-1, 1)  # X: független változó\n",
    "y = np.array([300,365,430,370,420,485,550,510])                # Y: célváltozó\n",
    "\n",
    "# Modell illesztése\n",
    "model = LinearRegression()\n",
    "model.fit(x, y)\n",
    "\n",
    "# Meredekség és tengelymetszet kiírása\n",
    "print(\"Meredekség (m):\", model.coef_[0])\n",
    "print(\"Tengelymetszet (b):\", model.intercept_)\n"
   ]
  },
  {
   "cell_type": "code",
   "execution_count": null,
   "id": "84688013-54f9-4c9f-8bfc-bbdb20eaadc9",
   "metadata": {},
   "outputs": [],
   "source": []
  }
 ],
 "metadata": {
  "kernelspec": {
   "display_name": "Python 3 (ipykernel)",
   "language": "python",
   "name": "python3"
  },
  "language_info": {
   "codemirror_mode": {
    "name": "ipython",
    "version": 3
   },
   "file_extension": ".py",
   "mimetype": "text/x-python",
   "name": "python",
   "nbconvert_exporter": "python",
   "pygments_lexer": "ipython3",
   "version": "3.12.7"
  }
 },
 "nbformat": 4,
 "nbformat_minor": 5
}
